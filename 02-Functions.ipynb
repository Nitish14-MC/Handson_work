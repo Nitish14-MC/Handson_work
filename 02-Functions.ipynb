{
 "cells": [
  {
   "cell_type": "markdown",
   "id": "92d0c953",
   "metadata": {},
   "source": [
    "# Functions:\n",
    "\n",
    "* A function is a block of code which only runs when it is called."
   ]
  },
  {
   "cell_type": "markdown",
   "id": "ad4d7a8a",
   "metadata": {},
   "source": [
    "## Creating a Function::\n",
    "\n",
    "* In Python a function is defined using the def keyword:"
   ]
  },
  {
   "cell_type": "code",
   "execution_count": 1,
   "id": "21630c37",
   "metadata": {},
   "outputs": [],
   "source": [
    "def my_function():\n",
    "  print(\"Hello from a function\")"
   ]
  },
  {
   "cell_type": "code",
   "execution_count": 2,
   "id": "1468aa6d",
   "metadata": {},
   "outputs": [
    {
     "name": "stdout",
     "output_type": "stream",
     "text": [
      "Hello from a function\n"
     ]
    }
   ],
   "source": [
    "my_function()"
   ]
  },
  {
   "cell_type": "markdown",
   "id": "5e2db10b",
   "metadata": {},
   "source": [
    "## Write a program to check whether 19,18,22 are even or odd??.Without function"
   ]
  },
  {
   "cell_type": "code",
   "execution_count": 3,
   "id": "9393ea7a",
   "metadata": {},
   "outputs": [
    {
     "name": "stdout",
     "output_type": "stream",
     "text": [
      "19 is odd\n",
      "18 is even\n",
      "22 is even\n"
     ]
    }
   ],
   "source": [
    "number1=19\n",
    "number2=18\n",
    "number3=22\n",
    "\n",
    "if (number1%2==0):\n",
    "    print('{} is even'.format(number1))\n",
    "else:\n",
    "    print('{} is odd'.format(number1))\n",
    "    \n",
    "if (number2%2==0):\n",
    "    print('{} is even'.format(number2))\n",
    "else:\n",
    "    print('{} is odd'.format(number2))\n",
    "    \n",
    "if (number3%2==0):\n",
    "    print('{} is even'.format(number3))\n",
    "else:\n",
    "    print('{} is odd'.format(number3))"
   ]
  },
  {
   "cell_type": "markdown",
   "id": "f9f4173f",
   "metadata": {},
   "source": [
    "## In the above program there is a repeatation of logic"
   ]
  },
  {
   "cell_type": "code",
   "execution_count": 4,
   "id": "c15b78a6",
   "metadata": {},
   "outputs": [],
   "source": [
    "def EvenOrOdd(number):\n",
    "    if(number%2==0):\n",
    "        print('{} is even'.format(number))\n",
    "    else:\n",
    "        print('{} is odd'.format(number))"
   ]
  },
  {
   "cell_type": "code",
   "execution_count": 7,
   "id": "06ecdca2",
   "metadata": {},
   "outputs": [
    {
     "name": "stdout",
     "output_type": "stream",
     "text": [
      "18 is even\n",
      "19 is odd\n",
      "22 is even\n"
     ]
    }
   ],
   "source": [
    "EvenOrOdd(18)\n",
    "EvenOrOdd(19)\n",
    "EvenOrOdd(22)"
   ]
  },
  {
   "cell_type": "code",
   "execution_count": 6,
   "id": "945224f3",
   "metadata": {},
   "outputs": [
    {
     "name": "stdout",
     "output_type": "stream",
     "text": [
      "23 is odd\n"
     ]
    }
   ],
   "source": [
    "EvenOrOdd(23)"
   ]
  },
  {
   "cell_type": "markdown",
   "id": "18b90d84",
   "metadata": {},
   "source": [
    "### Functions helps to avoid repetition of code"
   ]
  },
  {
   "cell_type": "markdown",
   "id": "60b686d5",
   "metadata": {},
   "source": [
    "## Docstrings::\n",
    "\n",
    "* Means document strings\n",
    "\n",
    "* used to describe the functionality of the function,it is optional but a good practice to use"
   ]
  },
  {
   "cell_type": "code",
   "execution_count": 3,
   "id": "01bc591f",
   "metadata": {},
   "outputs": [
    {
     "data": {
      "text/plain": [
       "'ADDITION OPERATION'"
      ]
     },
     "execution_count": 3,
     "metadata": {},
     "output_type": "execute_result"
    }
   ],
   "source": [
    "# calling the docstrings\n",
    "functionName.__doc__"
   ]
  },
  {
   "cell_type": "code",
   "execution_count": 7,
   "id": "b7944ce0",
   "metadata": {},
   "outputs": [
    {
     "name": "stdout",
     "output_type": "stream",
     "text": [
      "Return the number of items in a container.\n"
     ]
    }
   ],
   "source": [
    "print(len.__doc__)"
   ]
  },
  {
   "cell_type": "code",
   "execution_count": 6,
   "id": "84941722",
   "metadata": {},
   "outputs": [
    {
     "name": "stdout",
     "output_type": "stream",
     "text": [
      "print(value, ..., sep=' ', end='\\n', file=sys.stdout, flush=False)\n",
      "\n",
      "Prints the values to a stream, or to sys.stdout by default.\n",
      "Optional keyword arguments:\n",
      "file:  a file-like object (stream); defaults to the current sys.stdout.\n",
      "sep:   string inserted between values, default a space.\n",
      "end:   string appended after the last value, default a newline.\n",
      "flush: whether to forcibly flush the stream.\n"
     ]
    }
   ],
   "source": [
    "print(print.__doc__)"
   ]
  },
  {
   "cell_type": "code",
   "execution_count": 4,
   "id": "884bcb01",
   "metadata": {},
   "outputs": [],
   "source": [
    "# Syntax for docstrings::\n",
    "\n",
    "def functionName(parameters):\n",
    "    \"ADDITION OPERATION\"\n",
    "    statements"
   ]
  },
  {
   "cell_type": "code",
   "execution_count": null,
   "id": "20c5b1e7",
   "metadata": {},
   "outputs": [],
   "source": []
  },
  {
   "cell_type": "code",
   "execution_count": 9,
   "id": "79bb8ee9",
   "metadata": {},
   "outputs": [],
   "source": [
    "def EvenOrOdd(number):\n",
    "    \"This function is used to check whether a numbre is even or odd\"\n",
    "    if(number%2==0):\n",
    "        print('{} is even'.format(number))\n",
    "    else:\n",
    "        print('{} is odd'.format(number))"
   ]
  },
  {
   "cell_type": "code",
   "execution_count": 10,
   "id": "ded08c62",
   "metadata": {},
   "outputs": [
    {
     "name": "stdout",
     "output_type": "stream",
     "text": [
      "12 is even\n"
     ]
    }
   ],
   "source": [
    "EvenOrOdd(12)"
   ]
  },
  {
   "cell_type": "code",
   "execution_count": 14,
   "id": "e8cb2d16",
   "metadata": {},
   "outputs": [
    {
     "name": "stdout",
     "output_type": "stream",
     "text": [
      "This function is used to check whether a numbre is even or odd\n"
     ]
    }
   ],
   "source": [
    "print(EvenOrOdd.__doc__)"
   ]
  },
  {
   "cell_type": "code",
   "execution_count": 17,
   "id": "133a2a8a",
   "metadata": {},
   "outputs": [
    {
     "name": "stdout",
     "output_type": "stream",
     "text": [
      "print(value, ..., sep=' ', end='\\n', file=sys.stdout, flush=False)\n",
      "\n",
      "Prints the values to a stream, or to sys.stdout by default.\n",
      "Optional keyword arguments:\n",
      "file:  a file-like object (stream); defaults to the current sys.stdout.\n",
      "sep:   string inserted between values, default a space.\n",
      "end:   string appended after the last value, default a newline.\n",
      "flush: whether to forcibly flush the stream.\n"
     ]
    }
   ],
   "source": [
    "# Check the docstring of print keyword\n",
    "print(print.__doc__)"
   ]
  },
  {
   "cell_type": "code",
   "execution_count": 18,
   "id": "28a4b361",
   "metadata": {},
   "outputs": [
    {
     "name": "stdout",
     "output_type": "stream",
     "text": [
      "type(object_or_name, bases, dict)\n",
      "type(object) -> the object's type\n",
      "type(name, bases, dict) -> a new type\n"
     ]
    }
   ],
   "source": [
    "# Check the docstring of type keyword\n",
    "\n",
    "print(type.__doc__)"
   ]
  },
  {
   "cell_type": "markdown",
   "id": "26c467c6",
   "metadata": {},
   "source": [
    "## Returning from a fucntion::\n",
    "\n",
    "* Used to return data and exit from the function"
   ]
  },
  {
   "cell_type": "code",
   "execution_count": 19,
   "id": "50a6765a",
   "metadata": {},
   "outputs": [],
   "source": [
    "def CubeOfNumber(number):\n",
    "    number=number*number*number\n",
    "    return number"
   ]
  },
  {
   "cell_type": "code",
   "execution_count": 20,
   "id": "9e99636a",
   "metadata": {},
   "outputs": [
    {
     "data": {
      "text/plain": [
       "125"
      ]
     },
     "execution_count": 20,
     "metadata": {},
     "output_type": "execute_result"
    }
   ],
   "source": [
    "CubeOfNumber(5)"
   ]
  },
  {
   "cell_type": "code",
   "execution_count": null,
   "id": "d2db16dd",
   "metadata": {},
   "outputs": [],
   "source": []
  },
  {
   "cell_type": "code",
   "execution_count": null,
   "id": "87458fdc",
   "metadata": {},
   "outputs": [],
   "source": []
  },
  {
   "cell_type": "code",
   "execution_count": null,
   "id": "581b96b2",
   "metadata": {},
   "outputs": [],
   "source": []
  },
  {
   "cell_type": "code",
   "execution_count": null,
   "id": "89f727f4",
   "metadata": {},
   "outputs": [],
   "source": []
  },
  {
   "cell_type": "code",
   "execution_count": 21,
   "id": "8bc4d4e6",
   "metadata": {},
   "outputs": [],
   "source": [
    "# What will happen if there is no variable after return keyword::\n",
    "def CubeOfNumber(number):\n",
    "    number=number*number*number\n",
    "    return "
   ]
  },
  {
   "cell_type": "code",
   "execution_count": 23,
   "id": "58c07347",
   "metadata": {},
   "outputs": [
    {
     "name": "stdout",
     "output_type": "stream",
     "text": [
      "None\n"
     ]
    }
   ],
   "source": [
    "print(CubeOfNumber(5))"
   ]
  },
  {
   "cell_type": "code",
   "execution_count": 24,
   "id": "e043d327",
   "metadata": {},
   "outputs": [
    {
     "name": "stdout",
     "output_type": "stream",
     "text": [
      "20\n",
      "10\n"
     ]
    }
   ],
   "source": [
    "# What is the output of this program\n",
    "\n",
    "def luckyNumber(number):\n",
    "    number=20\n",
    "    return number\n",
    "\n",
    "number=10\n",
    "print(luckyNumber(number))\n",
    "print(number)"
   ]
  },
  {
   "cell_type": "markdown",
   "id": "7e375052",
   "metadata": {},
   "source": [
    "# Arguments:\n",
    "\n",
    "* Arguments are specified after the function name, inside the parentheses. You can add as many arguments as you want, just separate them with a comma."
   ]
  },
  {
   "cell_type": "markdown",
   "id": "801e6665",
   "metadata": {},
   "source": [
    "## Default arguments:\n",
    "\n",
    "* Default arguments refer to those arguments which are being utilized by a function when no other value is passed to that function"
   ]
  },
  {
   "cell_type": "code",
   "execution_count": 11,
   "id": "0f9c9b6d",
   "metadata": {},
   "outputs": [],
   "source": [
    "def power(x=70):\n",
    "    print(x)"
   ]
  },
  {
   "cell_type": "code",
   "execution_count": 12,
   "id": "6b46f673",
   "metadata": {},
   "outputs": [
    {
     "name": "stdout",
     "output_type": "stream",
     "text": [
      "70\n"
     ]
    }
   ],
   "source": [
    "power(x=80)"
   ]
  },
  {
   "cell_type": "code",
   "execution_count": 27,
   "id": "32489d04",
   "metadata": {},
   "outputs": [
    {
     "name": "stdout",
     "output_type": "stream",
     "text": [
      "70\n"
     ]
    }
   ],
   "source": [
    "power()"
   ]
  },
  {
   "cell_type": "markdown",
   "id": "ac23eb68",
   "metadata": {},
   "source": [
    "## Keyword arguments::\n",
    "\n",
    "* You can also send arguments with the key = value syntax.\n",
    "\n",
    "* This way the order of the arguments does not matter."
   ]
  },
  {
   "cell_type": "code",
   "execution_count": 13,
   "id": "a066c881",
   "metadata": {},
   "outputs": [],
   "source": [
    "def bottleDetails(name,color,capacity,height):\n",
    "    print(f\"{name},{color},{capacity},{height}\") # This is one way of writing format specifiers"
   ]
  },
  {
   "cell_type": "code",
   "execution_count": 14,
   "id": "7e58ec42",
   "metadata": {},
   "outputs": [
    {
     "name": "stdout",
     "output_type": "stream",
     "text": [
      "Kinley,red,1,5.5\n"
     ]
    }
   ],
   "source": [
    "bottleDetails('Kinley','red',1,5.5)"
   ]
  },
  {
   "cell_type": "code",
   "execution_count": 34,
   "id": "55363234",
   "metadata": {},
   "outputs": [],
   "source": [
    "def bottleDetails(name,color,capacity,height):\n",
    "    print(\"{},{},{},{}\".format(name,color,capacity,height)) # This is another way of writing format specifiers"
   ]
  },
  {
   "cell_type": "code",
   "execution_count": 35,
   "id": "d1d36d1f",
   "metadata": {},
   "outputs": [
    {
     "name": "stdout",
     "output_type": "stream",
     "text": [
      "Kinley,red,1,5.5\n"
     ]
    }
   ],
   "source": [
    "bottleDetails('Kinley','red',1,5.5)"
   ]
  },
  {
   "cell_type": "code",
   "execution_count": 38,
   "id": "28bbb97d",
   "metadata": {},
   "outputs": [],
   "source": [
    "def bottleDetails(name,color,capacity,height):\n",
    "    print(\"My name is {} and my color is {},my capacity is {},my height is {}\".format(name,color,capacity,height)) # This is another way of writing format specifiers"
   ]
  },
  {
   "cell_type": "code",
   "execution_count": 39,
   "id": "b9a536fb",
   "metadata": {},
   "outputs": [
    {
     "name": "stdout",
     "output_type": "stream",
     "text": [
      "My name is Kinley and my color is red,my capacity is 1,my height is 5.5\n"
     ]
    }
   ],
   "source": [
    "bottleDetails('Kinley','red',1,5.5)"
   ]
  },
  {
   "cell_type": "code",
   "execution_count": 40,
   "id": "ad7447cf",
   "metadata": {},
   "outputs": [],
   "source": [
    "# The above sequence is acceptable ,but what if there is any change in the passing order\n",
    "def bottleDetails(name,color,capacity,height):\n",
    "    print(\"My name is {} and my color is {},my capacity is {},my height is {}\".format(name,color,capacity,height)) # This is another way of writing format specifiers"
   ]
  },
  {
   "cell_type": "code",
   "execution_count": 41,
   "id": "89adb459",
   "metadata": {},
   "outputs": [
    {
     "name": "stdout",
     "output_type": "stream",
     "text": [
      "My name is red and my color is Kinley,my capacity is 1,my height is 5.5\n"
     ]
    }
   ],
   "source": [
    "bottleDetails('red','Kinley',1,5.5) "
   ]
  },
  {
   "cell_type": "markdown",
   "id": "9038270c",
   "metadata": {},
   "source": [
    "### The above output is completely wrong....to overcome this keyword arguments are used"
   ]
  },
  {
   "cell_type": "code",
   "execution_count": 42,
   "id": "e2cee4e3",
   "metadata": {},
   "outputs": [],
   "source": [
    "def bottleDetails(name,color,capacity,height):\n",
    "    print(\"My name is {} and my color is {},my capacity is {},my height is {}\".format(name,color,capacity,height))"
   ]
  },
  {
   "cell_type": "code",
   "execution_count": 43,
   "id": "a6acde97",
   "metadata": {},
   "outputs": [
    {
     "name": "stdout",
     "output_type": "stream",
     "text": [
      "My name is Kinley and my color is red,my capacity is 1,my height is 5.5\n"
     ]
    }
   ],
   "source": [
    "bottleDetails(color='red',name='Kinley',capacity=1,height=5.5) "
   ]
  },
  {
   "cell_type": "markdown",
   "id": "6888b15f",
   "metadata": {},
   "source": [
    "# VARIABLE NUMBER OF ARGUMENTS::If the arguments are variying with respect to time....Then it is called Variable argument\n",
    "\n",
    "* They are two types:: 1.*args( Arbitrary Arguments) and  2. ***kwargs (Arbitrary Keyword Arguments)"
   ]
  },
  {
   "cell_type": "markdown",
   "id": "f232248f",
   "metadata": {},
   "source": [
    "## Arbitrary Arguments, *args::\n",
    "\n",
    "* If you do not know how many arguments that will be passed into your function, add a * before the parameter name in the function definition.\n",
    "\n",
    "* This way the function will receive a tuple of arguments, and can access the items accordingly:"
   ]
  },
  {
   "cell_type": "code",
   "execution_count": 44,
   "id": "40075f76",
   "metadata": {},
   "outputs": [],
   "source": [
    "def printAll(*args):\n",
    "    print(args)"
   ]
  },
  {
   "cell_type": "code",
   "execution_count": 45,
   "id": "52e9eeb3",
   "metadata": {},
   "outputs": [
    {
     "name": "stdout",
     "output_type": "stream",
     "text": [
      "(1, 2, 3, 4, 5, 6)\n"
     ]
    }
   ],
   "source": [
    "printAll(1,2,3,4,5,6)"
   ]
  },
  {
   "cell_type": "code",
   "execution_count": 46,
   "id": "216e5cfb",
   "metadata": {},
   "outputs": [],
   "source": [
    "def printAll(*args):\n",
    "    for i in args:\n",
    "        print(i)"
   ]
  },
  {
   "cell_type": "code",
   "execution_count": 47,
   "id": "46e1a21b",
   "metadata": {},
   "outputs": [
    {
     "name": "stdout",
     "output_type": "stream",
     "text": [
      "1\n",
      "2\n",
      "3\n",
      "4\n",
      "5\n",
      "6\n"
     ]
    }
   ],
   "source": [
    "printAll(1,2,3,4,5,6)"
   ]
  },
  {
   "cell_type": "markdown",
   "id": "2f51e2a3",
   "metadata": {},
   "source": [
    "#### What is the output of this program::"
   ]
  },
  {
   "cell_type": "code",
   "execution_count": 49,
   "id": "26c19f69",
   "metadata": {},
   "outputs": [
    {
     "name": "stdout",
     "output_type": "stream",
     "text": [
      "24\n"
     ]
    }
   ],
   "source": [
    "def multiply(*args):\n",
    "    mult=1\n",
    "    for number in args:\n",
    "        mult=mult*number\n",
    "    return mult\n",
    "\n",
    "result=multiply(1,2,3,4)\n",
    "print(result)"
   ]
  },
  {
   "cell_type": "markdown",
   "id": "fa6ed324",
   "metadata": {},
   "source": [
    "#### What is the output of this program::"
   ]
  },
  {
   "cell_type": "code",
   "execution_count": 50,
   "id": "94a633ff",
   "metadata": {},
   "outputs": [
    {
     "name": "stdout",
     "output_type": "stream",
     "text": [
      "48\n"
     ]
    }
   ],
   "source": [
    "def multiply(start,*args):\n",
    "    mult=start\n",
    "    for number in args:\n",
    "        mult=mult*number\n",
    "    return mult\n",
    "\n",
    "result=multiply(2,1,2,3,4)\n",
    "print(result)"
   ]
  },
  {
   "cell_type": "markdown",
   "id": "d673b32e",
   "metadata": {},
   "source": [
    "### Arbitrary Keyword Arguments, **kwargs::\n",
    "\n",
    "* If you do not know how many keyword arguments that will be passed into your function, add two asterisk: ** before the parameter name in the function definition.\n",
    "\n",
    "* This way the function will receive a dictionary of arguments, and can access the items accordingly:"
   ]
  },
  {
   "cell_type": "code",
   "execution_count": 51,
   "id": "cce43ed4",
   "metadata": {},
   "outputs": [
    {
     "name": "stdout",
     "output_type": "stream",
     "text": [
      "His last name is Refsnes\n"
     ]
    }
   ],
   "source": [
    "def my_function(**kid):\n",
    "  print(\"His last name is \" + kid[\"lname\"])\n",
    "\n",
    "my_function(fname = \"Tobias\", lname = \"Refsnes\")"
   ]
  },
  {
   "cell_type": "markdown",
   "id": "a6e5f3c3",
   "metadata": {},
   "source": [
    "# Lambda::\n",
    "\n",
    "* A lambda function is a small anonymous function.\n",
    "\n",
    "* A lambda function can take any number of arguments, but can only have one expression."
   ]
  },
  {
   "cell_type": "code",
   "execution_count": 1,
   "id": "8ab52a7b",
   "metadata": {},
   "outputs": [],
   "source": [
    "# Syntax===>  lambda arguments : expression"
   ]
  },
  {
   "cell_type": "code",
   "execution_count": 2,
   "id": "bb9e6989",
   "metadata": {},
   "outputs": [
    {
     "name": "stdout",
     "output_type": "stream",
     "text": [
      "8\n"
     ]
    }
   ],
   "source": [
    "# Normal function::\n",
    "def cube(num):\n",
    "    return num*num*num\n",
    "print(cube(2))"
   ]
  },
  {
   "cell_type": "code",
   "execution_count": 3,
   "id": "184ac60b",
   "metadata": {},
   "outputs": [
    {
     "data": {
      "text/plain": [
       "<function __main__.<lambda>(num)>"
      ]
     },
     "execution_count": 3,
     "metadata": {},
     "output_type": "execute_result"
    }
   ],
   "source": [
    "lambda num:num*num*num"
   ]
  },
  {
   "cell_type": "code",
   "execution_count": 4,
   "id": "395e9194",
   "metadata": {},
   "outputs": [
    {
     "ename": "NameError",
     "evalue": "name 'num' is not defined",
     "output_type": "error",
     "traceback": [
      "\u001b[1;31m---------------------------------------------------------------------------\u001b[0m",
      "\u001b[1;31mNameError\u001b[0m                                 Traceback (most recent call last)",
      "\u001b[1;32m~\\AppData\\Local\\Temp/ipykernel_15324/4118756940.py\u001b[0m in \u001b[0;36m<module>\u001b[1;34m\u001b[0m\n\u001b[1;32m----> 1\u001b[1;33m \u001b[0mnum\u001b[0m\u001b[1;33m(\u001b[0m\u001b[1;36m3\u001b[0m\u001b[1;33m)\u001b[0m\u001b[1;33m\u001b[0m\u001b[1;33m\u001b[0m\u001b[0m\n\u001b[0m",
      "\u001b[1;31mNameError\u001b[0m: name 'num' is not defined"
     ]
    }
   ],
   "source": [
    "num(3) # This is a wrong way to call"
   ]
  },
  {
   "cell_type": "markdown",
   "id": "5805361b",
   "metadata": {},
   "source": [
    "## Calling lambda function::"
   ]
  },
  {
   "cell_type": "code",
   "execution_count": 5,
   "id": "8a61daf4",
   "metadata": {},
   "outputs": [
    {
     "name": "stdout",
     "output_type": "stream",
     "text": [
      "27\n"
     ]
    }
   ],
   "source": [
    "# This is one way of calling the lambda function\n",
    "result=(lambda num:num*num*num)(3)\n",
    "print(result)"
   ]
  },
  {
   "cell_type": "code",
   "execution_count": 6,
   "id": "262efe31",
   "metadata": {},
   "outputs": [
    {
     "name": "stdout",
     "output_type": "stream",
     "text": [
      "27\n"
     ]
    }
   ],
   "source": [
    "# Another way\n",
    "cube=lambda num:num*num*num\n",
    "print(cube(3))"
   ]
  },
  {
   "cell_type": "code",
   "execution_count": null,
   "id": "2b8c75a1",
   "metadata": {},
   "outputs": [],
   "source": []
  }
 ],
 "metadata": {
  "kernelspec": {
   "display_name": "Python 3 (ipykernel)",
   "language": "python",
   "name": "python3"
  },
  "language_info": {
   "codemirror_mode": {
    "name": "ipython",
    "version": 3
   },
   "file_extension": ".py",
   "mimetype": "text/x-python",
   "name": "python",
   "nbconvert_exporter": "python",
   "pygments_lexer": "ipython3",
   "version": "3.9.7"
  }
 },
 "nbformat": 4,
 "nbformat_minor": 5
}
