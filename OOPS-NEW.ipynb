{
 "cells": [
  {
   "cell_type": "markdown",
   "id": "f305cf64",
   "metadata": {},
   "source": [
    "# OOPS CONCEPTS::\n",
    "* object-oriented Programming (OOPs) is a programming paradigm that uses objects and classes in programming.\n",
    "\n",
    "* It aims to implement real-world entities like inheritance, polymorphisms, encapsulation, etc. in the programming.\n",
    "\n",
    "* The oops concept focuses on writing the reusable code\n",
    "\n",
    "1 .Class\n",
    "\n",
    "2 .Object\n",
    "\n",
    "3 .Inheritance :: Single,Multilevel,Hierarchical,Multiple\n",
    "\n",
    "4 .Polymorphism :: Compile time polymorphism, Run time polymorphism\n",
    "\n",
    "5 .Abstraction\n",
    "\n",
    "6 .Encapsulation & Data Hiding"
   ]
  },
  {
   "cell_type": "code",
   "execution_count": 1,
   "id": "23db17aa",
   "metadata": {},
   "outputs": [],
   "source": [
    "class Human:\n",
    "    color=\"white\"  # Attributes\n",
    "    height=5.11    # Attributes\n",
    "    \n",
    "    def run(self):  #Methods / Functions\n",
    "        print(\"Running...\")\n",
    "    def walk(self): #Methods / Functions\n",
    "        print(\"Walking...\")"
   ]
  },
  {
   "cell_type": "code",
   "execution_count": 2,
   "id": "206fe601",
   "metadata": {},
   "outputs": [
    {
     "ename": "NameError",
     "evalue": "name 'color' is not defined",
     "output_type": "error",
     "traceback": [
      "\u001b[1;31m---------------------------------------------------------------------------\u001b[0m",
      "\u001b[1;31mNameError\u001b[0m                                 Traceback (most recent call last)",
      "\u001b[1;32m~\\AppData\\Local\\Temp/ipykernel_8524/3284484695.py\u001b[0m in \u001b[0;36m<module>\u001b[1;34m\u001b[0m\n\u001b[1;32m----> 1\u001b[1;33m \u001b[0mprint\u001b[0m\u001b[1;33m(\u001b[0m\u001b[0mcolor\u001b[0m\u001b[1;33m)\u001b[0m \u001b[1;31m# Here you are trying to access the attributes of class directly.....This will give error\u001b[0m\u001b[1;33m\u001b[0m\u001b[1;33m\u001b[0m\u001b[0m\n\u001b[0m",
      "\u001b[1;31mNameError\u001b[0m: name 'color' is not defined"
     ]
    }
   ],
   "source": [
    "print(color) # Here you are trying to access the attributes of class directly.....This will give error"
   ]
  },
  {
   "cell_type": "code",
   "execution_count": 3,
   "id": "b1bbdbb1",
   "metadata": {},
   "outputs": [
    {
     "name": "stdout",
     "output_type": "stream",
     "text": [
      "white\n"
     ]
    }
   ],
   "source": [
    "print(Human.color)"
   ]
  },
  {
   "cell_type": "markdown",
   "id": "13c98815",
   "metadata": {},
   "source": [
    "#### Note::- we can't directly access the class attributes without creating an object......Hence it is mandatory to create an object for accessing the class attributes"
   ]
  },
  {
   "cell_type": "markdown",
   "id": "b4ac5d2d",
   "metadata": {},
   "source": [
    "# Object creation syntax:\n",
    "\n",
    "* obj_name=class_name()"
   ]
  },
  {
   "cell_type": "code",
   "execution_count": 4,
   "id": "2ba3f145",
   "metadata": {},
   "outputs": [
    {
     "name": "stdout",
     "output_type": "stream",
     "text": [
      "white 5.11\n",
      "Running...\n",
      "Walking...\n"
     ]
    }
   ],
   "source": [
    "class Human:\n",
    "    color=\"white\"  # Attributes\n",
    "    height=5.11    # Attributes\n",
    "    \n",
    "    def run(self):  #Methods / Functions\n",
    "        print(\"Running...\")\n",
    "    def walk(self): #Methods / Functions\n",
    "        print(\"Walking...\")\n",
    "        \n",
    "# Object Creation\n",
    "Nitish=Human()\n",
    "print(Nitish.color,Nitish.height) #Accessing the attributes after creating an object\n",
    "\n",
    "Nitish.run()  # Accessing the methods==> Methods are called using the object name\n",
    "Nitish.walk() # Accessing the methods"
   ]
  },
  {
   "cell_type": "markdown",
   "id": "64961678",
   "metadata": {},
   "source": [
    "## Can I access using class name-----Yes!! "
   ]
  },
  {
   "cell_type": "code",
   "execution_count": 3,
   "id": "2b3144c2",
   "metadata": {},
   "outputs": [
    {
     "name": "stdout",
     "output_type": "stream",
     "text": [
      "white\n"
     ]
    }
   ],
   "source": [
    "print(Human.color) # Yes,we can access the attributes using class .This is one another way than using objects"
   ]
  },
  {
   "cell_type": "code",
   "execution_count": 1,
   "id": "15b7d986",
   "metadata": {},
   "outputs": [
    {
     "name": "stdout",
     "output_type": "stream",
     "text": [
      "white 5.11\n",
      "Running...\n",
      "Walking...\n"
     ]
    }
   ],
   "source": [
    "class Human:\n",
    "    color=\"white\"  # Attributes\n",
    "    height=5.11    # Attributes\n",
    "    \n",
    "    def run(self):  #Methods / Functions\n",
    "        print(\"Running...\")\n",
    "    def walk(self): #Methods / Functions\n",
    "        print(\"Walking...\")\n",
    "        \n",
    "# Object Creation\n",
    "Nitish=Human()\n",
    "print(Nitish.color,Nitish.height) #Accessing the attributes after creating an object\n",
    "\n",
    "Nitish.run()  # Accessing the methods==> Methods are called using the object name\n",
    "Nitish.walk() # Accessing the methods"
   ]
  },
  {
   "cell_type": "markdown",
   "id": "2d091c06",
   "metadata": {},
   "source": [
    "####  Note: Here if you note color is white and height is 5.11....All persons cannot be with same color and same height...in the above program by default we have color as white and height as 5.11...."
   ]
  },
  {
   "cell_type": "markdown",
   "id": "e1bdbef2",
   "metadata": {},
   "source": [
    "#### So to create respective colors and height...Here we introduce,the concept of CONSTRUCTORS"
   ]
  },
  {
   "cell_type": "markdown",
   "id": "4e001372",
   "metadata": {},
   "source": [
    "###  Constructor:\n",
    "\n",
    "* --init--(self):\n",
    "\n",
    "<br><br>\n",
    "* Constructors are used for object initilization"
   ]
  },
  {
   "cell_type": "code",
   "execution_count": 2,
   "id": "c6d50576",
   "metadata": {},
   "outputs": [
    {
     "name": "stdout",
     "output_type": "stream",
     "text": [
      "Constructor\n",
      "Constructor\n",
      "Constructor\n"
     ]
    }
   ],
   "source": [
    "class Human:\n",
    "    \n",
    "    def __init__(self):\n",
    "        print(\"Constructor\")\n",
    "    def run(self):  #Methods / Functions\n",
    "        print(\"Running...\")\n",
    "    def walk(self): #Methods / Functions\n",
    "        print(\"Walking...\")\n",
    "        \n",
    "# Object Creation\n",
    "Nitish=Human()  # 1st obect is created\n",
    "Sam=Human()  # 2nd obect is created\n",
    "Rahul=Human() # 3rd obect is created\n"
   ]
  },
  {
   "cell_type": "markdown",
   "id": "6fd0ab20",
   "metadata": {},
   "source": [
    "### Here constructor is called or invoked whenever the object is created"
   ]
  },
  {
   "cell_type": "code",
   "execution_count": 3,
   "id": "68ea4152",
   "metadata": {},
   "outputs": [],
   "source": [
    "# Commenting the constructor\n",
    "\n",
    "class Human:\n",
    "    \n",
    "    #def __init__(self):\n",
    "       # print(\"Constructor\")\n",
    "    def run(self):  #Methods / Functions\n",
    "        print(\"Running...\")\n",
    "    def walk(self): #Methods / Functions\n",
    "        print(\"Walking...\")\n",
    "        \n",
    "# Object Creation\n",
    "Nitish=Human()  # 1st obect is created\n"
   ]
  },
  {
   "cell_type": "markdown",
   "id": "064b4539",
   "metadata": {},
   "source": [
    "####  Just object is created"
   ]
  },
  {
   "cell_type": "code",
   "execution_count": 4,
   "id": "ece0838c",
   "metadata": {},
   "outputs": [
    {
     "ename": "TypeError",
     "evalue": "__init__() missing 2 required positional arguments: 'color' and 'height'",
     "output_type": "error",
     "traceback": [
      "\u001b[1;31m---------------------------------------------------------------------------\u001b[0m",
      "\u001b[1;31mTypeError\u001b[0m                                 Traceback (most recent call last)",
      "\u001b[1;32m~\\AppData\\Local\\Temp/ipykernel_660/2005686310.py\u001b[0m in \u001b[0;36m<module>\u001b[1;34m\u001b[0m\n\u001b[0;32m     11\u001b[0m \u001b[1;33m\u001b[0m\u001b[0m\n\u001b[0;32m     12\u001b[0m \u001b[1;31m# Object Creation\u001b[0m\u001b[1;33m\u001b[0m\u001b[1;33m\u001b[0m\u001b[0m\n\u001b[1;32m---> 13\u001b[1;33m \u001b[0mNitish\u001b[0m\u001b[1;33m=\u001b[0m\u001b[0mHuman\u001b[0m\u001b[1;33m(\u001b[0m\u001b[1;33m)\u001b[0m\u001b[1;33m\u001b[0m\u001b[1;33m\u001b[0m\u001b[0m\n\u001b[0m\u001b[0;32m     14\u001b[0m \u001b[0mprint\u001b[0m\u001b[1;33m(\u001b[0m\u001b[0mNitish\u001b[0m\u001b[1;33m.\u001b[0m\u001b[0mcolor\u001b[0m\u001b[1;33m,\u001b[0m\u001b[0mNitish\u001b[0m\u001b[1;33m.\u001b[0m\u001b[0mheight\u001b[0m\u001b[1;33m)\u001b[0m \u001b[1;31m#Accessing the attributes after creating an object\u001b[0m\u001b[1;33m\u001b[0m\u001b[1;33m\u001b[0m\u001b[0m\n\u001b[0;32m     15\u001b[0m \u001b[1;33m\u001b[0m\u001b[0m\n",
      "\u001b[1;31mTypeError\u001b[0m: __init__() missing 2 required positional arguments: 'color' and 'height'"
     ]
    }
   ],
   "source": [
    "class Human:\n",
    "    \n",
    "    def __init__(self,color,height):\n",
    "        self.color=color\n",
    "        self.height=height\n",
    "    \n",
    "    def run(self):  #Methods / Functions\n",
    "        print(\"Running...\")\n",
    "    def walk(self): #Methods / Functions\n",
    "        print(\"Walking...\")\n",
    "        \n",
    "# Object Creation\n",
    "Nitish=Human()\n",
    "print(Nitish.color,Nitish.height) #Accessing the attributes after creating an object\n",
    "\n",
    "Nitish.run()  # Accessing the methods==> Methods are called using the object name\n",
    "Nitish.walk() # Accessing the methods"
   ]
  },
  {
   "cell_type": "code",
   "execution_count": 5,
   "id": "875f973c",
   "metadata": {},
   "outputs": [
    {
     "name": "stdout",
     "output_type": "stream",
     "text": [
      "Red 5.5\n",
      "Running...\n",
      "Walking...\n"
     ]
    }
   ],
   "source": [
    "class Human:\n",
    "    \n",
    "    def __init__(self,color,height):\n",
    "        self.color=color\n",
    "        self.height=height\n",
    "    \n",
    "    def run(self):  #Methods / Functions\n",
    "        print(\"Running...\")\n",
    "    def walk(self): #Methods / Functions\n",
    "        print(\"Walking...\")\n",
    "        \n",
    "# Object Creation\n",
    "Nitish=Human('Red',5.5)\n",
    "print(Nitish.color,Nitish.height) #Accessing the attributes after creating an object\n",
    "\n",
    "Nitish.run()  # Accessing the methods==> Methods are called using the object name\n",
    "Nitish.walk() # Accessing the methods"
   ]
  },
  {
   "cell_type": "code",
   "execution_count": 6,
   "id": "724705c3",
   "metadata": {},
   "outputs": [
    {
     "name": "stdout",
     "output_type": "stream",
     "text": [
      "Red 11\n",
      "Black 50\n",
      "Fair 65\n",
      "Running...\n",
      "Running...\n",
      "Running...\n"
     ]
    }
   ],
   "source": [
    "class Human:\n",
    "    \n",
    "    def __init__(self,color,height): # Here we are using some parameters which need to passed when the object is created\n",
    "        self.color=color\n",
    "        self.height=height\n",
    "    \n",
    "    def run(self):  #Methods / Functions\n",
    "        print(\"Running...\")\n",
    "    def walk(self): #Methods / Functions\n",
    "        print( \"Walking...\")\n",
    "        \n",
    "# First Object Creation\n",
    "Nitish=Human(\"Red\",11 )\n",
    "print(Nitish.color,Nitish.height) #Accessing the attributes after creating an object\n",
    "\n",
    "# Second Object Creation\n",
    "siva=Human(\"Black\",50)\n",
    "print(siva.color,siva.height)\n",
    "\n",
    "# Third Object Creation\n",
    "Krish=Human(\"Fair\",65)\n",
    "print(Krish.color,Krish.height)\n",
    "\n",
    "Nitish.run()\n",
    "siva.run()\n",
    "Krish.run()"
   ]
  },
  {
   "cell_type": "markdown",
   "id": "e0738c94",
   "metadata": {},
   "source": [
    "##  InHeritance Concepts:\n",
    "\n",
    "* Acquiring the properties of parent class"
   ]
  },
  {
   "cell_type": "code",
   "execution_count": 7,
   "id": "12e144fd",
   "metadata": {},
   "outputs": [
    {
     "name": "stdout",
     "output_type": "stream",
     "text": [
      "10 100\n",
      "Base Class\n"
     ]
    }
   ],
   "source": [
    "class BaseClass:\n",
    "    a=10\n",
    "    b=100\n",
    "    def display(self):\n",
    "        print(\"Base Class\")\n",
    "        \n",
    "class DerivedClass:\n",
    "    c=20\n",
    "    d=200\n",
    "    def show(self):\n",
    "        print(\"Derived Class\")\n",
    "        \n",
    "Bobject=BaseClass() # Creating object\n",
    "print(Bobject.a,Bobject.b) #Accessing attributes through object\n",
    "Bobject.display() # Accessing fucntion or method\n",
    "\n"
   ]
  },
  {
   "cell_type": "markdown",
   "id": "f6375851",
   "metadata": {},
   "source": [
    "####  Can I access DerivedClass attributes using BaseClass Object......Ans: No...It won't work"
   ]
  },
  {
   "cell_type": "code",
   "execution_count": 8,
   "id": "8149fe27",
   "metadata": {},
   "outputs": [
    {
     "ename": "AttributeError",
     "evalue": "'BaseClass' object has no attribute 'c'",
     "output_type": "error",
     "traceback": [
      "\u001b[1;31m---------------------------------------------------------------------------\u001b[0m",
      "\u001b[1;31mAttributeError\u001b[0m                            Traceback (most recent call last)",
      "\u001b[1;32m~\\AppData\\Local\\Temp/ipykernel_660/3038086622.py\u001b[0m in \u001b[0;36m<module>\u001b[1;34m\u001b[0m\n\u001b[1;32m----> 1\u001b[1;33m \u001b[0mprint\u001b[0m\u001b[1;33m(\u001b[0m\u001b[0mBobject\u001b[0m\u001b[1;33m.\u001b[0m\u001b[0mc\u001b[0m\u001b[1;33m,\u001b[0m\u001b[0mBobject\u001b[0m\u001b[1;33m.\u001b[0m\u001b[0md\u001b[0m\u001b[1;33m)\u001b[0m\u001b[1;33m\u001b[0m\u001b[1;33m\u001b[0m\u001b[0m\n\u001b[0m",
      "\u001b[1;31mAttributeError\u001b[0m: 'BaseClass' object has no attribute 'c'"
     ]
    }
   ],
   "source": [
    "print(Bobject.c,Bobject.d)"
   ]
  },
  {
   "cell_type": "markdown",
   "id": "9f150ac0",
   "metadata": {},
   "source": [
    "####  So what is the way to access DerivedClassattributes.....Ans:- Create object for Derived class "
   ]
  },
  {
   "cell_type": "code",
   "execution_count": 9,
   "id": "f550cf71",
   "metadata": {},
   "outputs": [
    {
     "name": "stdout",
     "output_type": "stream",
     "text": [
      "10 100\n",
      "Base Class\n",
      "\n",
      "20 200\n",
      "Derived Class\n"
     ]
    }
   ],
   "source": [
    "class BaseClass:\n",
    "    a=10\n",
    "    b=100\n",
    "    def display(self):\n",
    "        print(\"Base Class\")\n",
    "        \n",
    "class DerivedClass:\n",
    "    c=20\n",
    "    d=200\n",
    "    def show(self):\n",
    "        print(\"Derived Class\")\n",
    "        \n",
    "Bobject=BaseClass() # Creating object for BASE CLASS\n",
    "print(Bobject.a,Bobject.b) #Accessing attributes through object\n",
    "Bobject.display() # Accessing fucntion or method\n",
    "\n",
    "print() # For space\n",
    "\n",
    "Dobject=DerivedClass()  # Creating object for CHILD CLASS\n",
    "print(Dobject.c,Dobject.d)\n",
    "Dobject.show()\n"
   ]
  },
  {
   "cell_type": "markdown",
   "id": "7dd91baf",
   "metadata": {},
   "source": [
    "#### Now I am using the concept of INHERITANCE ..so that i can access both classes attributes and functions...without creating objects seperatly everytime"
   ]
  },
  {
   "cell_type": "markdown",
   "id": "a324c68f",
   "metadata": {},
   "source": [
    "###  Inheritance:\n",
    "\n",
    "* Syntax=======>Derivedclass(Baseclass)"
   ]
  },
  {
   "cell_type": "code",
   "execution_count": 11,
   "id": "2512ed1d",
   "metadata": {},
   "outputs": [
    {
     "name": "stdout",
     "output_type": "stream",
     "text": [
      "10 100\n",
      "20 200\n",
      "Base Class\n",
      "Derived Class\n"
     ]
    }
   ],
   "source": [
    "class BaseClass: # This is Parent class \n",
    "    a=10\n",
    "    b=100\n",
    "    def display(self):\n",
    "        print(\"Base Class\")\n",
    "        \n",
    "class DerivedClass(BaseClass): # This is child class\n",
    "    c=20\n",
    "    d=200\n",
    "    def show(self):\n",
    "        print(\"Derived Class\")\n",
    "        \n",
    "# Bobject=BaseClass() # Creating object for BASE CLASS\n",
    "# print(Bobject.a,Bobject.b) #Accessing attributes through object\n",
    "# Bobject.display() # Accessing fucntion or method\n",
    "\n",
    "# print() # For space\n",
    "\n",
    "# Dobject=DerivedClass() # Creating object for CHILD CLASS\n",
    "# print(Dobject.c,Dobject.d)\n",
    "# Dobject.show()\n",
    "\n",
    "'''\n",
    "Note:-In Inheritance:- Here no need to create two objects for accessing the attributes of both(base& parent class) \n",
    "\n",
    "      Why :-Because in inheritance child class derives the properties of parent class\n",
    "'''\n",
    "\n",
    "Dobject=DerivedClass()\n",
    "print(Dobject.a,Dobject.b) # Here we are trying to access the parent class attributes using Derived class object\n",
    "print(Dobject.c,Dobject.d)\n",
    "Dobject.display() # Here we are trying to access the parent class method using Derived class object\n",
    "Dobject.show() "
   ]
  },
  {
   "cell_type": "code",
   "execution_count": 12,
   "id": "88d0081a",
   "metadata": {},
   "outputs": [
    {
     "name": "stdout",
     "output_type": "stream",
     "text": [
      "10 100\n"
     ]
    }
   ],
   "source": [
    "class BaseClass: # This is Parent class \n",
    "    a=10\n",
    "    b=100\n",
    "    def display(self):\n",
    "        print(\"Base Class\")\n",
    "        \n",
    "class DerivedClass(BaseClass): # This is child class\n",
    "    c=20\n",
    "    d=200\n",
    "    def show(self):\n",
    "        print(\"Derived Class\")\n",
    "        \n",
    "Bobject=BaseClass()\n",
    "print(Bobject.a,Bobject.b)"
   ]
  },
  {
   "cell_type": "code",
   "execution_count": 13,
   "id": "86b0ce2f",
   "metadata": {},
   "outputs": [
    {
     "ename": "AttributeError",
     "evalue": "'BaseClass' object has no attribute 'c'",
     "output_type": "error",
     "traceback": [
      "\u001b[1;31m---------------------------------------------------------------------------\u001b[0m",
      "\u001b[1;31mAttributeError\u001b[0m                            Traceback (most recent call last)",
      "\u001b[1;32m~\\AppData\\Local\\Temp/ipykernel_660/3038086622.py\u001b[0m in \u001b[0;36m<module>\u001b[1;34m\u001b[0m\n\u001b[1;32m----> 1\u001b[1;33m \u001b[0mprint\u001b[0m\u001b[1;33m(\u001b[0m\u001b[0mBobject\u001b[0m\u001b[1;33m.\u001b[0m\u001b[0mc\u001b[0m\u001b[1;33m,\u001b[0m\u001b[0mBobject\u001b[0m\u001b[1;33m.\u001b[0m\u001b[0md\u001b[0m\u001b[1;33m)\u001b[0m\u001b[1;33m\u001b[0m\u001b[1;33m\u001b[0m\u001b[0m\n\u001b[0m",
      "\u001b[1;31mAttributeError\u001b[0m: 'BaseClass' object has no attribute 'c'"
     ]
    }
   ],
   "source": [
    "# Here we will get error\n",
    "print(Bobject.c,Bobject.d)"
   ]
  },
  {
   "cell_type": "markdown",
   "id": "0ac3299a",
   "metadata": {},
   "source": [
    "##  Why error:- If you clearly notice here we are deriving the properties of base class to the derived class......Here we are not inheriting the derived class properties to the parent class( WHICH IS NOT-LOGICAL)\n",
    "\n",
    "\n",
    "\n",
    "* <b>Conclusion:</b> In Inheritance child class can access the properties/attributes of parent class"
   ]
  },
  {
   "cell_type": "markdown",
   "id": "f7dea8db",
   "metadata": {},
   "source": [
    "## Single Inheritance Example::"
   ]
  },
  {
   "cell_type": "code",
   "execution_count": 16,
   "id": "d8ad1599",
   "metadata": {},
   "outputs": [
    {
     "name": "stdout",
     "output_type": "stream",
     "text": [
      "10 100\n",
      "Base Class\n",
      "\n",
      "SINGLE INHERITANCE\n",
      "\n",
      "20 200\n",
      "Derived Class\n"
     ]
    }
   ],
   "source": [
    "class BaseClass: # This is Parent class \n",
    "    a=10\n",
    "    b=100\n",
    "    def display(self):\n",
    "        print(\"Base Class\")\n",
    "        \n",
    "class DerivedClass(BaseClass): # This is child class\n",
    "    c=20\n",
    "    d=200\n",
    "    def show(self):\n",
    "        print(\"Derived Class\")\n",
    "        \n",
    "# Bobject=BaseClass() # Creating object for BASE CLASS\n",
    "# print(Bobject.a,Bobject.b) #Accessing attributes through object\n",
    "# Bobject.display() # Accessing fucntion or method\n",
    "\n",
    "# print() # For space\n",
    "\n",
    "# Dobject=DerivedClass() # Creating object for CHILD CLASS\n",
    "# print(Dobject.c,Dobject.d)\n",
    "# Dobject.show()\n",
    "\n",
    "'''\n",
    "Note:-In Inheritance:- Here no need to create two objects for accessing the attributes of both(base& parent class) \n",
    "\n",
    "      Why :-Because in inheritance child class derives the properties of parent class\n",
    "'''\n",
    "\n",
    "Dobject=DerivedClass()\n",
    "print(Dobject.a,Dobject.b) # Here we are trying to access the parent class attributes using Derived class object\n",
    "Dobject.display() # Here we are trying to access the parent class method using Derived class object\n",
    "print()\n",
    "print(\"SINGLE INHERITANCE\")\n",
    "print()\n",
    "Dobject=DerivedClass()\n",
    "print(Dobject.c,Dobject.d)\n",
    "Dobject.show()"
   ]
  },
  {
   "attachments": {
    "image.png": {
     "image/png": "[encoded data removed]"
    }
   },
   "cell_type": "markdown",
   "id": "d8292e56",
   "metadata": {},
   "source": [
    "## Multi-level Inheritance \n",
    "![image.png](attachment:image.png)"
   ]
  },
  {
   "cell_type": "code",
   "execution_count": 18,
   "id": "7dc18600",
   "metadata": {},
   "outputs": [
    {
     "name": "stdout",
     "output_type": "stream",
     "text": [
      "10 100\n",
      "Grand parent class\n",
      "\n",
      "20 200 45 75\n",
      "Grand parent class\n",
      "Parent class\n",
      "Child class\n",
      "\n",
      "10 100\n",
      "Grand parent class\n"
     ]
    }
   ],
   "source": [
    "class Grandparent:\n",
    "    a=10\n",
    "    b=100\n",
    "    \n",
    "    def show(self):\n",
    "        print(\"Grand parent class\")\n",
    "        \n",
    "class Parent(Grandparent):\n",
    "    c=20\n",
    "    d=200\n",
    "    \n",
    "    def display(self):\n",
    "        print(\"Parent class\")\n",
    "        \n",
    "class Child(Parent):\n",
    "    e=45\n",
    "    f=75\n",
    "    \n",
    "    def see(self):\n",
    "        print(\"Child class\")\n",
    "\n",
    "        \n",
    "#Parent can access the attributes and functions of Grandparent\n",
    "Pt=Parent()\n",
    "print(Pt.a,Pt.b)\n",
    "Pt.show()\n",
    "\n",
    "print()\n",
    "# Child can access the properties and functions of Grandparent and parent\n",
    "Ch=Child()\n",
    "print(Ch.c,Ch.d,Ch.e,Ch.f)\n",
    "Ch.show()\n",
    "Ch.display()\n",
    "Ch.see()\n",
    "print()\n",
    "\n",
    "# Grandparent can access only the attributes of Grandparent...It cannot access the attributes of PARENT & CHILD\n",
    "Gp=Grandparent()\n",
    "print(Gp.a,Gp.b)\n",
    "Gp.show()\n"
   ]
  },
  {
   "cell_type": "code",
   "execution_count": 19,
   "id": "18b879ae",
   "metadata": {},
   "outputs": [
    {
     "ename": "AttributeError",
     "evalue": "'Grandparent' object has no attribute 'c'",
     "output_type": "error",
     "traceback": [
      "\u001b[1;31m---------------------------------------------------------------------------\u001b[0m",
      "\u001b[1;31mAttributeError\u001b[0m                            Traceback (most recent call last)",
      "\u001b[1;32m~\\AppData\\Local\\Temp/ipykernel_660/384990619.py\u001b[0m in \u001b[0;36m<module>\u001b[1;34m\u001b[0m\n\u001b[0;32m      1\u001b[0m \u001b[1;31m# Grandparent can access only the attributes of Grandparent...It cannot access the attributes of PARENT & CHILD\u001b[0m\u001b[1;33m\u001b[0m\u001b[1;33m\u001b[0m\u001b[0m\n\u001b[1;32m----> 2\u001b[1;33m \u001b[0mprint\u001b[0m\u001b[1;33m(\u001b[0m\u001b[0mGp\u001b[0m\u001b[1;33m.\u001b[0m\u001b[0mc\u001b[0m\u001b[1;33m,\u001b[0m\u001b[0mGp\u001b[0m\u001b[1;33m.\u001b[0m\u001b[0md\u001b[0m\u001b[1;33m,\u001b[0m\u001b[0mGp\u001b[0m\u001b[1;33m.\u001b[0m\u001b[0me\u001b[0m\u001b[1;33m,\u001b[0m\u001b[0mGp\u001b[0m\u001b[1;33m.\u001b[0m\u001b[0mf\u001b[0m\u001b[1;33m)\u001b[0m\u001b[1;33m\u001b[0m\u001b[1;33m\u001b[0m\u001b[0m\n\u001b[0m",
      "\u001b[1;31mAttributeError\u001b[0m: 'Grandparent' object has no attribute 'c'"
     ]
    }
   ],
   "source": [
    "# Grandparent can access only the attributes of Grandparent...It cannot access the attributes of PARENT & CHILD\n",
    "print(Gp.c,Gp.d,Gp.e,Gp.f)"
   ]
  },
  {
   "attachments": {
    "image.png": {
     "image/png": "[encoded data removed]"
    }
   },
   "cell_type": "markdown",
   "id": "601cb8de",
   "metadata": {},
   "source": [
    "## Hierarchical Inheritance:: One parent & Multiple children\n",
    "\n",
    "![image.png](attachment:image.png)"
   ]
  },
  {
   "cell_type": "code",
   "execution_count": 20,
   "id": "93d822ec",
   "metadata": {},
   "outputs": [
    {
     "name": "stdout",
     "output_type": "stream",
     "text": [
      "10 20 30 40\n",
      "Child class1\n",
      "Base Class-Parent class\n",
      "\n",
      "10 20 50 60\n",
      "Base Class-Parent class\n",
      "Child class2\n"
     ]
    }
   ],
   "source": [
    "class BaseClass:\n",
    "    a=10\n",
    "    b=20\n",
    "    \n",
    "    def Bc(self):\n",
    "        print(\"Base Class-Parent class\")\n",
    "        \n",
    "class Child1(BaseClass):\n",
    "    c=30\n",
    "    d=40\n",
    "    \n",
    "    def c1(self):\n",
    "        print(\"Child class1\")\n",
    "        \n",
    "class Child2(BaseClass):\n",
    "    e=50\n",
    "    f=60\n",
    "    \n",
    "    def c2(self):\n",
    "        print(\"Child class2\")\n",
    "        \n",
    "        \n",
    "# Child1 class can access the attributes  and functions of Baseclass and Child1 class\n",
    "\n",
    "ChOne=Child1()\n",
    "print(ChOne.a,ChOne.b,ChOne.c,ChOne.d)\n",
    "ChOne.c1()\n",
    "ChOne.Bc()\n",
    "print()\n",
    "\n",
    "# Child2 class can access the attributes and functions of Baseclass and Child2 class\n",
    "ChTwo=Child2()\n",
    "print(ChTwo.a,ChTwo.b,ChTwo.e,ChTwo.f)\n",
    "ChTwo.Bc()\n",
    "ChTwo.c2()"
   ]
  },
  {
   "cell_type": "code",
   "execution_count": 21,
   "id": "f8d775d2",
   "metadata": {},
   "outputs": [
    {
     "ename": "AttributeError",
     "evalue": "'Child1' object has no attribute 'e'",
     "output_type": "error",
     "traceback": [
      "\u001b[1;31m---------------------------------------------------------------------------\u001b[0m",
      "\u001b[1;31mAttributeError\u001b[0m                            Traceback (most recent call last)",
      "\u001b[1;32m~\\AppData\\Local\\Temp/ipykernel_660/4128974838.py\u001b[0m in \u001b[0;36m<module>\u001b[1;34m\u001b[0m\n\u001b[0;32m      2\u001b[0m \u001b[1;33m\u001b[0m\u001b[0m\n\u001b[0;32m      3\u001b[0m \u001b[0mChOne\u001b[0m\u001b[1;33m=\u001b[0m\u001b[0mChild1\u001b[0m\u001b[1;33m(\u001b[0m\u001b[1;33m)\u001b[0m\u001b[1;33m\u001b[0m\u001b[1;33m\u001b[0m\u001b[0m\n\u001b[1;32m----> 4\u001b[1;33m \u001b[0mprint\u001b[0m\u001b[1;33m(\u001b[0m\u001b[0mChOne\u001b[0m\u001b[1;33m.\u001b[0m\u001b[0me\u001b[0m\u001b[1;33m,\u001b[0m\u001b[0mChOne\u001b[0m\u001b[1;33m.\u001b[0m\u001b[0mf\u001b[0m\u001b[1;33m)\u001b[0m\u001b[1;33m\u001b[0m\u001b[1;33m\u001b[0m\u001b[0m\n\u001b[0m\u001b[0;32m      5\u001b[0m \u001b[1;33m\u001b[0m\u001b[0m\n",
      "\u001b[1;31mAttributeError\u001b[0m: 'Child1' object has no attribute 'e'"
     ]
    }
   ],
   "source": [
    "#child1 cannot access the attributes and functions of Child2 class\n",
    "\n",
    "ChOne=Child1()\n",
    "print(ChOne.e,ChOne.f)\n",
    "\n"
   ]
  },
  {
   "attachments": {
    "image.png": {
     "image/png": "[encoded data removed]"
    }
   },
   "cell_type": "markdown",
   "id": "d09e2f1d",
   "metadata": {},
   "source": [
    "##  Multiple Inheritance:\n",
    "\n",
    "![image.png](attachment:image.png)"
   ]
  },
  {
   "cell_type": "code",
   "execution_count": 22,
   "id": "8cbac546",
   "metadata": {},
   "outputs": [
    {
     "name": "stdout",
     "output_type": "stream",
     "text": [
      "2 3 8 9\n",
      "Base class1-Father\n",
      "Base Class2-Mother\n"
     ]
    }
   ],
   "source": [
    "class Father:  # This is independent class(Reason:- It is not deriving any properties)\n",
    "    a=2\n",
    "    b=3\n",
    "    \n",
    "    def fdisplay(self):\n",
    "        print(\"Base class1-Father\")\n",
    "        \n",
    "class Mother: # This is independent class(Reason:- It is not deriving any properties)\n",
    "    c=8\n",
    "    d=9\n",
    "    \n",
    "    def mdisplay(self):\n",
    "        print(\"Base Class2-Mother\")\n",
    "        \n",
    "class Derived(Father,Mother): # Multiple inheritance\n",
    "    pass\n",
    "\n",
    "Dchild=Derived()\n",
    "print(Dchild.a,Dchild.b,Dchild.c,Dchild.d)\n",
    "Dchild.fdisplay()\n",
    "Dchild.mdisplay()"
   ]
  },
  {
   "cell_type": "markdown",
   "id": "3d3f262e",
   "metadata": {},
   "source": [
    "# Hybrid inheritance means multiple types of inheritance( ie,single.mutiple,multi-level,hierarchical)"
   ]
  },
  {
   "cell_type": "code",
   "execution_count": null,
   "id": "3c800d83",
   "metadata": {},
   "outputs": [],
   "source": []
  },
  {
   "cell_type": "markdown",
   "id": "873fca72",
   "metadata": {},
   "source": [
    "##  Polymorphism:\n",
    "\n",
    "* Implementing same thing in different ways\n",
    "<br><br>\n",
    "* we have two polymorphisms:- ( a ) Compile time polymorphism and (b) Run time polymorphism\n",
    "\n",
    "* Compile time polymorphism is achieved through method overloading.PYTHON DON'T SUPPORT COMPILE TIME POLYMORPHISM\n",
    "\n",
    "* Run time polymorphism is achieved through method over-ridding.PYTHON  SUPPORTS RUN TIME POLYMORPHISM"
   ]
  },
  {
   "cell_type": "markdown",
   "id": "c1ce042b",
   "metadata": {},
   "source": [
    "### Python don't support method overloading:"
   ]
  },
  {
   "cell_type": "code",
   "execution_count": 4,
   "id": "32fc084e",
   "metadata": {},
   "outputs": [
    {
     "name": "stdout",
     "output_type": "stream",
     "text": [
      "20\n"
     ]
    }
   ],
   "source": [
    "a=5\n",
    "a=10\n",
    "a=20\n",
    "print(a)"
   ]
  },
  {
   "cell_type": "code",
   "execution_count": 5,
   "id": "810f4c6e",
   "metadata": {},
   "outputs": [
    {
     "name": "stdout",
     "output_type": "stream",
     "text": [
      "30\n"
     ]
    }
   ],
   "source": [
    "# Proof::\n",
    "\n",
    "class Demo:\n",
    "    def add(self,a,b): # Here no parameters are given\n",
    "        a=10\n",
    "        b=100\n",
    "        print(a,b)\n",
    "    def add(self,a,b): #here two parameters are given\n",
    "        print(a+b)\n",
    "        \n",
    "obj=Demo()\n",
    "obj.add(10,20)"
   ]
  },
  {
   "cell_type": "code",
   "execution_count": 24,
   "id": "dc10e91d",
   "metadata": {},
   "outputs": [
    {
     "name": "stdout",
     "output_type": "stream",
     "text": [
      "400\n",
      "600\n"
     ]
    }
   ],
   "source": [
    "# Method over-loading supports while using default parameters\n",
    "class Demo:\n",
    "    def add(self,a,b,c=100):\n",
    "        print(a+b+c)\n",
    "obj=Demo()\n",
    "obj.add(100,200)\n",
    "obj.add(100,200,300)"
   ]
  },
  {
   "cell_type": "markdown",
   "id": "900461cd",
   "metadata": {},
   "source": [
    "###  From above it is clear that python wont support method overloading--->Python supports method overridding"
   ]
  },
  {
   "cell_type": "markdown",
   "id": "e1bf20b1",
   "metadata": {},
   "source": [
    "###  But there is way to achieve method overloading in python----> By using default arguments"
   ]
  },
  {
   "cell_type": "code",
   "execution_count": 25,
   "id": "541f5a4f",
   "metadata": {},
   "outputs": [
    {
     "name": "stdout",
     "output_type": "stream",
     "text": [
      "500\n",
      "400\n"
     ]
    }
   ],
   "source": [
    "# METHOD OVERLOADING IS EXPLAINED IN THIS EXAMPLE\n",
    "# METHOD OVERLOADING IS known as COMPILE TIME POLYMORPHISM\n",
    "# Acheiving method overloading using default arguments\n",
    "\n",
    "class Demo:\n",
    "    def add(self,a,b,c=100,d=200):\n",
    "        print(a+b+c+d)\n",
    "obj=Demo()\n",
    "obj.add(150,50) # Here we are using default values to support overloading concept in python\n",
    "obj.add(100,100,100,100) # values are over-ridding here"
   ]
  },
  {
   "cell_type": "markdown",
   "id": "5dcdcc39",
   "metadata": {},
   "source": [
    "###  Above we have achieved compile-time polymorphism"
   ]
  },
  {
   "cell_type": "markdown",
   "id": "523dc900",
   "metadata": {},
   "source": [
    "# ============================================================\n"
   ]
  },
  {
   "cell_type": "markdown",
   "id": "d9f35bf5",
   "metadata": {},
   "source": [
    "## Run time polymorphism: We use inheritance concept in RUN TIME POLYMORPHISM"
   ]
  },
  {
   "cell_type": "code",
   "execution_count": 26,
   "id": "0f515998",
   "metadata": {},
   "outputs": [
    {
     "name": "stdout",
     "output_type": "stream",
     "text": [
      "BIKE\n"
     ]
    }
   ],
   "source": [
    "# METHOD OVER-RIDING IS EXPLAINED HERE\n",
    "# Method Over ridding is known as RUN TIME POLYMORPHISM\n",
    "# In over-riding method name should be same\n",
    "\n",
    "\n",
    "\n",
    "\n",
    "class Parent:\n",
    "    def transportation(self):\n",
    "        print(\"CYCLE\")\n",
    "        \n",
    "class Child(Parent): # Here we are susin\n",
    "    def transportation(self):\n",
    "        print(\"BIKE\")\n",
    "        \n",
    "c=Child()\n",
    "c.transportation() # Here parent class method is over-ridded by the child class method"
   ]
  },
  {
   "cell_type": "markdown",
   "id": "2f831f3e",
   "metadata": {},
   "source": [
    "### Therefore in the above example we implemented the same thing in two different ways-----> Which is known as POLYMORPHISM"
   ]
  },
  {
   "cell_type": "code",
   "execution_count": null,
   "id": "25d30621",
   "metadata": {},
   "outputs": [],
   "source": []
  },
  {
   "cell_type": "markdown",
   "id": "328846b7",
   "metadata": {},
   "source": [
    "# Abstraction:\n",
    "\n",
    "* Abstraction means hiding the implementation and showing only the essential parts\n",
    "\n",
    "* Here we use inheritance\n",
    "\n",
    "* here we need to implement module named \"abc\"  which means A-abstract,B-Base , C-Class"
   ]
  },
  {
   "cell_type": "markdown",
   "id": "86065a79",
   "metadata": {},
   "source": [
    "### Abstract Class:\n",
    "\n",
    "* A class is called as Abstract class only if it has atleast ONE ABSTRACT METHOD in it"
   ]
  },
  {
   "cell_type": "markdown",
   "id": "12ebe92b",
   "metadata": {},
   "source": [
    "### What is abstract method:\n",
    "\n",
    "* Only function call with empty definition\n",
    "\n",
    "* To implement we use decorator\n",
    "\n",
    "* Here the decorator is @abstract\n",
    "\n",
    "* We cannot create object for abstract class, here we can create objects using concrete class"
   ]
  },
  {
   "cell_type": "code",
   "execution_count": 1,
   "id": "89e3e97a",
   "metadata": {},
   "outputs": [
    {
     "ename": "TypeError",
     "evalue": "Can't instantiate abstract class AbstractDemo with abstract methods HousingInterest, VehicleInterest",
     "output_type": "error",
     "traceback": [
      "\u001b[1;31m---------------------------------------------------------------------------\u001b[0m",
      "\u001b[1;31mTypeError\u001b[0m                                 Traceback (most recent call last)",
      "\u001b[1;32m~\\AppData\\Local\\Temp/ipykernel_14732/46853457.py\u001b[0m in \u001b[0;36m<module>\u001b[1;34m\u001b[0m\n\u001b[0;32m      7\u001b[0m     \u001b[1;32mdef\u001b[0m \u001b[0mVehicleInterest\u001b[0m\u001b[1;33m(\u001b[0m\u001b[0mself\u001b[0m\u001b[1;33m)\u001b[0m\u001b[1;33m:\u001b[0m\u001b[1;33m\u001b[0m\u001b[1;33m\u001b[0m\u001b[0m\n\u001b[0;32m      8\u001b[0m         \u001b[1;32mNone\u001b[0m\u001b[1;33m\u001b[0m\u001b[1;33m\u001b[0m\u001b[0m\n\u001b[1;32m----> 9\u001b[1;33m \u001b[0mobj\u001b[0m\u001b[1;33m=\u001b[0m\u001b[0mAbstractDemo\u001b[0m\u001b[1;33m(\u001b[0m\u001b[1;33m)\u001b[0m\u001b[1;33m\u001b[0m\u001b[1;33m\u001b[0m\u001b[0m\n\u001b[0m",
      "\u001b[1;31mTypeError\u001b[0m: Can't instantiate abstract class AbstractDemo with abstract methods HousingInterest, VehicleInterest"
     ]
    }
   ],
   "source": [
    "from abc import ABC,abstractmethod\n",
    "class AbstractDemo(ABC):\n",
    "    @abstractmethod\n",
    "    def HousingInterest(self):\n",
    "        None\n",
    "    @abstractmethod\n",
    "    def VehicleInterest(self):\n",
    "        None\n",
    "obj=AbstractDemo() # We will get error because of this"
   ]
  },
  {
   "cell_type": "markdown",
   "id": "00c6178f",
   "metadata": {},
   "source": [
    "## Note:: We cannot create object using abstract class"
   ]
  },
  {
   "cell_type": "code",
   "execution_count": 3,
   "id": "77e69c94",
   "metadata": {},
   "outputs": [
    {
     "name": "stdout",
     "output_type": "stream",
     "text": [
      "Housing interest 8.5%\n",
      "VehicleInterest 9.5%\n"
     ]
    }
   ],
   "source": [
    "from abc import ABC,abstractmethod\n",
    "class AbstractDemo(ABC):                                     # This is ABSTRACT CLASS\n",
    "    @abstractmethod\n",
    "    def HousingInterest(self):\n",
    "        None\n",
    "    @abstractmethod\n",
    "    def VehicleInterest(self):\n",
    "        None\n",
    "        \n",
    "#In the above we cannot create objects.....       \n",
    "# Create another class to overcome the above error\n",
    "\n",
    "class SBI(AbstractDemo):                                    # This is Concrete class                     \n",
    "    def HousingInterest(self):\n",
    "        print(\"Housing interest 8.5%\")\n",
    "        \n",
    "    def VehicleInterest(self):\n",
    "        print(\"VehicleInterest 9.5%\")\n",
    "        \n",
    "sbiobj=SBI() # Here the object is created\n",
    "sbiobj.HousingInterest()\n",
    "sbiobj.VehicleInterest()"
   ]
  },
  {
   "cell_type": "markdown",
   "id": "6d38e4f0",
   "metadata": {},
   "source": [
    "## In the below program we let's see what happens if we comment one of method"
   ]
  },
  {
   "cell_type": "code",
   "execution_count": 4,
   "id": "d6337e06",
   "metadata": {},
   "outputs": [
    {
     "ename": "TypeError",
     "evalue": "Can't instantiate abstract class SBI with abstract method VehicleInterest",
     "output_type": "error",
     "traceback": [
      "\u001b[1;31m---------------------------------------------------------------------------\u001b[0m",
      "\u001b[1;31mTypeError\u001b[0m                                 Traceback (most recent call last)",
      "\u001b[1;32m~\\AppData\\Local\\Temp/ipykernel_14732/1858181249.py\u001b[0m in \u001b[0;36m<module>\u001b[1;34m\u001b[0m\n\u001b[0;32m     18\u001b[0m      \u001b[1;31m#   print(\"VehicleInterest 9.5%\")\u001b[0m\u001b[1;33m\u001b[0m\u001b[1;33m\u001b[0m\u001b[0m\n\u001b[0;32m     19\u001b[0m \u001b[1;33m\u001b[0m\u001b[0m\n\u001b[1;32m---> 20\u001b[1;33m \u001b[0msbiobj\u001b[0m\u001b[1;33m=\u001b[0m\u001b[0mSBI\u001b[0m\u001b[1;33m(\u001b[0m\u001b[1;33m)\u001b[0m \u001b[1;31m# Here the object is created\u001b[0m\u001b[1;33m\u001b[0m\u001b[1;33m\u001b[0m\u001b[0m\n\u001b[0m\u001b[0;32m     21\u001b[0m \u001b[0msbiobj\u001b[0m\u001b[1;33m.\u001b[0m\u001b[0mHousingInterest\u001b[0m\u001b[1;33m(\u001b[0m\u001b[1;33m)\u001b[0m\u001b[1;33m\u001b[0m\u001b[1;33m\u001b[0m\u001b[0m\n\u001b[0;32m     22\u001b[0m \u001b[1;31m#sbiobj.VehicleInterest()\u001b[0m\u001b[1;33m\u001b[0m\u001b[1;33m\u001b[0m\u001b[0m\n",
      "\u001b[1;31mTypeError\u001b[0m: Can't instantiate abstract class SBI with abstract method VehicleInterest"
     ]
    }
   ],
   "source": [
    "from abc import ABC,abstractmethod\n",
    "class AbstractDemo(ABC):                                     # This is ABSTRACT CLASS\n",
    "    @abstractmethod\n",
    "    def HousingInterest(self):\n",
    "        None\n",
    "    @abstractmethod\n",
    "    def VehicleInterest(self):\n",
    "        None\n",
    "        \n",
    "#In the above we cannot create objects.....       \n",
    "# Create another class to overcome the above error\n",
    "\n",
    "class SBI(AbstractDemo):                                    # This is Concrete class                     \n",
    "    def HousingInterest(self):\n",
    "        print(\"Housing interest 8.5%\")\n",
    "        \n",
    "   # def VehicleInterest(self):\n",
    "     #   print(\"VehicleInterest 9.5%\")\n",
    "        \n",
    "sbiobj=SBI() # Here the object is created\n",
    "sbiobj.HousingInterest()\n",
    "#sbiobj.VehicleInterest()"
   ]
  },
  {
   "cell_type": "markdown",
   "id": "49107574",
   "metadata": {},
   "source": [
    "### Reason for error:: It is very important that ,in the abstract class we have 2 abstract methods...so in the concrete also we should have 2 functions"
   ]
  },
  {
   "cell_type": "code",
   "execution_count": null,
   "id": "46c9c86c",
   "metadata": {},
   "outputs": [],
   "source": []
  },
  {
   "cell_type": "markdown",
   "id": "a5d3b0d6",
   "metadata": {},
   "source": [
    "# Encapsulation:\n",
    "\n",
    "* Wrapping up of data and methods"
   ]
  },
  {
   "cell_type": "code",
   "execution_count": null,
   "id": "b2960a18",
   "metadata": {},
   "outputs": [],
   "source": []
  },
  {
   "cell_type": "markdown",
   "id": "7c34ee7d",
   "metadata": {},
   "source": [
    "# Data Hiding :: For security\n",
    "\n",
    "* We do this using ACCESS SPECIFIERS-1.public(Acessed within & outside the class) 2.Private( Acessed only within in the class)\n",
    "\n",
    "* How public & private are determined:: ????\n",
    "\n",
    "* If a variable OR method has  --(double underscore) as prefix then it is PRIVATE VARIABLE / PRIVATE METHOD"
   ]
  },
  {
   "cell_type": "code",
   "execution_count": 5,
   "id": "a42213b6",
   "metadata": {},
   "outputs": [
    {
     "name": "stdout",
     "output_type": "stream",
     "text": [
      "10 100\n",
      "Display method in demo class\n"
     ]
    }
   ],
   "source": [
    "class Demo:\n",
    "    a=10  # This is a PUBLIC VARIABLE\n",
    "    b=100 # This is a PUBLIC VARIABLE\n",
    "    def display(self):\n",
    "        print(\"Display method in demo class\")\n",
    "        \n",
    "obj=Demo()\n",
    "print(obj.a,obj.b)\n",
    "obj.display()\n",
    "    "
   ]
  },
  {
   "cell_type": "code",
   "execution_count": null,
   "id": "fdcddfc9",
   "metadata": {},
   "outputs": [],
   "source": [
    "class A:\n",
    "    __amount = 45\n",
    "\n",
    "    def hello(self):\n",
    "        print(\"Amount is \", A.__amount)\n",
    "\n",
    "\n",
    "a = A()\n",
    "\n",
    "a.hello()"
   ]
  },
  {
   "cell_type": "code",
   "execution_count": 19,
   "id": "bc8eaec2",
   "metadata": {},
   "outputs": [
    {
     "ename": "NameError",
     "evalue": "name 'b' is not defined",
     "output_type": "error",
     "traceback": [
      "\u001b[1;31m---------------------------------------------------------------------------\u001b[0m",
      "\u001b[1;31mNameError\u001b[0m                                 Traceback (most recent call last)",
      "\u001b[1;32m~\\AppData\\Local\\Temp/ipykernel_8524/440726112.py\u001b[0m in \u001b[0;36m<module>\u001b[1;34m\u001b[0m\n\u001b[0;32m     10\u001b[0m \u001b[0mobj\u001b[0m\u001b[1;33m=\u001b[0m\u001b[0mDemo\u001b[0m\u001b[1;33m(\u001b[0m\u001b[1;33m)\u001b[0m\u001b[1;33m\u001b[0m\u001b[1;33m\u001b[0m\u001b[0m\n\u001b[0;32m     11\u001b[0m \u001b[1;31m#print(obj.a,obj.b) # Here we are trying to access the variable outside the class\u001b[0m\u001b[1;33m\u001b[0m\u001b[1;33m\u001b[0m\u001b[0m\n\u001b[1;32m---> 12\u001b[1;33m \u001b[0mobj\u001b[0m\u001b[1;33m.\u001b[0m\u001b[0madd\u001b[0m\u001b[1;33m(\u001b[0m\u001b[1;33m)\u001b[0m\u001b[1;33m\u001b[0m\u001b[1;33m\u001b[0m\u001b[0m\n\u001b[0m",
      "\u001b[1;32m~\\AppData\\Local\\Temp/ipykernel_8524/440726112.py\u001b[0m in \u001b[0;36madd\u001b[1;34m(self)\u001b[0m\n\u001b[0;32m      5\u001b[0m         \u001b[0mprint\u001b[0m\u001b[1;33m(\u001b[0m\u001b[1;34m\"Display method in demo class\"\u001b[0m\u001b[1;33m)\u001b[0m\u001b[1;33m\u001b[0m\u001b[1;33m\u001b[0m\u001b[0m\n\u001b[0;32m      6\u001b[0m     \u001b[1;32mdef\u001b[0m \u001b[0madd\u001b[0m\u001b[1;33m(\u001b[0m\u001b[0mself\u001b[0m\u001b[1;33m)\u001b[0m\u001b[1;33m:\u001b[0m\u001b[1;33m\u001b[0m\u001b[1;33m\u001b[0m\u001b[0m\n\u001b[1;32m----> 7\u001b[1;33m         \u001b[0mprint\u001b[0m\u001b[1;33m(\u001b[0m\u001b[0mDemo\u001b[0m\u001b[1;33m.\u001b[0m\u001b[0m__a\u001b[0m\u001b[1;33m+\u001b[0m\u001b[0mb\u001b[0m\u001b[1;33m)\u001b[0m\u001b[1;33m\u001b[0m\u001b[1;33m\u001b[0m\u001b[0m\n\u001b[0m\u001b[0;32m      8\u001b[0m \u001b[1;33m\u001b[0m\u001b[0m\n\u001b[0;32m      9\u001b[0m \u001b[1;33m\u001b[0m\u001b[0m\n",
      "\u001b[1;31mNameError\u001b[0m: name 'b' is not defined"
     ]
    }
   ],
   "source": [
    "class Demo:\n",
    "    __a=10  # This is a PRIVATE VARIABLE\n",
    "    b=100 # This is a PUBLIC VARIABLE\n",
    "    def display(self):\n",
    "        print(\"Display method in demo class\")\n",
    "    def add(self):\n",
    "        print(Demo.__a+b)\n",
    "        \n",
    "        \n",
    "obj=Demo()\n",
    "#print(obj.a,obj.b) # Here we are trying to access the variable outside the class\n",
    "obj.add()"
   ]
  },
  {
   "cell_type": "markdown",
   "id": "100775a9",
   "metadata": {},
   "source": [
    "# We cannot perform any operations in private & public combination"
   ]
  },
  {
   "cell_type": "code",
   "execution_count": 18,
   "id": "30aa511d",
   "metadata": {},
   "outputs": [
    {
     "name": "stdout",
     "output_type": "stream",
     "text": [
      "110\n"
     ]
    }
   ],
   "source": [
    "class Demo:\n",
    "    __a=10  # This is a PRIVATE VARIABLE\n",
    "    __b=100 # This is a PUBLIC VARIABLE\n",
    "    def display(self):\n",
    "        print(\"Display method in demo class\")\n",
    "    def add(self):\n",
    "        print(Demo.__a+Demo.__b)\n",
    "        \n",
    "        \n",
    "obj=Demo()\n",
    "#print(obj.a,obj.b) # Here we are trying to access the variable outside the class\n",
    "obj.add()"
   ]
  },
  {
   "cell_type": "markdown",
   "id": "2681f9e1",
   "metadata": {},
   "source": [
    "### Lets try to access it  within the class"
   ]
  },
  {
   "cell_type": "code",
   "execution_count": 8,
   "id": "c767b5a5",
   "metadata": {},
   "outputs": [
    {
     "ename": "AttributeError",
     "evalue": "type object 'Demo' has no attribute '__a'",
     "output_type": "error",
     "traceback": [
      "\u001b[1;31m---------------------------------------------------------------------------\u001b[0m",
      "\u001b[1;31mAttributeError\u001b[0m                            Traceback (most recent call last)",
      "\u001b[1;32m~\\AppData\\Local\\Temp/ipykernel_8524/1000734322.py\u001b[0m in \u001b[0;36m<module>\u001b[1;34m\u001b[0m\n\u001b[1;32m----> 1\u001b[1;33m \u001b[0mprint\u001b[0m\u001b[1;33m(\u001b[0m\u001b[0mDemo\u001b[0m\u001b[1;33m.\u001b[0m\u001b[0m__a\u001b[0m\u001b[1;33m)\u001b[0m\u001b[1;33m\u001b[0m\u001b[1;33m\u001b[0m\u001b[0m\n\u001b[0m",
      "\u001b[1;31mAttributeError\u001b[0m: type object 'Demo' has no attribute '__a'"
     ]
    }
   ],
   "source": [
    "print(Demo.__a)"
   ]
  },
  {
   "cell_type": "code",
   "execution_count": 8,
   "id": "a54fa86d",
   "metadata": {},
   "outputs": [
    {
     "name": "stdout",
     "output_type": "stream",
     "text": [
      "10\n",
      "Display method in demo class\n"
     ]
    }
   ],
   "source": [
    "class Demo:\n",
    "    __a=10  # This is a PRIVATE VARIABLE\n",
    "    b=100 # This is a PUBLIC VARIABLE\n",
    "    def display(self):\n",
    "        print(self.__a) # Here the variable is within the class\n",
    "        print(\"Display method in demo class\")\n",
    "        \n",
    "obj=Demo()\n",
    "obj.display()"
   ]
  },
  {
   "cell_type": "markdown",
   "id": "79e9310f",
   "metadata": {},
   "source": [
    "### Private method::"
   ]
  },
  {
   "cell_type": "code",
   "execution_count": 9,
   "id": "7e980e4a",
   "metadata": {},
   "outputs": [
    {
     "name": "stdout",
     "output_type": "stream",
     "text": [
      "10\n",
      "Display method in demo class\n"
     ]
    }
   ],
   "source": [
    "class Demo:\n",
    "    __a=10  # This is a PRIVATE VARIABLE\n",
    "    b=100 # This is a PUBLIC VARIABLE\n",
    "    def __display(self): # Here we have PRIVATE METHOD\n",
    "        print(self.__a) # Here the variable is within the class\n",
    "        print(\"Display method in demo class\")\n",
    "        \n",
    "    def show(self): # CREATING THE PUBLIC METHOD TO ACCESS THE ABOVE PRIVATE METHOD\n",
    "        self.__display()\n",
    "        \n",
    "obj=Demo()\n",
    "obj.show()"
   ]
  },
  {
   "cell_type": "code",
   "execution_count": null,
   "id": "38b7af98",
   "metadata": {},
   "outputs": [],
   "source": []
  }
 ],
 "metadata": {
  "kernelspec": {
   "display_name": "Python 3 (ipykernel)",
   "language": "python",
   "name": "python3"
  },
  "language_info": {
   "codemirror_mode": {
    "name": "ipython",
    "version": 3
   },
   "file_extension": ".py",
   "mimetype": "text/x-python",
   "name": "python",
   "nbconvert_exporter": "python",
   "pygments_lexer": "ipython3",
   "version": "3.9.7"
  }
 },
 "nbformat": 4,
 "nbformat_minor": 5
}
