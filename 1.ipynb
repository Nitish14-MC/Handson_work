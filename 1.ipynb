{
 "cells": [
  {
   "cell_type": "code",
   "execution_count": 1,
   "id": "95bc9818",
   "metadata": {},
   "outputs": [
    {
     "data": {
      "text/plain": [
       "'\\n SYLLABUS\\n1.Comments\\n2.Variables\\n3.Datatypes\\n4.Strings\\n5.List\\n6.Tuple\\n7.Control statements\\n8.Looping statements\\n9.sets\\n10.dictionary\\n11.functions\\n12.File Handling\\n13.Error Handling\\n14.Oops\\n'"
      ]
     },
     "execution_count": 1,
     "metadata": {},
     "output_type": "execute_result"
    }
   ],
   "source": [
    "'''\n",
    " SYLLABUS\n",
    "1.Comments\n",
    "2.Variables\n",
    "3.Datatypes\n",
    "4.Strings\n",
    "5.List\n",
    "6.Tuple\n",
    "7.Control statements\n",
    "8.Looping statements\n",
    "9.sets\n",
    "10.dictionary\n",
    "11.functions\n",
    "12.File Handling\n",
    "13.Error Handling\n",
    "14.Oops\n",
    "'''"
   ]
  },
  {
   "cell_type": "markdown",
   "id": "4aa04950",
   "metadata": {},
   "source": [
    "# Python Indentation:\n",
    "\n",
    "* Indentation refers to the spaces at the beginning of a code line."
   ]
  },
  {
   "cell_type": "code",
   "execution_count": 3,
   "id": "e0a5e9f3",
   "metadata": {},
   "outputs": [
    {
     "name": "stdout",
     "output_type": "stream",
     "text": [
      "Five is greater than two!\n"
     ]
    }
   ],
   "source": [
    "if 5 > 2:\n",
    "    print(\"Five is greater than two!\")  \n"
   ]
  },
  {
   "cell_type": "markdown",
   "id": "ebc9c1ef",
   "metadata": {},
   "source": [
    "# 1.Python Comments:\n",
    "* Comments can be used to explain Python code.\n",
    "* Comments can be used to prevent execution when testing code."
   ]
  },
  {
   "cell_type": "markdown",
   "id": "e726429f",
   "metadata": {},
   "source": [
    "### Creating a Comment:\n",
    "* Comments starts with a #, and Python will ignore them:"
   ]
  },
  {
   "cell_type": "code",
   "execution_count": 2,
   "id": "9a72f657",
   "metadata": {},
   "outputs": [
    {
     "name": "stdout",
     "output_type": "stream",
     "text": [
      "Hello, World!\n"
     ]
    }
   ],
   "source": [
    "#This is a comment\n",
    "print(\"Hello, World!\")"
   ]
  },
  {
   "cell_type": "markdown",
   "id": "d4924089",
   "metadata": {},
   "source": [
    "### A comment does not have to be text that explains the code, it can also be used to prevent Python from executing code:"
   ]
  },
  {
   "cell_type": "code",
   "execution_count": 3,
   "id": "1e9b3bbb",
   "metadata": {},
   "outputs": [
    {
     "name": "stdout",
     "output_type": "stream",
     "text": [
      "Cheers, Mate!\n"
     ]
    }
   ],
   "source": [
    "#print(\"Hello, World!\")\n",
    "print(\"Cheers, Mate!\")"
   ]
  },
  {
   "cell_type": "markdown",
   "id": "0a8b9b4b",
   "metadata": {},
   "source": [
    "# Multi Line Comments :\n",
    "* Python does not really have a syntax for multi line comments.\n",
    "* To add a multiline comment you could insert a # for each line:"
   ]
  },
  {
   "cell_type": "code",
   "execution_count": 4,
   "id": "2f9ad257",
   "metadata": {},
   "outputs": [
    {
     "name": "stdout",
     "output_type": "stream",
     "text": [
      "Hello, World!\n"
     ]
    }
   ],
   "source": [
    "#This is a comment\n",
    "#written in\n",
    "#more than just one line\n",
    "print(\"Hello, World!\")"
   ]
  },
  {
   "cell_type": "markdown",
   "id": "c5c9a22e",
   "metadata": {},
   "source": [
    "### you can use a multiline string.\n",
    "* Since Python will ignore string literals that are not assigned to a variable, you can add a multiline string (triple quotes) in your code, and place your comment inside it:"
   ]
  },
  {
   "cell_type": "code",
   "execution_count": 6,
   "id": "262f44eb",
   "metadata": {},
   "outputs": [
    {
     "data": {
      "text/plain": [
       "'\\nHi how are you \\n'"
      ]
     },
     "execution_count": 6,
     "metadata": {},
     "output_type": "execute_result"
    }
   ],
   "source": [
    "\"\"\"\n",
    "Hi how are you \n",
    "\"\"\""
   ]
  },
  {
   "cell_type": "code",
   "execution_count": 7,
   "id": "cb45318f",
   "metadata": {},
   "outputs": [
    {
     "name": "stdout",
     "output_type": "stream",
     "text": [
      "Hello, World!\n"
     ]
    }
   ],
   "source": [
    "\"\"\"\n",
    "This is a comment\n",
    "written in\n",
    "more than just one line\n",
    "\"\"\"\n",
    "print(\"Hello, World!\")"
   ]
  },
  {
   "cell_type": "markdown",
   "id": "2e20145f",
   "metadata": {},
   "source": [
    "#  2.Python Variables\n",
    "\n",
    "* Variables are containers for storing data values."
   ]
  },
  {
   "cell_type": "markdown",
   "id": "4a13405f",
   "metadata": {},
   "source": [
    "### Creating Variables\n",
    "* Python has no command for declaring a variable.\n",
    "\n",
    "* A variable is created the moment you first assign a value to it."
   ]
  },
  {
   "cell_type": "code",
   "execution_count": 9,
   "id": "5b8ec6fe",
   "metadata": {},
   "outputs": [
    {
     "name": "stdout",
     "output_type": "stream",
     "text": [
      "5\n",
      "John\n"
     ]
    }
   ],
   "source": [
    "x = 5\n",
    "y = \"John\"\n",
    "print(x)\n",
    "print(y)"
   ]
  },
  {
   "cell_type": "markdown",
   "id": "3294ef5c",
   "metadata": {},
   "source": [
    "## Casting:\n",
    "* If you want to specify the data type of a variable, this can be done with casting."
   ]
  },
  {
   "cell_type": "code",
   "execution_count": 11,
   "id": "a392d593",
   "metadata": {},
   "outputs": [
    {
     "name": "stdout",
     "output_type": "stream",
     "text": [
      "3\n",
      "3\n",
      "3.0\n"
     ]
    }
   ],
   "source": [
    "x = str(3)    # x will be '3'\n",
    "y = int(3)    # y will be 3\n",
    "z = float(3)  # z will be 3.0\n",
    "print(x)\n",
    "print(y)\n",
    "print(z)"
   ]
  },
  {
   "cell_type": "markdown",
   "id": "871b71ac",
   "metadata": {},
   "source": [
    "### Get the Type:\n",
    "* You can get the data type of a variable with the type() function."
   ]
  },
  {
   "cell_type": "code",
   "execution_count": 14,
   "id": "c5e33d14",
   "metadata": {},
   "outputs": [
    {
     "data": {
      "text/plain": [
       "float"
      ]
     },
     "execution_count": 14,
     "metadata": {},
     "output_type": "execute_result"
    }
   ],
   "source": [
    "x = str(3)    # x will be '3'\n",
    "y = int(3)    # y will be 3\n",
    "z = float(3)\n",
    "type(x)"
   ]
  },
  {
   "cell_type": "code",
   "execution_count": 15,
   "id": "75e09a2d",
   "metadata": {},
   "outputs": [
    {
     "data": {
      "text/plain": [
       "int"
      ]
     },
     "execution_count": 15,
     "metadata": {},
     "output_type": "execute_result"
    }
   ],
   "source": [
    "type(y)"
   ]
  },
  {
   "cell_type": "code",
   "execution_count": 16,
   "id": "c90f2fc2",
   "metadata": {},
   "outputs": [
    {
     "data": {
      "text/plain": [
       "float"
      ]
     },
     "execution_count": 16,
     "metadata": {},
     "output_type": "execute_result"
    }
   ],
   "source": [
    "type(z)"
   ]
  },
  {
   "cell_type": "code",
   "execution_count": 9,
   "id": "4aac2f24",
   "metadata": {},
   "outputs": [
    {
     "data": {
      "text/plain": [
       "int"
      ]
     },
     "execution_count": 9,
     "metadata": {},
     "output_type": "execute_result"
    }
   ],
   "source": [
    "a=5\n",
    "type(a)"
   ]
  },
  {
   "cell_type": "code",
   "execution_count": 10,
   "id": "23fd569a",
   "metadata": {},
   "outputs": [
    {
     "name": "stdout",
     "output_type": "stream",
     "text": [
      "<class 'int'>\n"
     ]
    }
   ],
   "source": [
    "print(type(a))"
   ]
  },
  {
   "cell_type": "code",
   "execution_count": 17,
   "id": "36c67362",
   "metadata": {},
   "outputs": [
    {
     "name": "stdout",
     "output_type": "stream",
     "text": [
      "<class 'str'>\n"
     ]
    }
   ],
   "source": [
    "print(type(x))"
   ]
  },
  {
   "cell_type": "code",
   "execution_count": 18,
   "id": "a5213f9a",
   "metadata": {},
   "outputs": [
    {
     "name": "stdout",
     "output_type": "stream",
     "text": [
      "<class 'int'>\n",
      "<class 'float'>\n"
     ]
    }
   ],
   "source": [
    "print(type(y))\n",
    "print(type(z))"
   ]
  },
  {
   "cell_type": "markdown",
   "id": "84791dc8",
   "metadata": {},
   "source": [
    "## Variable names are case-sensitive."
   ]
  },
  {
   "cell_type": "code",
   "execution_count": 19,
   "id": "a73afb86",
   "metadata": {},
   "outputs": [],
   "source": [
    "x=123"
   ]
  },
  {
   "cell_type": "code",
   "execution_count": 20,
   "id": "9d1d8c19",
   "metadata": {},
   "outputs": [
    {
     "data": {
      "text/plain": [
       "123"
      ]
     },
     "execution_count": 20,
     "metadata": {},
     "output_type": "execute_result"
    }
   ],
   "source": [
    "x"
   ]
  },
  {
   "cell_type": "code",
   "execution_count": 21,
   "id": "f9f44851",
   "metadata": {},
   "outputs": [
    {
     "ename": "NameError",
     "evalue": "name 'X' is not defined",
     "output_type": "error",
     "traceback": [
      "\u001b[1;31m---------------------------------------------------------------------------\u001b[0m",
      "\u001b[1;31mNameError\u001b[0m                                 Traceback (most recent call last)",
      "\u001b[1;32m~\\AppData\\Local\\Temp/ipykernel_1636/3777217377.py\u001b[0m in \u001b[0;36m<module>\u001b[1;34m\u001b[0m\n\u001b[1;32m----> 1\u001b[1;33m \u001b[0mX\u001b[0m\u001b[1;33m\u001b[0m\u001b[1;33m\u001b[0m\u001b[0m\n\u001b[0m",
      "\u001b[1;31mNameError\u001b[0m: name 'X' is not defined"
     ]
    }
   ],
   "source": [
    "X"
   ]
  },
  {
   "cell_type": "markdown",
   "id": "3881ecd2",
   "metadata": {},
   "source": [
    "# Variable Names:\n",
    "\n",
    "* A variable can have a short name (like x and y) or a more descriptive name (age, carname, total_volume).\n",
    "\n",
    "\n",
    "* Rules for Python variables:\n",
    "1. A variable name must start with a letter or the underscore character\n",
    "2. A variable name cannot start with a number\n",
    "3.A variable name can only contain alpha-numeric characters and underscores (A-z, 0-9, and _ )\n",
    "4.Variable names are case-sensitive (age, Age and AGE are three different variables)"
   ]
  },
  {
   "cell_type": "code",
   "execution_count": 23,
   "id": "b12654ca",
   "metadata": {},
   "outputs": [],
   "source": [
    "# Legal variable names:\n",
    "myvar = \"John\"\n",
    "my_var = \"John\"\n",
    "_my_var = \"John\"\n",
    "myVar = \"John\"\n",
    "MYVAR = \"John\"\n",
    "myvar2 = \"John\""
   ]
  },
  {
   "cell_type": "code",
   "execution_count": 24,
   "id": "66c50a17",
   "metadata": {},
   "outputs": [
    {
     "ename": "SyntaxError",
     "evalue": "invalid syntax (Temp/ipykernel_1636/3704874718.py, line 3)",
     "output_type": "error",
     "traceback": [
      "\u001b[1;36m  File \u001b[1;32m\"C:\\Users\\NITHISH\\AppData\\Local\\Temp/ipykernel_1636/3704874718.py\"\u001b[1;36m, line \u001b[1;32m3\u001b[0m\n\u001b[1;33m    2myvar = \"John\"\u001b[0m\n\u001b[1;37m     ^\u001b[0m\n\u001b[1;31mSyntaxError\u001b[0m\u001b[1;31m:\u001b[0m invalid syntax\n"
     ]
    }
   ],
   "source": [
    "# Illegal variable names:\n",
    "\n",
    "2myvar = \"John\"\n",
    "my-var = \"John\"\n",
    "my var = \"John\""
   ]
  },
  {
   "cell_type": "markdown",
   "id": "d4421130",
   "metadata": {},
   "source": [
    "### Multi Words Variable Names:\n",
    "* Variable names with more than one word can be difficult to read.\n",
    "\n",
    "* There are several techniques you can use to make them more readable:"
   ]
  },
  {
   "cell_type": "code",
   "execution_count": 25,
   "id": "ad37cf7e",
   "metadata": {},
   "outputs": [],
   "source": [
    "# Camel Case----->Each word, except the first, starts with a capital letter:\n",
    "myVariableName = \"John\""
   ]
  },
  {
   "cell_type": "code",
   "execution_count": 26,
   "id": "07e6384c",
   "metadata": {},
   "outputs": [],
   "source": [
    "# Pascal Case--->Each word starts with a capital letter\n",
    "MyVariableName = \"John\""
   ]
  },
  {
   "cell_type": "code",
   "execution_count": 27,
   "id": "6ad903a1",
   "metadata": {},
   "outputs": [],
   "source": [
    "#Snake Case--->Each word is separated by an underscore character:\n",
    "my_variable_name = \"John\""
   ]
  },
  {
   "cell_type": "markdown",
   "id": "00c8d99b",
   "metadata": {},
   "source": [
    "## Python Variables - Assign Multiple Values::"
   ]
  },
  {
   "cell_type": "code",
   "execution_count": 28,
   "id": "db5517c7",
   "metadata": {},
   "outputs": [
    {
     "name": "stdout",
     "output_type": "stream",
     "text": [
      "Orange\n",
      "Banana\n",
      "Cherry\n"
     ]
    }
   ],
   "source": [
    "# Python allows you to assign values to multiple variables in one line:\n",
    "\n",
    "x, y, z = \"Orange\", \"Banana\", \"Cherry\"\n",
    "print(x)\n",
    "print(y)\n",
    "print(z)"
   ]
  },
  {
   "cell_type": "markdown",
   "id": "e2c6ed83",
   "metadata": {},
   "source": [
    "### Note: Make sure the number of variables matches the number of values, or else you will get an error."
   ]
  },
  {
   "cell_type": "code",
   "execution_count": 29,
   "id": "63530a52",
   "metadata": {},
   "outputs": [
    {
     "ename": "ValueError",
     "evalue": "too many values to unpack (expected 2)",
     "output_type": "error",
     "traceback": [
      "\u001b[1;31m---------------------------------------------------------------------------\u001b[0m",
      "\u001b[1;31mValueError\u001b[0m                                Traceback (most recent call last)",
      "\u001b[1;32m~\\AppData\\Local\\Temp/ipykernel_1636/1435947933.py\u001b[0m in \u001b[0;36m<module>\u001b[1;34m\u001b[0m\n\u001b[1;32m----> 1\u001b[1;33m \u001b[0mx\u001b[0m\u001b[1;33m,\u001b[0m \u001b[0my\u001b[0m \u001b[1;33m=\u001b[0m \u001b[1;34m\"Orange\"\u001b[0m\u001b[1;33m,\u001b[0m \u001b[1;34m\"Banana\"\u001b[0m\u001b[1;33m,\u001b[0m \u001b[1;34m\"Cherry\"\u001b[0m\u001b[1;33m\u001b[0m\u001b[1;33m\u001b[0m\u001b[0m\n\u001b[0m\u001b[0;32m      2\u001b[0m \u001b[0mprint\u001b[0m\u001b[1;33m(\u001b[0m\u001b[0mx\u001b[0m\u001b[1;33m)\u001b[0m\u001b[1;33m\u001b[0m\u001b[1;33m\u001b[0m\u001b[0m\n\u001b[0;32m      3\u001b[0m \u001b[0mprint\u001b[0m\u001b[1;33m(\u001b[0m\u001b[0my\u001b[0m\u001b[1;33m)\u001b[0m\u001b[1;33m\u001b[0m\u001b[1;33m\u001b[0m\u001b[0m\n\u001b[0;32m      4\u001b[0m \u001b[0mprint\u001b[0m\u001b[1;33m(\u001b[0m\u001b[0mz\u001b[0m\u001b[1;33m)\u001b[0m\u001b[1;33m\u001b[0m\u001b[1;33m\u001b[0m\u001b[0m\n",
      "\u001b[1;31mValueError\u001b[0m: too many values to unpack (expected 2)"
     ]
    }
   ],
   "source": [
    "x, y = \"Orange\", \"Banana\", \"Cherry\"\n",
    "print(x)\n",
    "print(y)\n",
    "print(z)"
   ]
  },
  {
   "cell_type": "code",
   "execution_count": 30,
   "id": "036ce585",
   "metadata": {},
   "outputs": [
    {
     "name": "stdout",
     "output_type": "stream",
     "text": [
      "Orange\n",
      "Orange\n",
      "Orange\n"
     ]
    }
   ],
   "source": [
    "# And you can assign the same value to multiple variables in one line:\n",
    "\n",
    "x = y = z = \"Orange\"\n",
    "print(x)\n",
    "print(y)\n",
    "print(z)"
   ]
  },
  {
   "cell_type": "markdown",
   "id": "d15f647c",
   "metadata": {},
   "source": [
    "### Unpack a Collection\n",
    "If you have a collection of values in a list, tuple etc. Python allows you to extract the values into variables. This is called unpacking."
   ]
  },
  {
   "cell_type": "code",
   "execution_count": 31,
   "id": "86b20c20",
   "metadata": {},
   "outputs": [
    {
     "name": "stdout",
     "output_type": "stream",
     "text": [
      "apple\n",
      "banana\n",
      "cherry\n"
     ]
    }
   ],
   "source": [
    "fruits = [\"apple\", \"banana\", \"cherry\"]\n",
    "x, y, z = fruits\n",
    "print(x)\n",
    "print(y)\n",
    "print(z)"
   ]
  },
  {
   "cell_type": "markdown",
   "id": "0ec0f5e6",
   "metadata": {},
   "source": [
    "# 3.Datatypes::\n",
    "\n",
    "* In programming, data type is an important concept.\n",
    "\n",
    "* Variables can store data of different types, and different types can do different things."
   ]
  },
  {
   "cell_type": "code",
   "execution_count": 32,
   "id": "57369422",
   "metadata": {},
   "outputs": [],
   "source": [
    "x=int(20.5)"
   ]
  },
  {
   "cell_type": "code",
   "execution_count": 33,
   "id": "44fd7f43",
   "metadata": {},
   "outputs": [
    {
     "data": {
      "text/plain": [
       "20"
      ]
     },
     "execution_count": 33,
     "metadata": {},
     "output_type": "execute_result"
    }
   ],
   "source": [
    "x"
   ]
  },
  {
   "cell_type": "code",
   "execution_count": 34,
   "id": "499c17c9",
   "metadata": {},
   "outputs": [
    {
     "data": {
      "text/plain": [
       "int"
      ]
     },
     "execution_count": 34,
     "metadata": {},
     "output_type": "execute_result"
    }
   ],
   "source": [
    "type(x)"
   ]
  },
  {
   "cell_type": "markdown",
   "id": "252f5e78",
   "metadata": {},
   "source": [
    "# 4.Python Strings:\n",
    "\n",
    "* Strings in python are surrounded by either single quotation marks, or double quotation marks.\n",
    "\n",
    "* 'hello' is the same as \"hello\"."
   ]
  },
  {
   "cell_type": "code",
   "execution_count": 35,
   "id": "1def9fb3",
   "metadata": {},
   "outputs": [
    {
     "name": "stdout",
     "output_type": "stream",
     "text": [
      "Hello\n",
      "Hello\n"
     ]
    }
   ],
   "source": [
    "print(\"Hello\")\n",
    "print('Hello')"
   ]
  },
  {
   "cell_type": "markdown",
   "id": "c2130d0b",
   "metadata": {},
   "source": [
    "### Assign String to a Variable:\n",
    "* Assigning a string to a variable is done with the variable name followed by an equal sign and the string:"
   ]
  },
  {
   "cell_type": "code",
   "execution_count": 36,
   "id": "20c3496f",
   "metadata": {},
   "outputs": [
    {
     "name": "stdout",
     "output_type": "stream",
     "text": [
      "Hello\n"
     ]
    }
   ],
   "source": [
    "a = \"Hello\"\n",
    "print(a)"
   ]
  },
  {
   "cell_type": "markdown",
   "id": "6042e18f",
   "metadata": {},
   "source": [
    "### Multiline Strings\n",
    "* You can assign a multiline string to a variable by using three quotes:"
   ]
  },
  {
   "cell_type": "code",
   "execution_count": 37,
   "id": "4607c40d",
   "metadata": {},
   "outputs": [
    {
     "name": "stdout",
     "output_type": "stream",
     "text": [
      "Lorem ipsum dolor sit amet,\n",
      "consectetur adipiscing elit,\n",
      "sed do eiusmod tempor incididunt\n",
      "ut labore et dolore magna aliqua.\n"
     ]
    }
   ],
   "source": [
    "a = \"\"\"Lorem ipsum dolor sit amet,\n",
    "consectetur adipiscing elit,\n",
    "sed do eiusmod tempor incididunt\n",
    "ut labore et dolore magna aliqua.\"\"\"\n",
    "print(a)"
   ]
  },
  {
   "cell_type": "markdown",
   "id": "663444e8",
   "metadata": {},
   "source": [
    "#### Or three single quotes:"
   ]
  },
  {
   "cell_type": "code",
   "execution_count": 38,
   "id": "5703469e",
   "metadata": {},
   "outputs": [
    {
     "name": "stdout",
     "output_type": "stream",
     "text": [
      "Lorem ipsum dolor sit amet,\n",
      "consectetur adipiscing elit,\n",
      "sed do eiusmod tempor incididunt\n",
      "ut labore et dolore magna aliqua.\n"
     ]
    }
   ],
   "source": [
    "a = '''Lorem ipsum dolor sit amet,\n",
    "consectetur adipiscing elit,\n",
    "sed do eiusmod tempor incididunt\n",
    "ut labore et dolore magna aliqua.'''\n",
    "print(a)"
   ]
  },
  {
   "cell_type": "markdown",
   "id": "649c8269",
   "metadata": {},
   "source": [
    "### Strings are Arrays"
   ]
  },
  {
   "cell_type": "code",
   "execution_count": 39,
   "id": "9eec9aa5",
   "metadata": {},
   "outputs": [
    {
     "data": {
      "text/plain": [
       "'N'"
      ]
     },
     "execution_count": 39,
     "metadata": {},
     "output_type": "execute_result"
    }
   ],
   "source": [
    "a=\"Nitish\"\n",
    "a[0]"
   ]
  },
  {
   "cell_type": "markdown",
   "id": "923b5054",
   "metadata": {},
   "source": [
    "### Looping Through a String:\n",
    "\n",
    "* Since strings are arrays, we can loop through the characters in a string, with a for loop"
   ]
  },
  {
   "cell_type": "code",
   "execution_count": 40,
   "id": "f5ad3a75",
   "metadata": {},
   "outputs": [
    {
     "name": "stdout",
     "output_type": "stream",
     "text": [
      "b\n",
      "a\n",
      "n\n",
      "a\n",
      "n\n",
      "a\n"
     ]
    }
   ],
   "source": [
    "for x in \"banana\":\n",
    "  print(x)"
   ]
  },
  {
   "cell_type": "markdown",
   "id": "7e8489a4",
   "metadata": {},
   "source": [
    "### String Length:\n",
    "* To get the length of a string, use the len() function."
   ]
  },
  {
   "cell_type": "code",
   "execution_count": 41,
   "id": "af769e8a",
   "metadata": {},
   "outputs": [
    {
     "name": "stdout",
     "output_type": "stream",
     "text": [
      "13\n"
     ]
    }
   ],
   "source": [
    "a = \"Hello, World!\"\n",
    "print(len(a))"
   ]
  },
  {
   "cell_type": "markdown",
   "id": "c9437442",
   "metadata": {},
   "source": [
    "### Check String:\n",
    "To check if a certain phrase or character is present in a string, we can use the keyword in."
   ]
  },
  {
   "cell_type": "code",
   "execution_count": 42,
   "id": "aaf7cc98",
   "metadata": {},
   "outputs": [
    {
     "name": "stdout",
     "output_type": "stream",
     "text": [
      "True\n"
     ]
    }
   ],
   "source": [
    "txt = \"The best things in life are free!\"\n",
    "print(\"free\" in txt)"
   ]
  },
  {
   "cell_type": "code",
   "execution_count": 43,
   "id": "3595e91e",
   "metadata": {},
   "outputs": [
    {
     "name": "stdout",
     "output_type": "stream",
     "text": [
      "False\n"
     ]
    }
   ],
   "source": [
    "txt = \"The best things in life are free!\"\n",
    "print(\"Hero\" in txt)"
   ]
  },
  {
   "cell_type": "markdown",
   "id": "1a8a4e1c",
   "metadata": {},
   "source": [
    "### Python - Slicing Strings:\n",
    "\n",
    "* You can return a range of characters by using the slice syntax.\n",
    "\n",
    "* Specify the start index and the end index, separated by a colon, to return a part of the string."
   ]
  },
  {
   "cell_type": "code",
   "execution_count": 44,
   "id": "2616b6c0",
   "metadata": {},
   "outputs": [
    {
     "name": "stdout",
     "output_type": "stream",
     "text": [
      "llo\n"
     ]
    }
   ],
   "source": [
    "# Get the characters from position 2 to position 5 (not included):\n",
    "b = \"Hello, World!\"\n",
    "print(b[2:5])"
   ]
  },
  {
   "cell_type": "markdown",
   "id": "1442e879",
   "metadata": {},
   "source": [
    "#### Slice From the Start\n",
    "By leaving out the start index, the range will start at the first character:"
   ]
  },
  {
   "cell_type": "code",
   "execution_count": 46,
   "id": "b219fb9f",
   "metadata": {},
   "outputs": [
    {
     "name": "stdout",
     "output_type": "stream",
     "text": [
      "Hello\n"
     ]
    }
   ],
   "source": [
    "b = \"Hello, World!\"\n",
    "print(b[:5])"
   ]
  },
  {
   "cell_type": "markdown",
   "id": "138c8910",
   "metadata": {},
   "source": [
    "#### Slice To the End\n",
    "By leaving out the end index, the range will go to the end:"
   ]
  },
  {
   "cell_type": "code",
   "execution_count": 47,
   "id": "fcef5927",
   "metadata": {},
   "outputs": [
    {
     "name": "stdout",
     "output_type": "stream",
     "text": [
      "Hello, World!\n"
     ]
    }
   ],
   "source": [
    "b = \"Hello, World!\"\n",
    "print(b[0:])"
   ]
  },
  {
   "cell_type": "code",
   "execution_count": 48,
   "id": "2ede93fa",
   "metadata": {},
   "outputs": [
    {
     "name": "stdout",
     "output_type": "stream",
     "text": [
      "Hello, World!\n"
     ]
    }
   ],
   "source": [
    "b = \"Hello, World!\"\n",
    "print(b[:])"
   ]
  },
  {
   "cell_type": "markdown",
   "id": "fd2c5262",
   "metadata": {},
   "source": [
    "#### Negative Indexing:\n",
    "* Use negative indexes to start the slice from the end of the string:"
   ]
  },
  {
   "cell_type": "code",
   "execution_count": 49,
   "id": "d7cd6ef5",
   "metadata": {},
   "outputs": [
    {
     "name": "stdout",
     "output_type": "stream",
     "text": [
      "orl\n"
     ]
    }
   ],
   "source": [
    "b = \"Hello, World!\"\n",
    "print(b[-5:-2])"
   ]
  },
  {
   "cell_type": "markdown",
   "id": "cd7cc19f",
   "metadata": {},
   "source": [
    "### Python - Modify Strings"
   ]
  },
  {
   "cell_type": "code",
   "execution_count": 52,
   "id": "015341ed",
   "metadata": {},
   "outputs": [
    {
     "name": "stdout",
     "output_type": "stream",
     "text": [
      "HELLO, WORLD!\n"
     ]
    }
   ],
   "source": [
    "# Upper Case: The upper() method returns the string in upper case:\n",
    "b = \"Hello, World!\"\n",
    "print(b.upper())"
   ]
  },
  {
   "cell_type": "code",
   "execution_count": 11,
   "id": "3f942f3a",
   "metadata": {},
   "outputs": [
    {
     "name": "stdout",
     "output_type": "stream",
     "text": [
      "PLease enter ur namebhargavi\n"
     ]
    }
   ],
   "source": [
    "x=input(\"PLease enter ur name\")"
   ]
  },
  {
   "cell_type": "code",
   "execution_count": 53,
   "id": "d6cb968c",
   "metadata": {},
   "outputs": [
    {
     "name": "stdout",
     "output_type": "stream",
     "text": [
      "hello, world!\n"
     ]
    }
   ],
   "source": [
    "#Lower Case: The lower() method returns the string in lower case:\n",
    "a = \"Hello, World!\"\n",
    "print(a.lower())"
   ]
  },
  {
   "cell_type": "markdown",
   "id": "d1f49839",
   "metadata": {},
   "source": [
    "### Remove Whitespace:\n",
    "* Whitespace is the space before and/or after the actual text, and very often you want to remove this space.\n",
    "\n",
    "* The strip() method removes any whitespace from the beginning or the end:"
   ]
  },
  {
   "cell_type": "code",
   "execution_count": 54,
   "id": "88b4711d",
   "metadata": {},
   "outputs": [
    {
     "name": "stdout",
     "output_type": "stream",
     "text": [
      "Hello, World!\n"
     ]
    }
   ],
   "source": [
    "a = \" Hello, World! \"\n",
    "print(a.strip()) # returns \"Hello,             World!\""
   ]
  },
  {
   "cell_type": "markdown",
   "id": "b62d47c8",
   "metadata": {},
   "source": [
    "### Replace String:\n",
    "\n",
    "* The replace() method replaces a string with another string:"
   ]
  },
  {
   "cell_type": "code",
   "execution_count": 55,
   "id": "6dbc2482",
   "metadata": {},
   "outputs": [
    {
     "name": "stdout",
     "output_type": "stream",
     "text": [
      "Jello, World!\n"
     ]
    }
   ],
   "source": [
    "a = \"Hello, World!\"\n",
    "print(a.replace(\"H\", \"J\"))"
   ]
  },
  {
   "cell_type": "markdown",
   "id": "504e3cce",
   "metadata": {},
   "source": [
    "#### Split String:\n",
    "The split() method returns a list where the text between the specified separator becomes the list items."
   ]
  },
  {
   "cell_type": "code",
   "execution_count": 56,
   "id": "f9546e96",
   "metadata": {},
   "outputs": [
    {
     "name": "stdout",
     "output_type": "stream",
     "text": [
      "['Hello', ' World!']\n"
     ]
    }
   ],
   "source": [
    "# The split() method splits the string into substrings if it finds instances of the separator\n",
    "a = \"Hello, World!\"\n",
    "print(a.split(\",\")) # returns ['Hello', ' World!']"
   ]
  },
  {
   "cell_type": "markdown",
   "id": "17cd6e2d",
   "metadata": {},
   "source": [
    "#### String Concatenation:\n",
    "* To concatenate, or combine, two strings you can use the + operator."
   ]
  },
  {
   "cell_type": "code",
   "execution_count": 57,
   "id": "1af465e5",
   "metadata": {},
   "outputs": [
    {
     "name": "stdout",
     "output_type": "stream",
     "text": [
      "HelloWorld\n"
     ]
    }
   ],
   "source": [
    "a = \"Hello\"\n",
    "b = \"World\"\n",
    "c = a + b\n",
    "print(c)"
   ]
  },
  {
   "cell_type": "code",
   "execution_count": 15,
   "id": "58274a10",
   "metadata": {},
   "outputs": [
    {
     "name": "stdout",
     "output_type": "stream",
     "text": [
      "Hello World\n",
      "\n",
      "Hello\n"
     ]
    }
   ],
   "source": [
    "# To add a space between them, add a \" \":\n",
    "\n",
    "a = \"Hello\"\n",
    "b = \"World\"\n",
    "c = a + \" \" + b\n",
    "print(c)\n",
    "print()\n",
    "print(a)"
   ]
  },
  {
   "cell_type": "markdown",
   "id": "a2121787",
   "metadata": {},
   "source": [
    "### Python - Format - Strings::"
   ]
  },
  {
   "cell_type": "code",
   "execution_count": 16,
   "id": "23116c05",
   "metadata": {},
   "outputs": [
    {
     "name": "stdout",
     "output_type": "stream",
     "text": [
      "enter ur name :nitish\n",
      "enter ur age :45\n",
      "my name is 45 and my age is nitish\n"
     ]
    }
   ],
   "source": [
    "name = input('enter ur name :')\n",
    "age = int(input('enter ur age :'))\n",
    "#print(f\"my name is {name} and my age is {age}\")  # it works above 3.7 python\n",
    "print(\"my name is {} and my age is {}\".format(age,name))\n",
    "#print(\"my name is {1} and my age is {0}\".format(age,name))"
   ]
  },
  {
   "cell_type": "code",
   "execution_count": 61,
   "id": "d43ce01b",
   "metadata": {},
   "outputs": [
    {
     "ename": "TypeError",
     "evalue": "can only concatenate str (not \"int\") to str",
     "output_type": "error",
     "traceback": [
      "\u001b[1;31m---------------------------------------------------------------------------\u001b[0m",
      "\u001b[1;31mTypeError\u001b[0m                                 Traceback (most recent call last)",
      "\u001b[1;32m~\\AppData\\Local\\Temp/ipykernel_1636/3508128440.py\u001b[0m in \u001b[0;36m<module>\u001b[1;34m\u001b[0m\n\u001b[0;32m      2\u001b[0m \u001b[1;33m\u001b[0m\u001b[0m\n\u001b[0;32m      3\u001b[0m \u001b[0mage\u001b[0m \u001b[1;33m=\u001b[0m \u001b[1;36m36\u001b[0m\u001b[1;33m\u001b[0m\u001b[1;33m\u001b[0m\u001b[0m\n\u001b[1;32m----> 4\u001b[1;33m \u001b[0mtxt\u001b[0m \u001b[1;33m=\u001b[0m \u001b[1;34m\"My name is John, I am \"\u001b[0m \u001b[1;33m+\u001b[0m \u001b[0mage\u001b[0m\u001b[1;33m\u001b[0m\u001b[1;33m\u001b[0m\u001b[0m\n\u001b[0m\u001b[0;32m      5\u001b[0m \u001b[0mprint\u001b[0m\u001b[1;33m(\u001b[0m\u001b[0mtxt\u001b[0m\u001b[1;33m)\u001b[0m\u001b[1;33m\u001b[0m\u001b[1;33m\u001b[0m\u001b[0m\n",
      "\u001b[1;31mTypeError\u001b[0m: can only concatenate str (not \"int\") to str"
     ]
    }
   ],
   "source": [
    "# As we learned in the Python Variables chapter, we cannot combine strings and numbers like this:\n",
    "\n",
    "age = 36\n",
    "txt = \"My name is John, I am \" + age\n",
    "print(txt)"
   ]
  },
  {
   "cell_type": "code",
   "execution_count": 62,
   "id": "24452f88",
   "metadata": {},
   "outputs": [
    {
     "name": "stdout",
     "output_type": "stream",
     "text": [
      "My name is John, I am 36\n"
     ]
    }
   ],
   "source": [
    "age = str('36')\n",
    "txt = \"My name is John, I am \" + age\n",
    "print(txt)"
   ]
  },
  {
   "cell_type": "markdown",
   "id": "edfa7859",
   "metadata": {},
   "source": [
    "#### But we can combine strings and numbers by using the format() method!\n",
    "\n",
    "The format() method takes the passed arguments, formats them, and places them in the string where the placeholders {} are:"
   ]
  },
  {
   "cell_type": "code",
   "execution_count": 64,
   "id": "3a839bab",
   "metadata": {},
   "outputs": [
    {
     "name": "stdout",
     "output_type": "stream",
     "text": [
      "My name is John, and I am 36\n"
     ]
    }
   ],
   "source": [
    "#Use the format() method to insert numbers into strings:\n",
    "\n",
    "age = 36\n",
    "txt = \"My name is John, and I am {}\"\n",
    "print(txt.format(age))"
   ]
  },
  {
   "cell_type": "markdown",
   "id": "604ea82e",
   "metadata": {},
   "source": [
    "#### The format() method takes unlimited number of arguments, and are placed into the respective placeholders:"
   ]
  },
  {
   "cell_type": "code",
   "execution_count": 65,
   "id": "9fb51a03",
   "metadata": {},
   "outputs": [
    {
     "name": "stdout",
     "output_type": "stream",
     "text": [
      "I want 3 pieces of item 567 for 49.95 dollars.\n"
     ]
    }
   ],
   "source": [
    "quantity = 3\n",
    "itemno = 567\n",
    "price = 49.95\n",
    "myorder = \"I want {} pieces of item {} for {} dollars.\"\n",
    "print(myorder.format(quantity, itemno, price))"
   ]
  },
  {
   "cell_type": "markdown",
   "id": "addccfa1",
   "metadata": {},
   "source": [
    "#### You can use index numbers {0} to be sure the arguments are placed in the correct placeholders:"
   ]
  },
  {
   "cell_type": "code",
   "execution_count": 66,
   "id": "94d6eee5",
   "metadata": {},
   "outputs": [
    {
     "name": "stdout",
     "output_type": "stream",
     "text": [
      "I want to pay 49.95 dollars for 3 pieces of item 567.\n"
     ]
    }
   ],
   "source": [
    "quantity = 3\n",
    "itemno = 567\n",
    "price = 49.95\n",
    "myorder = \"I want to pay {2} dollars for {0} pieces of item {1}.\"\n",
    "print(myorder.format(quantity, itemno, price))"
   ]
  },
  {
   "cell_type": "markdown",
   "id": "0956f44b",
   "metadata": {},
   "source": [
    "#### Escape Character\n",
    "To insert characters that are illegal in a string, use an escape character.\n",
    "\n",
    "An escape character is a backslash \\ followed by the character you want to insert.\n",
    "\n",
    "An example of an illegal character is a double quote inside a string that is surrounded by double quotes:"
   ]
  },
  {
   "cell_type": "code",
   "execution_count": 67,
   "id": "4a8fce46",
   "metadata": {},
   "outputs": [
    {
     "ename": "SyntaxError",
     "evalue": "invalid syntax (Temp/ipykernel_1636/3798921321.py, line 3)",
     "output_type": "error",
     "traceback": [
      "\u001b[1;36m  File \u001b[1;32m\"C:\\Users\\NITHISH\\AppData\\Local\\Temp/ipykernel_1636/3798921321.py\"\u001b[1;36m, line \u001b[1;32m3\u001b[0m\n\u001b[1;33m    txt = \"We are the so-called \"Vikings\" from the north.\"\u001b[0m\n\u001b[1;37m                                 ^\u001b[0m\n\u001b[1;31mSyntaxError\u001b[0m\u001b[1;31m:\u001b[0m invalid syntax\n"
     ]
    }
   ],
   "source": [
    "#You will get an error if you use double quotes inside a string that is surrounded by double quotes:\n",
    "\n",
    "txt = \"We are the so-called \"Vikings\" from the north.\""
   ]
  },
  {
   "cell_type": "code",
   "execution_count": 69,
   "id": "2b0e02b6",
   "metadata": {},
   "outputs": [
    {
     "name": "stdout",
     "output_type": "stream",
     "text": [
      "We are the so-called \"Vikings\" from the north.\n"
     ]
    }
   ],
   "source": [
    "txt = \"We are the so-called \\\"Vikings\\\" from the north.\"\n",
    "print(txt)"
   ]
  },
  {
   "cell_type": "markdown",
   "id": "5bd2dfd2",
   "metadata": {},
   "source": [
    "# LISTS:\n",
    "\n",
    "* Lists are used to store multiple items in a single variable.\n",
    "\n",
    "* Lists are created using square brackets:\n",
    "\n",
    "* A list can contain different data types:"
   ]
  },
  {
   "cell_type": "code",
   "execution_count": 1,
   "id": "5d5f001e",
   "metadata": {},
   "outputs": [
    {
     "name": "stdout",
     "output_type": "stream",
     "text": [
      "['apple', 'banana', 'cherry']\n"
     ]
    }
   ],
   "source": [
    "# Create a list\n",
    "thislist = [\"apple\", \"banana\", \"cherry\"]\n",
    "print(thislist)"
   ]
  },
  {
   "cell_type": "markdown",
   "id": "a24dc606",
   "metadata": {},
   "source": [
    "### \n",
    "\n",
    "* List items are ordered, changeable, and allow duplicate values.\n",
    "\n",
    "* List items are indexed, the first item has index [0], the second item has index [1] etc."
   ]
  },
  {
   "cell_type": "markdown",
   "id": "42f83847",
   "metadata": {},
   "source": [
    "### Changeable:\n",
    "\n",
    "* The list is changeable, meaning that we can change, add, and remove items in a list after it has been created."
   ]
  },
  {
   "cell_type": "code",
   "execution_count": 2,
   "id": "12db90e4",
   "metadata": {},
   "outputs": [
    {
     "name": "stdout",
     "output_type": "stream",
     "text": [
      "['apple', 'banana', 'cherry']\n"
     ]
    }
   ],
   "source": [
    "# Changing an element in the list\n",
    "thislist = [\"apple\", \"banana\", \"cherry\"]\n",
    "print(thislist)"
   ]
  },
  {
   "cell_type": "code",
   "execution_count": 3,
   "id": "54b7181a",
   "metadata": {},
   "outputs": [],
   "source": [
    "thislist[1]='frog'"
   ]
  },
  {
   "cell_type": "code",
   "execution_count": 4,
   "id": "339b0faf",
   "metadata": {},
   "outputs": [
    {
     "data": {
      "text/plain": [
       "['apple', 'frog', 'cherry']"
      ]
     },
     "execution_count": 4,
     "metadata": {},
     "output_type": "execute_result"
    }
   ],
   "source": [
    "thislist"
   ]
  },
  {
   "cell_type": "markdown",
   "id": "c2942204",
   "metadata": {},
   "source": [
    "### Ordered:\n",
    "\n",
    "* When we say that lists are ordered, it means that the items have a defined order, and that order will not change.\n",
    "\n",
    "* If you add new items to a list, the new items will be placed at the end of the list."
   ]
  },
  {
   "cell_type": "code",
   "execution_count": 18,
   "id": "a22a85a3",
   "metadata": {},
   "outputs": [
    {
     "name": "stdout",
     "output_type": "stream",
     "text": [
      "['apple', 'banana', 'cherry']\n"
     ]
    }
   ],
   "source": [
    "# Adding an element------\n",
    "thislist = [\"apple\", \"banana\", \"cherry\"]\n",
    "print(thislist)"
   ]
  },
  {
   "cell_type": "code",
   "execution_count": 19,
   "id": "097d5296",
   "metadata": {},
   "outputs": [],
   "source": [
    "thislist.append(\"Mango\")"
   ]
  },
  {
   "cell_type": "code",
   "execution_count": 20,
   "id": "5c09f80f",
   "metadata": {},
   "outputs": [
    {
     "data": {
      "text/plain": [
       "['apple', 'banana', 'cherry', 'Mango']"
      ]
     },
     "execution_count": 20,
     "metadata": {},
     "output_type": "execute_result"
    }
   ],
   "source": [
    "thislist"
   ]
  },
  {
   "cell_type": "code",
   "execution_count": 22,
   "id": "e756bfbd",
   "metadata": {},
   "outputs": [],
   "source": [
    "thislist[2]=\"hi\""
   ]
  },
  {
   "cell_type": "code",
   "execution_count": 23,
   "id": "f5dd28f3",
   "metadata": {},
   "outputs": [
    {
     "data": {
      "text/plain": [
       "['apple', 'banana', 'hi', 'Mango']"
      ]
     },
     "execution_count": 23,
     "metadata": {},
     "output_type": "execute_result"
    }
   ],
   "source": [
    "thislist"
   ]
  },
  {
   "cell_type": "markdown",
   "id": "19043b23",
   "metadata": {},
   "source": [
    "### New element got added at the end"
   ]
  },
  {
   "cell_type": "markdown",
   "id": "ae753fdd",
   "metadata": {},
   "source": [
    "## Allow Duplicates:"
   ]
  },
  {
   "cell_type": "code",
   "execution_count": 9,
   "id": "3f5f7054",
   "metadata": {},
   "outputs": [
    {
     "name": "stdout",
     "output_type": "stream",
     "text": [
      "['apple', 'banana', 'cherry', 'apple', 'cherry']\n"
     ]
    }
   ],
   "source": [
    "thislist = [\"apple\", \"banana\", \"cherry\", \"apple\", \"cherry\"]\n",
    "print(thislist)"
   ]
  },
  {
   "cell_type": "markdown",
   "id": "bf34a31e",
   "metadata": {},
   "source": [
    "### List Length\n",
    "To determine how many items a list has, use the len() function:"
   ]
  },
  {
   "cell_type": "code",
   "execution_count": 10,
   "id": "d126a1f1",
   "metadata": {},
   "outputs": [
    {
     "name": "stdout",
     "output_type": "stream",
     "text": [
      "5\n"
     ]
    }
   ],
   "source": [
    "print(len(thislist))"
   ]
  },
  {
   "cell_type": "code",
   "execution_count": 11,
   "id": "2f94b3be",
   "metadata": {},
   "outputs": [
    {
     "data": {
      "text/plain": [
       "5"
      ]
     },
     "execution_count": 11,
     "metadata": {},
     "output_type": "execute_result"
    }
   ],
   "source": [
    "len(thislist)"
   ]
  },
  {
   "cell_type": "markdown",
   "id": "5945e051",
   "metadata": {},
   "source": [
    "### A list can contain different data types:"
   ]
  },
  {
   "cell_type": "code",
   "execution_count": 12,
   "id": "7c622c99",
   "metadata": {},
   "outputs": [],
   "source": [
    "thislist=['apple',14,14.98]"
   ]
  },
  {
   "cell_type": "code",
   "execution_count": 13,
   "id": "f2c8cd97",
   "metadata": {},
   "outputs": [
    {
     "name": "stdout",
     "output_type": "stream",
     "text": [
      "['apple', 14, 14.98]\n"
     ]
    }
   ],
   "source": [
    "print(thislist)"
   ]
  },
  {
   "cell_type": "code",
   "execution_count": 14,
   "id": "25898d00",
   "metadata": {},
   "outputs": [
    {
     "data": {
      "text/plain": [
       "list"
      ]
     },
     "execution_count": 14,
     "metadata": {},
     "output_type": "execute_result"
    }
   ],
   "source": [
    "type(thislist)"
   ]
  },
  {
   "cell_type": "markdown",
   "id": "d587519f",
   "metadata": {},
   "source": [
    "## Python Collections:\n",
    "* There are four collection data types in the Python programming language\n",
    "\n",
    "* List is a collection which is ordered and changeable. Allows duplicate members.\n",
    "\n",
    "* Tuple is a collection which is ordered and unchangeable. Allows duplicate members.\n",
    "\n",
    "* Set is a collection which is unordered, unchangeable*, and unindexed. No duplicate members.\n",
    "\n",
    "* Dictionary is a collection which is ordered** and changeable. No duplicate members."
   ]
  },
  {
   "cell_type": "markdown",
   "id": "381db453",
   "metadata": {},
   "source": [
    "### Python - Access List Items\n",
    "* List items are indexed and you can access them by referring to the index number:"
   ]
  },
  {
   "cell_type": "code",
   "execution_count": 15,
   "id": "afe00a5b",
   "metadata": {},
   "outputs": [
    {
     "name": "stdout",
     "output_type": "stream",
     "text": [
      "banana\n"
     ]
    }
   ],
   "source": [
    "thislist = [\"apple\", \"banana\", \"cherry\"]\n",
    "print(thislist[1])"
   ]
  },
  {
   "cell_type": "markdown",
   "id": "dd45ebed",
   "metadata": {},
   "source": [
    "### Negative Indexing\n",
    "* Negative indexing means start from the end\n",
    "\n",
    "* -1 refers to the last item, -2 refers to the second last item etc."
   ]
  },
  {
   "cell_type": "code",
   "execution_count": 16,
   "id": "c8441e20",
   "metadata": {},
   "outputs": [
    {
     "name": "stdout",
     "output_type": "stream",
     "text": [
      "cherry\n"
     ]
    }
   ],
   "source": [
    "thislist = [\"apple\", \"banana\", \"cherry\"]\n",
    "print(thislist[-1])"
   ]
  },
  {
   "cell_type": "markdown",
   "id": "e655f84a",
   "metadata": {},
   "source": [
    "### You can specify a range of indexes by specifying where to start and where to end the range."
   ]
  },
  {
   "cell_type": "code",
   "execution_count": 17,
   "id": "f4d13cde",
   "metadata": {},
   "outputs": [
    {
     "data": {
      "text/plain": [
       "['apple']"
      ]
     },
     "execution_count": 17,
     "metadata": {},
     "output_type": "execute_result"
    }
   ],
   "source": [
    "thislist[0:1]"
   ]
  },
  {
   "cell_type": "code",
   "execution_count": 18,
   "id": "1479284a",
   "metadata": {},
   "outputs": [
    {
     "data": {
      "text/plain": [
       "['apple', 'banana']"
      ]
     },
     "execution_count": 18,
     "metadata": {},
     "output_type": "execute_result"
    }
   ],
   "source": [
    "thislist[0:2]"
   ]
  },
  {
   "cell_type": "code",
   "execution_count": 20,
   "id": "d4d2d404",
   "metadata": {},
   "outputs": [
    {
     "data": {
      "text/plain": [
       "['Village', 'Happy', 'Sad']"
      ]
     },
     "execution_count": 20,
     "metadata": {},
     "output_type": "execute_result"
    }
   ],
   "source": [
    "# Return the third, fourth, and fifth item:\n",
    "a=[\"Home\",\"House\",\"Village\",\"Happy\",\"Sad\",\"bad\"]\n",
    "a[2:5]"
   ]
  },
  {
   "cell_type": "code",
   "execution_count": 21,
   "id": "fb1b5032",
   "metadata": {},
   "outputs": [
    {
     "name": "stdout",
     "output_type": "stream",
     "text": [
      "['apple', 'banana', 'cherry', 'orange']\n"
     ]
    }
   ],
   "source": [
    "thislist = [\"apple\", \"banana\", \"cherry\", \"orange\", \"kiwi\", \"melon\", \"mango\"]\n",
    "print(thislist[:4])"
   ]
  },
  {
   "cell_type": "code",
   "execution_count": 22,
   "id": "95c94189",
   "metadata": {},
   "outputs": [
    {
     "name": "stdout",
     "output_type": "stream",
     "text": [
      "['cherry', 'orange', 'kiwi', 'melon', 'mango']\n"
     ]
    }
   ],
   "source": [
    "#This example returns the items from \"cherry\" to the end:\n",
    "thislist = [\"apple\", \"banana\", \"cherry\", \"orange\", \"kiwi\", \"melon\", \"mango\"]\n",
    "print(thislist[2:])"
   ]
  },
  {
   "cell_type": "markdown",
   "id": "e29a954e",
   "metadata": {},
   "source": [
    "### Negative Indexes"
   ]
  },
  {
   "cell_type": "code",
   "execution_count": 28,
   "id": "22f60b4d",
   "metadata": {},
   "outputs": [
    {
     "name": "stdout",
     "output_type": "stream",
     "text": [
      "['orange', 'kiwi', 'melon', 'mango']\n"
     ]
    }
   ],
   "source": [
    "thislist = [\"apple\", \"banana\", \"cherry\", \"orange\", \"kiwi\", \"melon\", \"mango\"]\n",
    "print(thislist[-4:])"
   ]
  },
  {
   "cell_type": "markdown",
   "id": "fc555dbc",
   "metadata": {},
   "source": [
    "### Check if Item Exists:"
   ]
  },
  {
   "cell_type": "code",
   "execution_count": 29,
   "id": "913afa7c",
   "metadata": {},
   "outputs": [
    {
     "name": "stdout",
     "output_type": "stream",
     "text": [
      "Yes\n"
     ]
    }
   ],
   "source": [
    "thislist = [\"apple\", \"banana\", \"cherry\", \"orange\", \"kiwi\", \"melon\", \"mango\"]\n",
    "if \"cherry\" in thislist:\n",
    "    print(\"Yes\")"
   ]
  },
  {
   "cell_type": "code",
   "execution_count": 31,
   "id": "e320c4d3",
   "metadata": {},
   "outputs": [
    {
     "name": "stdout",
     "output_type": "stream",
     "text": [
      "No\n"
     ]
    }
   ],
   "source": [
    "thislist = [\"apple\", \"banana\", \"cherry\", \"orange\", \"kiwi\", \"melon\", \"mango\"]\n",
    "if \"chery\" in thislist:\n",
    "    print(\"Yes\")\n",
    "else:\n",
    "    print(\"No\")"
   ]
  },
  {
   "cell_type": "markdown",
   "id": "aa5cf177",
   "metadata": {},
   "source": [
    "### Python - Change List Items:\n",
    "* To change the value of a specific item, refer to the index number:"
   ]
  },
  {
   "cell_type": "code",
   "execution_count": 32,
   "id": "069a3abc",
   "metadata": {},
   "outputs": [],
   "source": [
    "#Change the second item:\n",
    "thislist = [\"apple\", \"banana\", \"cherry\", \"orange\", \"kiwi\", \"melon\", \"mango\"]\n",
    "thislist[2]='Cat'"
   ]
  },
  {
   "cell_type": "code",
   "execution_count": 33,
   "id": "84a6931f",
   "metadata": {},
   "outputs": [
    {
     "name": "stdout",
     "output_type": "stream",
     "text": [
      "['apple', 'banana', 'Cat', 'orange', 'kiwi', 'melon', 'mango']\n"
     ]
    }
   ],
   "source": [
    "print(thislist)"
   ]
  },
  {
   "cell_type": "markdown",
   "id": "dc79fd15",
   "metadata": {},
   "source": [
    "### Change a Range of Item Values\n",
    "* To change the value of items within a specific range, define a list with the new values, and refer to the range of index numbers where you want to insert the new values:"
   ]
  },
  {
   "cell_type": "code",
   "execution_count": 34,
   "id": "6e17bbcb",
   "metadata": {},
   "outputs": [],
   "source": [
    "thislist = [\"apple\", \"banana\", \"cherry\", \"orange\", \"kiwi\", \"melon\", \"mango\"]\n",
    "thislist[2:4]=['Dog',\"Bat\",\"Die\"]"
   ]
  },
  {
   "cell_type": "code",
   "execution_count": 35,
   "id": "bcf4b96e",
   "metadata": {},
   "outputs": [
    {
     "data": {
      "text/plain": [
       "['apple', 'banana', 'Dog', 'Bat', 'Die', 'kiwi', 'melon', 'mango']"
      ]
     },
     "execution_count": 35,
     "metadata": {},
     "output_type": "execute_result"
    }
   ],
   "source": [
    "thislist"
   ]
  },
  {
   "cell_type": "code",
   "execution_count": 38,
   "id": "c7b0a459",
   "metadata": {},
   "outputs": [],
   "source": [
    "#Change the second value by replacing it with two new values:\n",
    "thislist = [\"apple\", \"banana\", \"cherry\", \"orange\", \"kiwi\", \"melon\", \"mango\"]\n",
    "thislist[2:3]=[\"MATHS\",\"MATCHES\"]"
   ]
  },
  {
   "cell_type": "code",
   "execution_count": 39,
   "id": "efa39435",
   "metadata": {},
   "outputs": [
    {
     "data": {
      "text/plain": [
       "['apple', 'banana', 'MATHS', 'MATCHES', 'orange', 'kiwi', 'melon', 'mango']"
      ]
     },
     "execution_count": 39,
     "metadata": {},
     "output_type": "execute_result"
    }
   ],
   "source": [
    "thislist"
   ]
  },
  {
   "cell_type": "markdown",
   "id": "595fd4f6",
   "metadata": {},
   "source": [
    "# 6-Tuple:\n",
    "\n",
    "* A tuple is a collection which is ordered and unchangeable.\n",
    "\n",
    "* Tuples are written with round brackets."
   ]
  },
  {
   "cell_type": "code",
   "execution_count": 2,
   "id": "1b949cca",
   "metadata": {},
   "outputs": [
    {
     "name": "stdout",
     "output_type": "stream",
     "text": [
      "(1, 2, 3, 4, 5)\n",
      "<class 'tuple'>\n"
     ]
    }
   ],
   "source": [
    "# Create a Tuple:\n",
    "a=(1,2,3,4,5)\n",
    "print(a)\n",
    "print(type(a))"
   ]
  },
  {
   "cell_type": "markdown",
   "id": "2aac538f",
   "metadata": {},
   "source": [
    "### Tuples are Ordered -Unchangable / Immutable-Allow duplicates\n",
    "\n",
    "* Ordered: When we say that tuples are ordered, it means that the items have a defined order, and that order will not change.\n",
    "\n",
    "* Unchangaeble:Tuples are unchangeable, meaning that we cannot change, add or remove items after the tuple has been created.\n",
    "\n",
    "* Allow duplicates:"
   ]
  },
  {
   "cell_type": "code",
   "execution_count": 3,
   "id": "7c7bc263",
   "metadata": {},
   "outputs": [
    {
     "name": "stdout",
     "output_type": "stream",
     "text": [
      "(1, 2, 3, 7, 9)\n"
     ]
    }
   ],
   "source": [
    "a=(1,2,3,7,9)\n",
    "print(a)"
   ]
  },
  {
   "cell_type": "code",
   "execution_count": 5,
   "id": "417d5fad",
   "metadata": {},
   "outputs": [
    {
     "name": "stdout",
     "output_type": "stream",
     "text": [
      "(1, 2.5, 'apple')\n"
     ]
    }
   ],
   "source": [
    "# A tuple can contain different data types:\n",
    "a=(1,2.5,\"apple\")\n",
    "print(a)"
   ]
  },
  {
   "cell_type": "code",
   "execution_count": 6,
   "id": "b8d2b60a",
   "metadata": {},
   "outputs": [
    {
     "data": {
      "text/plain": [
       "tuple"
      ]
     },
     "execution_count": 6,
     "metadata": {},
     "output_type": "execute_result"
    }
   ],
   "source": [
    "type(a)"
   ]
  },
  {
   "cell_type": "markdown",
   "id": "54d6a21c",
   "metadata": {},
   "source": [
    "# Access Tuple Items:\n",
    "* You can access tuple items by referring to the index number, inside square brackets:"
   ]
  },
  {
   "cell_type": "code",
   "execution_count": 7,
   "id": "65d09696",
   "metadata": {},
   "outputs": [
    {
     "data": {
      "text/plain": [
       "2.5"
      ]
     },
     "execution_count": 7,
     "metadata": {},
     "output_type": "execute_result"
    }
   ],
   "source": [
    "a=(1,2.5,\"apple\")\n",
    "a[1]"
   ]
  },
  {
   "cell_type": "code",
   "execution_count": 8,
   "id": "e73a1d94",
   "metadata": {},
   "outputs": [
    {
     "name": "stdout",
     "output_type": "stream",
     "text": [
      "2.5\n"
     ]
    }
   ],
   "source": [
    "print(a[1])"
   ]
  },
  {
   "cell_type": "code",
   "execution_count": 9,
   "id": "7761848d",
   "metadata": {},
   "outputs": [],
   "source": [
    "# Negative Indexing: Negative indexing means start from the end.\n",
    "\n",
    "# -1 refers to the last item, -2 refers to the second last item etc."
   ]
  },
  {
   "cell_type": "code",
   "execution_count": 10,
   "id": "3864a159",
   "metadata": {},
   "outputs": [
    {
     "data": {
      "text/plain": [
       "'apple'"
      ]
     },
     "execution_count": 10,
     "metadata": {},
     "output_type": "execute_result"
    }
   ],
   "source": [
    "a[-1]"
   ]
  },
  {
   "cell_type": "code",
   "execution_count": 11,
   "id": "62154364",
   "metadata": {},
   "outputs": [
    {
     "data": {
      "text/plain": [
       "(1, 2.5, 'apple')"
      ]
     },
     "execution_count": 11,
     "metadata": {},
     "output_type": "execute_result"
    }
   ],
   "source": [
    "# Range of Indexes:\n",
    "a[0:]"
   ]
  },
  {
   "cell_type": "code",
   "execution_count": 12,
   "id": "4ac756b9",
   "metadata": {},
   "outputs": [
    {
     "name": "stdout",
     "output_type": "stream",
     "text": [
      "('apple', 'banana', 'cherry', 'orange')\n"
     ]
    }
   ],
   "source": [
    "thistuple = (\"apple\", \"banana\", \"cherry\", \"orange\", \"kiwi\", \"melon\", \"mango\")\n",
    "print(thistuple[:4])"
   ]
  },
  {
   "cell_type": "code",
   "execution_count": 13,
   "id": "9b8389c0",
   "metadata": {},
   "outputs": [
    {
     "data": {
      "text/plain": [
       "('cherry', 'orange', 'kiwi', 'melon', 'mango')"
      ]
     },
     "execution_count": 13,
     "metadata": {},
     "output_type": "execute_result"
    }
   ],
   "source": [
    "# This example returns the items from \"cherry\" and to the end:\n",
    "thistuple = (\"apple\", \"banana\", \"cherry\", \"orange\", \"kiwi\", \"melon\", \"mango\")\n",
    "thistuple[2:]"
   ]
  },
  {
   "cell_type": "code",
   "execution_count": 14,
   "id": "f6f1bb8c",
   "metadata": {},
   "outputs": [
    {
     "name": "stdout",
     "output_type": "stream",
     "text": [
      "Yes\n"
     ]
    }
   ],
   "source": [
    "# Check if Item Exists\n",
    "thistuple = (\"apple\", \"banana\", \"cherry\", \"orange\", \"kiwi\", \"melon\", \"mango\")\n",
    "if \"kiwi\" in thistuple:\n",
    "    print(\"Yes\")"
   ]
  },
  {
   "cell_type": "code",
   "execution_count": 15,
   "id": "382143c6",
   "metadata": {},
   "outputs": [
    {
     "name": "stdout",
     "output_type": "stream",
     "text": [
      "No\n"
     ]
    }
   ],
   "source": [
    "thistuple = (\"apple\", \"banana\", \"cherry\", \"orange\", \"kiwi\", \"melon\", \"mango\")\n",
    "if \"frog\" in thistuple:\n",
    "    print(\"Yes\")\n",
    "else:\n",
    "    print(\"No\")"
   ]
  },
  {
   "cell_type": "markdown",
   "id": "36e81562",
   "metadata": {},
   "source": [
    "# Python - Update Tuples:\n",
    "\n",
    "* Tuples are unchangeable, meaning that you cannot change, add, or remove items once the tuple is created.\n",
    "\n",
    "* Once a tuple is created, you cannot change its values. Tuples are unchangeable, or immutable as it also is called.\n",
    "\n",
    "* But there is a workaround. You can convert the tuple into a list, change the list, and convert the list back into a tuple."
   ]
  },
  {
   "cell_type": "code",
   "execution_count": 16,
   "id": "d2299ada",
   "metadata": {},
   "outputs": [],
   "source": [
    "thistuple=(1,2,3,4,5,6)\n",
    "y=list(thistuple) # Converting the tuple into list"
   ]
  },
  {
   "cell_type": "code",
   "execution_count": 17,
   "id": "077f37d9",
   "metadata": {},
   "outputs": [
    {
     "data": {
      "text/plain": [
       "[1, 2, 3, 4, 5, 6]"
      ]
     },
     "execution_count": 17,
     "metadata": {},
     "output_type": "execute_result"
    }
   ],
   "source": [
    "y"
   ]
  },
  {
   "cell_type": "code",
   "execution_count": 18,
   "id": "ae44b12a",
   "metadata": {},
   "outputs": [],
   "source": [
    "# Now make the changes u like\n",
    "# adding 100\n",
    "y.append(100)"
   ]
  },
  {
   "cell_type": "code",
   "execution_count": 19,
   "id": "68881c37",
   "metadata": {},
   "outputs": [
    {
     "data": {
      "text/plain": [
       "[1, 2, 3, 4, 5, 6, 100]"
      ]
     },
     "execution_count": 19,
     "metadata": {},
     "output_type": "execute_result"
    }
   ],
   "source": [
    "y"
   ]
  },
  {
   "cell_type": "code",
   "execution_count": 20,
   "id": "eac3c8fa",
   "metadata": {},
   "outputs": [],
   "source": [
    "thistuple=tuple(y) # Converitng back to the tuple"
   ]
  },
  {
   "cell_type": "code",
   "execution_count": 21,
   "id": "fb1a9549",
   "metadata": {},
   "outputs": [
    {
     "data": {
      "text/plain": [
       "(1, 2, 3, 4, 5, 6, 100)"
      ]
     },
     "execution_count": 21,
     "metadata": {},
     "output_type": "execute_result"
    }
   ],
   "source": [
    "thistuple"
   ]
  },
  {
   "cell_type": "markdown",
   "id": "42f339c4",
   "metadata": {},
   "source": [
    "## Add tuple to a tuple ::"
   ]
  },
  {
   "cell_type": "code",
   "execution_count": 22,
   "id": "3d1f40e7",
   "metadata": {},
   "outputs": [],
   "source": [
    "a=(1,2,3,4,5,6) # First tuple\n",
    "b=(\"apple\",\"Man\") # Second tuple\n",
    "a=a+b # Adding first and second tuple"
   ]
  },
  {
   "cell_type": "code",
   "execution_count": 23,
   "id": "5eceef7c",
   "metadata": {},
   "outputs": [
    {
     "data": {
      "text/plain": [
       "(1, 2, 3, 4, 5, 6, 'apple', 'Man')"
      ]
     },
     "execution_count": 23,
     "metadata": {},
     "output_type": "execute_result"
    }
   ],
   "source": [
    "a"
   ]
  },
  {
   "cell_type": "markdown",
   "id": "3ccea184",
   "metadata": {},
   "source": [
    "### Remove Items::Tuples are unchangeable, so you cannot remove items from it, but you can use the same workaround as we used for changing and adding tuple items:"
   ]
  },
  {
   "cell_type": "code",
   "execution_count": 24,
   "id": "d610a91b",
   "metadata": {},
   "outputs": [],
   "source": [
    "thistuple = (\"apple\", \"banana\", \"cherry\") # creating a tuple\n",
    "# I want to remove cherry from the tuple\n",
    "a=list(thistuple) # Converting tuple to the list\n"
   ]
  },
  {
   "cell_type": "code",
   "execution_count": 25,
   "id": "890105bb",
   "metadata": {},
   "outputs": [
    {
     "data": {
      "text/plain": [
       "['apple', 'banana', 'cherry']"
      ]
     },
     "execution_count": 25,
     "metadata": {},
     "output_type": "execute_result"
    }
   ],
   "source": [
    "a"
   ]
  },
  {
   "cell_type": "code",
   "execution_count": 26,
   "id": "575ecd0b",
   "metadata": {},
   "outputs": [],
   "source": [
    "a.remove(\"cherry\")"
   ]
  },
  {
   "cell_type": "code",
   "execution_count": 27,
   "id": "dee20858",
   "metadata": {},
   "outputs": [
    {
     "data": {
      "text/plain": [
       "['apple', 'banana']"
      ]
     },
     "execution_count": 27,
     "metadata": {},
     "output_type": "execute_result"
    }
   ],
   "source": [
    "a"
   ]
  },
  {
   "cell_type": "code",
   "execution_count": 28,
   "id": "fd249e79",
   "metadata": {},
   "outputs": [],
   "source": [
    "thistuple=tuple(a) # Convert back to tuple"
   ]
  },
  {
   "cell_type": "code",
   "execution_count": 29,
   "id": "5f344539",
   "metadata": {},
   "outputs": [
    {
     "data": {
      "text/plain": [
       "('apple', 'banana')"
      ]
     },
     "execution_count": 29,
     "metadata": {},
     "output_type": "execute_result"
    }
   ],
   "source": [
    "thistuple"
   ]
  },
  {
   "cell_type": "markdown",
   "id": "7c216417",
   "metadata": {},
   "source": [
    "## Loop Through a Tuple:\n",
    "* You can loop through the tuple items by using a for loop.\n",
    "* Iterate through the items and print the values:"
   ]
  },
  {
   "cell_type": "code",
   "execution_count": 30,
   "id": "9e46b489",
   "metadata": {},
   "outputs": [
    {
     "name": "stdout",
     "output_type": "stream",
     "text": [
      "apple\n",
      "banana\n",
      "cherry\n"
     ]
    }
   ],
   "source": [
    "thistuple = (\"apple\", \"banana\", \"cherry\")\n",
    "for x in thistuple:\n",
    "    print(x)"
   ]
  },
  {
   "cell_type": "code",
   "execution_count": 35,
   "id": "fa114b10",
   "metadata": {},
   "outputs": [
    {
     "name": "stdout",
     "output_type": "stream",
     "text": [
      "a\n",
      "p\n",
      "p\n",
      "l\n",
      "e\n"
     ]
    }
   ],
   "source": [
    "a=(\"apple\")\n",
    "for i in a:\n",
    "    print(i)"
   ]
  },
  {
   "cell_type": "code",
   "execution_count": 36,
   "id": "58c6bf4b",
   "metadata": {},
   "outputs": [
    {
     "name": "stdout",
     "output_type": "stream",
     "text": [
      "i\n",
      "i\n",
      "i\n",
      "i\n",
      "i\n"
     ]
    }
   ],
   "source": [
    "a=(\"apple\")\n",
    "for i in a:\n",
    "    print(\"i\")"
   ]
  },
  {
   "cell_type": "markdown",
   "id": "1731d635",
   "metadata": {},
   "source": [
    "## Join Two Tuples:\n",
    "* To join two or more tuples you can use the + operator"
   ]
  },
  {
   "cell_type": "code",
   "execution_count": 37,
   "id": "d51b78a6",
   "metadata": {},
   "outputs": [
    {
     "name": "stdout",
     "output_type": "stream",
     "text": [
      "('a', 'b', 'c', 1, 2, 3)\n"
     ]
    }
   ],
   "source": [
    "tuple1 = (\"a\", \"b\" , \"c\")\n",
    "tuple2 = (1, 2, 3)\n",
    "\n",
    "tuple3 = tuple1 + tuple2\n",
    "print(tuple3)"
   ]
  },
  {
   "cell_type": "markdown",
   "id": "80f70414",
   "metadata": {},
   "source": [
    "## Multiply Tuples:\n",
    "* If you want to multiply the content of a tuple a given number of times, you can use the * operator:"
   ]
  },
  {
   "cell_type": "code",
   "execution_count": 38,
   "id": "dc17b14d",
   "metadata": {},
   "outputs": [
    {
     "name": "stdout",
     "output_type": "stream",
     "text": [
      "('a', 'b', 'c', 'a', 'b', 'c')\n"
     ]
    }
   ],
   "source": [
    "tuple1 = (\"a\", \"b\" , \"c\")\n",
    "tuple2=tuple1*2\n",
    "print(tuple2)"
   ]
  },
  {
   "cell_type": "markdown",
   "id": "86c36654",
   "metadata": {},
   "source": [
    "## Tuple Methods:\n",
    "\n",
    "* Python has two built-in methods that you can use on tuples.\n",
    "\n",
    "* count()\tReturns the number of times a specified value occurs in a tuple\n",
    "\n",
    "* index()\tSearches the tuple for a specified value and returns the position of where it was found"
   ]
  },
  {
   "cell_type": "code",
   "execution_count": 39,
   "id": "9197ca25",
   "metadata": {},
   "outputs": [
    {
     "data": {
      "text/plain": [
       "('a', 'b', 'c', 'a', 'b', 'c')"
      ]
     },
     "execution_count": 39,
     "metadata": {},
     "output_type": "execute_result"
    }
   ],
   "source": [
    "tuple2"
   ]
  },
  {
   "cell_type": "code",
   "execution_count": 41,
   "id": "9004f2d7",
   "metadata": {},
   "outputs": [
    {
     "data": {
      "text/plain": [
       "2"
      ]
     },
     "execution_count": 41,
     "metadata": {},
     "output_type": "execute_result"
    }
   ],
   "source": [
    "tuple2.count('a')"
   ]
  },
  {
   "cell_type": "code",
   "execution_count": 42,
   "id": "8b11731a",
   "metadata": {},
   "outputs": [
    {
     "data": {
      "text/plain": [
       "0"
      ]
     },
     "execution_count": 42,
     "metadata": {},
     "output_type": "execute_result"
    }
   ],
   "source": [
    "tuple2.index('a')"
   ]
  },
  {
   "cell_type": "markdown",
   "id": "fa37de5a",
   "metadata": {},
   "source": [
    "# Python Sets::\n",
    "\n",
    "* Sets are used to store multiple items in a single variable.\n",
    "\n",
    "* Sets are written with curly brackets.\n",
    "\n",
    "* A set is a collection which is unordered, unchangeable*, and unindexed....Set items are unchangeable, but you can remove items and add new items."
   ]
  },
  {
   "cell_type": "code",
   "execution_count": 44,
   "id": "654baa1f",
   "metadata": {},
   "outputs": [
    {
     "name": "stdout",
     "output_type": "stream",
     "text": [
      "{'cherry', 'banana', 'apple'}\n"
     ]
    }
   ],
   "source": [
    "thisset = {\"apple\", \"banana\", \"cherry\"}\n",
    "print(thisset)"
   ]
  },
  {
   "cell_type": "markdown",
   "id": "a6eeaa8c",
   "metadata": {},
   "source": [
    "## Unordered:\n",
    "\n",
    "* Unordered means that the items in a set do not have a defined order.\n",
    "\n",
    "* Set items can appear in a different order every time you use them, and cannot be referred to by index or key.\n",
    "\n"
   ]
  },
  {
   "cell_type": "code",
   "execution_count": 51,
   "id": "7c6f56fb",
   "metadata": {},
   "outputs": [],
   "source": [
    "a={\"Zebra\",\"Cow\",\"Bat\",\"Pink\"}"
   ]
  },
  {
   "cell_type": "code",
   "execution_count": 52,
   "id": "5ea8531d",
   "metadata": {},
   "outputs": [
    {
     "data": {
      "text/plain": [
       "{'Bat', 'Cow', 'Pink', 'Zebra'}"
      ]
     },
     "execution_count": 52,
     "metadata": {},
     "output_type": "execute_result"
    }
   ],
   "source": [
    "a # Set items can appear in a different order every time you use them, and cannot be referred to by index or key."
   ]
  },
  {
   "cell_type": "markdown",
   "id": "ed5d066e",
   "metadata": {},
   "source": [
    "## Unchangeable\n",
    "* Set items are unchangeable, meaning that we cannot change the items after the set has been created."
   ]
  },
  {
   "cell_type": "markdown",
   "id": "bc60090e",
   "metadata": {},
   "source": [
    "### Duplicates Not Allowed\n",
    "* Sets cannot have two items with the same value."
   ]
  },
  {
   "cell_type": "code",
   "execution_count": 53,
   "id": "ab63287c",
   "metadata": {},
   "outputs": [],
   "source": [
    "a={\"Apple\",\"Kivi\",\"Mango\",\"Banana\",\"Banana\"}"
   ]
  },
  {
   "cell_type": "code",
   "execution_count": 55,
   "id": "a9c2cf63",
   "metadata": {},
   "outputs": [
    {
     "data": {
      "text/plain": [
       "{'Apple', 'Banana', 'Kivi', 'Mango'}"
      ]
     },
     "execution_count": 55,
     "metadata": {},
     "output_type": "execute_result"
    }
   ],
   "source": [
    "a #Duplicate values will be ignored:"
   ]
  },
  {
   "cell_type": "code",
   "execution_count": 56,
   "id": "ac0f8e4c",
   "metadata": {},
   "outputs": [
    {
     "data": {
      "text/plain": [
       "4"
      ]
     },
     "execution_count": 56,
     "metadata": {},
     "output_type": "execute_result"
    }
   ],
   "source": [
    "# Get the Length of a Set\n",
    "len(a)"
   ]
  },
  {
   "cell_type": "code",
   "execution_count": 57,
   "id": "4dc486b9",
   "metadata": {},
   "outputs": [],
   "source": [
    "# Set items can be of any data type:\n",
    "a={1,1235.65,\"apple\"}"
   ]
  },
  {
   "cell_type": "code",
   "execution_count": 58,
   "id": "6725c1ba",
   "metadata": {},
   "outputs": [
    {
     "data": {
      "text/plain": [
       "{1, 1235.65, 'apple'}"
      ]
     },
     "execution_count": 58,
     "metadata": {},
     "output_type": "execute_result"
    }
   ],
   "source": [
    "a"
   ]
  },
  {
   "cell_type": "code",
   "execution_count": 59,
   "id": "29ccf7c7",
   "metadata": {},
   "outputs": [
    {
     "data": {
      "text/plain": [
       "set"
      ]
     },
     "execution_count": 59,
     "metadata": {},
     "output_type": "execute_result"
    }
   ],
   "source": [
    "type(a)"
   ]
  },
  {
   "cell_type": "markdown",
   "id": "e0fe30c5",
   "metadata": {},
   "source": [
    "### Access Set Items:\n",
    "\n",
    "* You cannot access items in a set by referring to an index or a key.\n",
    "* But you can loop through the set items using a for loop, or ask if a specified value is present in a set, by using the in keyword."
   ]
  },
  {
   "cell_type": "code",
   "execution_count": 60,
   "id": "91b81adf",
   "metadata": {},
   "outputs": [],
   "source": [
    "a={1,1235.65,\"apple\"}"
   ]
  },
  {
   "cell_type": "code",
   "execution_count": 61,
   "id": "dd7bd1ca",
   "metadata": {},
   "outputs": [
    {
     "ename": "TypeError",
     "evalue": "'set' object is not subscriptable",
     "output_type": "error",
     "traceback": [
      "\u001b[1;31m---------------------------------------------------------------------------\u001b[0m",
      "\u001b[1;31mTypeError\u001b[0m                                 Traceback (most recent call last)",
      "\u001b[1;32m~\\AppData\\Local\\Temp/ipykernel_10896/240059899.py\u001b[0m in \u001b[0;36m<module>\u001b[1;34m\u001b[0m\n\u001b[1;32m----> 1\u001b[1;33m \u001b[0ma\u001b[0m\u001b[1;33m[\u001b[0m\u001b[1;36m1\u001b[0m\u001b[1;33m]\u001b[0m\u001b[1;33m\u001b[0m\u001b[1;33m\u001b[0m\u001b[0m\n\u001b[0m",
      "\u001b[1;31mTypeError\u001b[0m: 'set' object is not subscriptable"
     ]
    }
   ],
   "source": [
    "a[1]"
   ]
  },
  {
   "cell_type": "code",
   "execution_count": 62,
   "id": "5f4737ab",
   "metadata": {},
   "outputs": [
    {
     "name": "stdout",
     "output_type": "stream",
     "text": [
      "1\n",
      "1235.65\n",
      "apple\n"
     ]
    }
   ],
   "source": [
    "a={1,1235.65,\"apple\"}\n",
    "for i in a:\n",
    "    print(i)"
   ]
  },
  {
   "cell_type": "markdown",
   "id": "47af3e02",
   "metadata": {},
   "source": [
    "### Add Set Items:\n",
    "* Once a set is created, you cannot change its items, but you can add new items.\n",
    "* To add one item to a set use the add() method."
   ]
  },
  {
   "cell_type": "code",
   "execution_count": 63,
   "id": "1e54e131",
   "metadata": {},
   "outputs": [
    {
     "name": "stdout",
     "output_type": "stream",
     "text": [
      "{'orange', 'cherry', 'banana', 'apple'}\n"
     ]
    }
   ],
   "source": [
    "thisset = {\"apple\", \"banana\", \"cherry\"}\n",
    "thisset.add(\"orange\")\n",
    "print(thisset)"
   ]
  },
  {
   "cell_type": "markdown",
   "id": "d89db66f",
   "metadata": {},
   "source": [
    "### Add Sets\n",
    "* To add items from another set into the current set, use the update() method."
   ]
  },
  {
   "cell_type": "code",
   "execution_count": 64,
   "id": "45410e61",
   "metadata": {},
   "outputs": [],
   "source": [
    "thisset = {\"apple\", \"banana\", \"cherry\"}\n",
    "a={'1','2','3','4'}\n",
    "thisset.update(a)"
   ]
  },
  {
   "cell_type": "code",
   "execution_count": 65,
   "id": "41f19738",
   "metadata": {},
   "outputs": [
    {
     "data": {
      "text/plain": [
       "{'1', '2', '3', '4', 'apple', 'banana', 'cherry'}"
      ]
     },
     "execution_count": 65,
     "metadata": {},
     "output_type": "execute_result"
    }
   ],
   "source": [
    "thisset"
   ]
  },
  {
   "cell_type": "markdown",
   "id": "7cd9ac04",
   "metadata": {},
   "source": [
    "### Remove Set Items:\n",
    "* To remove an item in a set, use the remove(), or the discard() method."
   ]
  },
  {
   "cell_type": "code",
   "execution_count": 66,
   "id": "19f44622",
   "metadata": {},
   "outputs": [
    {
     "data": {
      "text/plain": [
       "{'1', '2', '3', '4', 'apple', 'banana', 'cherry'}"
      ]
     },
     "execution_count": 66,
     "metadata": {},
     "output_type": "execute_result"
    }
   ],
   "source": [
    "thisset"
   ]
  },
  {
   "cell_type": "code",
   "execution_count": 67,
   "id": "213dfd49",
   "metadata": {},
   "outputs": [],
   "source": [
    "thisset.remove('cherry')"
   ]
  },
  {
   "cell_type": "code",
   "execution_count": 68,
   "id": "2dc88c93",
   "metadata": {},
   "outputs": [
    {
     "data": {
      "text/plain": [
       "{'1', '2', '3', '4', 'apple', 'banana'}"
      ]
     },
     "execution_count": 68,
     "metadata": {},
     "output_type": "execute_result"
    }
   ],
   "source": [
    "thisset"
   ]
  },
  {
   "cell_type": "code",
   "execution_count": 69,
   "id": "66faeec5",
   "metadata": {},
   "outputs": [
    {
     "data": {
      "text/plain": [
       "{'1', '2', '3', '4', 'apple', 'banana'}"
      ]
     },
     "execution_count": 69,
     "metadata": {},
     "output_type": "execute_result"
    }
   ],
   "source": [
    "# Remove the last item by using the pop() method:\n",
    "thisset"
   ]
  },
  {
   "cell_type": "code",
   "execution_count": 70,
   "id": "1f4193e1",
   "metadata": {},
   "outputs": [
    {
     "data": {
      "text/plain": [
       "'banana'"
      ]
     },
     "execution_count": 70,
     "metadata": {},
     "output_type": "execute_result"
    }
   ],
   "source": [
    "thisset.pop()"
   ]
  },
  {
   "cell_type": "code",
   "execution_count": 71,
   "id": "ef769835",
   "metadata": {},
   "outputs": [],
   "source": [
    "# The clear() method empties the set:\n",
    "a={11,12,13,14,15,16}\n",
    "a.clear()"
   ]
  },
  {
   "cell_type": "code",
   "execution_count": 72,
   "id": "453f510e",
   "metadata": {},
   "outputs": [
    {
     "data": {
      "text/plain": [
       "set()"
      ]
     },
     "execution_count": 72,
     "metadata": {},
     "output_type": "execute_result"
    }
   ],
   "source": [
    "a"
   ]
  },
  {
   "cell_type": "code",
   "execution_count": 73,
   "id": "eda86467",
   "metadata": {},
   "outputs": [],
   "source": [
    "# The del keyword will delete the set completely:\n",
    "b={14,15,16,17,18,19}"
   ]
  },
  {
   "cell_type": "code",
   "execution_count": 75,
   "id": "8c38653e",
   "metadata": {},
   "outputs": [],
   "source": [
    "del b"
   ]
  },
  {
   "cell_type": "code",
   "execution_count": 76,
   "id": "939b99cc",
   "metadata": {},
   "outputs": [
    {
     "ename": "NameError",
     "evalue": "name 'b' is not defined",
     "output_type": "error",
     "traceback": [
      "\u001b[1;31m---------------------------------------------------------------------------\u001b[0m",
      "\u001b[1;31mNameError\u001b[0m                                 Traceback (most recent call last)",
      "\u001b[1;32m~\\AppData\\Local\\Temp/ipykernel_10896/1685013873.py\u001b[0m in \u001b[0;36m<module>\u001b[1;34m\u001b[0m\n\u001b[1;32m----> 1\u001b[1;33m \u001b[0mb\u001b[0m\u001b[1;33m\u001b[0m\u001b[1;33m\u001b[0m\u001b[0m\n\u001b[0m",
      "\u001b[1;31mNameError\u001b[0m: name 'b' is not defined"
     ]
    }
   ],
   "source": [
    "b"
   ]
  },
  {
   "cell_type": "markdown",
   "id": "8db9b14e",
   "metadata": {},
   "source": [
    "### Loop Sets::\n",
    "* You can loop through the set items by using a for loop:"
   ]
  },
  {
   "cell_type": "code",
   "execution_count": 77,
   "id": "b2fbf4a7",
   "metadata": {},
   "outputs": [
    {
     "name": "stdout",
     "output_type": "stream",
     "text": [
      "141\n",
      "11\n",
      "12\n",
      "13\n",
      "15\n"
     ]
    }
   ],
   "source": [
    "a={11,12,13,141,15}\n",
    "for i in a:\n",
    "    print(i)"
   ]
  },
  {
   "cell_type": "markdown",
   "id": "349b239d",
   "metadata": {},
   "source": [
    "### Join Sets::\n",
    "* You can use the union() method that returns a new set containing all items from both sets"
   ]
  },
  {
   "cell_type": "code",
   "execution_count": 78,
   "id": "90456fb5",
   "metadata": {},
   "outputs": [],
   "source": [
    "a={1,2,3,4,5,6,7}\n",
    "b={\"apple\",\"Banana\",\"Kivy\"}\n",
    "c=a.union(b)"
   ]
  },
  {
   "cell_type": "code",
   "execution_count": 79,
   "id": "f378393f",
   "metadata": {},
   "outputs": [
    {
     "data": {
      "text/plain": [
       "{1, 2, 3, 4, 5, 6, 7, 'Banana', 'Kivy', 'apple'}"
      ]
     },
     "execution_count": 79,
     "metadata": {},
     "output_type": "execute_result"
    }
   ],
   "source": [
    "c"
   ]
  },
  {
   "cell_type": "code",
   "execution_count": 81,
   "id": "d0946df7",
   "metadata": {},
   "outputs": [],
   "source": [
    "# The update() method inserts the items in set2 into set1:\n",
    "a={1,2,3,4,5,6,7}\n",
    "b={\"apple\",\"Banana\",\"Kivy\"}\n",
    "a.update(b)"
   ]
  },
  {
   "cell_type": "code",
   "execution_count": 82,
   "id": "27c8f4b4",
   "metadata": {},
   "outputs": [
    {
     "data": {
      "text/plain": [
       "{1, 2, 3, 4, 5, 6, 7, 'Banana', 'Kivy', 'apple'}"
      ]
     },
     "execution_count": 82,
     "metadata": {},
     "output_type": "execute_result"
    }
   ],
   "source": [
    "a"
   ]
  },
  {
   "cell_type": "markdown",
   "id": "4f30371c",
   "metadata": {},
   "source": [
    "# Dictionary::\n",
    "\n",
    "* Dictionaries are used to store data values in key:value pairs.\n",
    "* A dictionary is a collection which is ordered*, changeable and do not allow duplicates.\n",
    "* Dictionaries are written with curly brackets, and have keys and values:"
   ]
  },
  {
   "cell_type": "code",
   "execution_count": 83,
   "id": "06b51b41",
   "metadata": {},
   "outputs": [
    {
     "name": "stdout",
     "output_type": "stream",
     "text": [
      "{'brand': 'Ford', 'model': 'Mustang', 'year': 1964}\n"
     ]
    }
   ],
   "source": [
    "a={\"brand\": \"Ford\",\n",
    "  \"model\": \"Mustang\",\n",
    "  \"year\": 1964}\n",
    "print(a)"
   ]
  },
  {
   "cell_type": "code",
   "execution_count": 84,
   "id": "fd45c907",
   "metadata": {},
   "outputs": [],
   "source": [
    "# Dictionary items are ordered, changeable, and does not allow duplicates.\n",
    "# Dictionary items are presented in key:value pairs, and can be referred to by using the key name."
   ]
  },
  {
   "cell_type": "code",
   "execution_count": 85,
   "id": "18f41870",
   "metadata": {},
   "outputs": [
    {
     "name": "stdout",
     "output_type": "stream",
     "text": [
      "Ford\n"
     ]
    }
   ],
   "source": [
    "# Print the \"brand\" value of the dictionary:\n",
    "thisdict = {\n",
    "  \"brand\": \"Ford\",\n",
    "  \"model\": \"Mustang\",\n",
    "  \"year\": 1964\n",
    "}\n",
    "print(thisdict[\"brand\"])"
   ]
  },
  {
   "cell_type": "code",
   "execution_count": 86,
   "id": "c018a8b3",
   "metadata": {},
   "outputs": [],
   "source": [
    "# When we say that dictionaries are ordered, it means that the items have a defined order, and that order will not change."
   ]
  },
  {
   "cell_type": "code",
   "execution_count": 87,
   "id": "39fab586",
   "metadata": {},
   "outputs": [],
   "source": [
    "# Dictionaries are changeable, meaning that we can change, add or remove items after the dictionary has been created."
   ]
  },
  {
   "cell_type": "markdown",
   "id": "250dae1e",
   "metadata": {},
   "source": [
    "### Duplicates Not Allowed:\n",
    "* Dictionaries cannot have two items with the same key:"
   ]
  },
  {
   "cell_type": "code",
   "execution_count": 88,
   "id": "ea9c1db2",
   "metadata": {},
   "outputs": [
    {
     "name": "stdout",
     "output_type": "stream",
     "text": [
      "{'brand': 'Ford', 'model': 'Mustang', 'year': 2020}\n"
     ]
    }
   ],
   "source": [
    "#Duplicate values will overwrite existing values:\n",
    "thisdict = {\n",
    "  \"brand\": \"Ford\",\n",
    "  \"model\": \"Mustang\",\n",
    "  \"year\": 1964,\n",
    "  \"year\": 2020\n",
    "}\n",
    "print(thisdict)"
   ]
  },
  {
   "cell_type": "markdown",
   "id": "b156feaf",
   "metadata": {},
   "source": [
    "### Dictionary Length\n",
    "* To determine how many items a dictionary has, use the len() function:"
   ]
  },
  {
   "cell_type": "code",
   "execution_count": 89,
   "id": "b10a8593",
   "metadata": {},
   "outputs": [
    {
     "data": {
      "text/plain": [
       "3"
      ]
     },
     "execution_count": 89,
     "metadata": {},
     "output_type": "execute_result"
    }
   ],
   "source": [
    "len(thisdict)"
   ]
  },
  {
   "cell_type": "code",
   "execution_count": 90,
   "id": "12aeb525",
   "metadata": {},
   "outputs": [],
   "source": [
    "#The values in dictionary items can be of any data type:\n",
    "thisdict = {\n",
    "  \"brand\": \"Ford\",\n",
    "  \"electric\": False,\n",
    "  \"year\": 1964,\n",
    "  \"colors\": [\"red\", \"white\", \"blue\"]\n",
    "}"
   ]
  },
  {
   "cell_type": "code",
   "execution_count": 91,
   "id": "856f2f68",
   "metadata": {},
   "outputs": [
    {
     "data": {
      "text/plain": [
       "{'brand': 'Ford',\n",
       " 'electric': False,\n",
       " 'year': 1964,\n",
       " 'colors': ['red', 'white', 'blue']}"
      ]
     },
     "execution_count": 91,
     "metadata": {},
     "output_type": "execute_result"
    }
   ],
   "source": [
    "thisdict"
   ]
  },
  {
   "cell_type": "code",
   "execution_count": 92,
   "id": "64b6acbd",
   "metadata": {},
   "outputs": [
    {
     "data": {
      "text/plain": [
       "dict"
      ]
     },
     "execution_count": 92,
     "metadata": {},
     "output_type": "execute_result"
    }
   ],
   "source": [
    "type(thisdict)"
   ]
  },
  {
   "cell_type": "markdown",
   "id": "ce9d6aac",
   "metadata": {},
   "source": [
    "### Accessing Items\n",
    "* You can access the items of a dictionary by referring to its key name, inside square brackets:"
   ]
  },
  {
   "cell_type": "code",
   "execution_count": 93,
   "id": "f5cbcf4b",
   "metadata": {},
   "outputs": [],
   "source": [
    "thisdict = {\n",
    "  \"brand\": \"Ford\",\n",
    "  \"electric\": False,\n",
    "  \"year\": 1964,\n",
    "  \"colors\": [\"red\", \"white\", \"blue\"]\n",
    "}"
   ]
  },
  {
   "cell_type": "code",
   "execution_count": 94,
   "id": "8d305744",
   "metadata": {},
   "outputs": [
    {
     "data": {
      "text/plain": [
       "1964"
      ]
     },
     "execution_count": 94,
     "metadata": {},
     "output_type": "execute_result"
    }
   ],
   "source": [
    "thisdict['year']"
   ]
  },
  {
   "cell_type": "code",
   "execution_count": 96,
   "id": "9d23ae30",
   "metadata": {},
   "outputs": [
    {
     "data": {
      "text/plain": [
       "dict_keys(['brand', 'electric', 'year', 'colors'])"
      ]
     },
     "execution_count": 96,
     "metadata": {},
     "output_type": "execute_result"
    }
   ],
   "source": [
    "# The keys() method will return a list of all the keys in the dictionary.\n",
    "thisdict.keys()"
   ]
  },
  {
   "cell_type": "markdown",
   "id": "cd824f22",
   "metadata": {},
   "source": [
    "### Change Values\n",
    "* You can change the value of a specific item by referring to its key name:"
   ]
  },
  {
   "cell_type": "code",
   "execution_count": 97,
   "id": "c5bf9d0f",
   "metadata": {},
   "outputs": [],
   "source": [
    "thisdict = {\n",
    "  \"brand\": \"Ford\",\n",
    "  \"electric\": False,\n",
    "  \"year\": 1964,\n",
    "  \"colors\": [\"red\", \"white\", \"blue\"]\n",
    "}"
   ]
  },
  {
   "cell_type": "code",
   "execution_count": 98,
   "id": "78374cf4",
   "metadata": {},
   "outputs": [],
   "source": [
    "thisdict['year']=2000"
   ]
  },
  {
   "cell_type": "code",
   "execution_count": 99,
   "id": "b4fb467d",
   "metadata": {},
   "outputs": [
    {
     "data": {
      "text/plain": [
       "{'brand': 'Ford',\n",
       " 'electric': False,\n",
       " 'year': 2000,\n",
       " 'colors': ['red', 'white', 'blue']}"
      ]
     },
     "execution_count": 99,
     "metadata": {},
     "output_type": "execute_result"
    }
   ],
   "source": [
    "thisdict"
   ]
  },
  {
   "cell_type": "markdown",
   "id": "f8627fdf",
   "metadata": {},
   "source": [
    "### Add Dictionary Items:\n",
    "* Adding an item to the dictionary is done by using a new index key and assigning a value to it:"
   ]
  },
  {
   "cell_type": "code",
   "execution_count": 100,
   "id": "f4a3930c",
   "metadata": {},
   "outputs": [
    {
     "name": "stdout",
     "output_type": "stream",
     "text": [
      "{'brand': 'Ford', 'model': 'Mustang', 'year': 1964, 'color': 'red'}\n"
     ]
    }
   ],
   "source": [
    "thisdict = {\n",
    "  \"brand\": \"Ford\",\n",
    "  \"model\": \"Mustang\",\n",
    "  \"year\": 1964\n",
    "}\n",
    "thisdict[\"color\"] = \"red\"\n",
    "print(thisdict)"
   ]
  },
  {
   "cell_type": "markdown",
   "id": "c1a7e96f",
   "metadata": {},
   "source": [
    "# Conditional Statements and loops::\n",
    "\n",
    "# Condition statements\n",
    "* if\n",
    "* else\n",
    "* elif\n",
    "* nested if  --> condition inside a condition\n",
    "\n",
    "# Loops\n",
    "\n",
    "* while \n",
    "* for\n",
    "* nested while,for"
   ]
  },
  {
   "cell_type": "markdown",
   "id": "0e8a464e",
   "metadata": {},
   "source": [
    "### What is the difference between conditional Statement and looping statement?\n",
    "\n",
    "* Conditional statement will execute only once if condition is true whereas loop will execute repeatedly till the condition becomes false"
   ]
  },
  {
   "cell_type": "markdown",
   "id": "71f69f6f",
   "metadata": {},
   "source": [
    "## If condition::"
   ]
  },
  {
   "cell_type": "code",
   "execution_count": 2,
   "id": "53e29a99",
   "metadata": {},
   "outputs": [
    {
     "name": "stdout",
     "output_type": "stream",
     "text": [
      "enter a num :5\n",
      "its +ve num.\n"
     ]
    }
   ],
   "source": [
    "a = int(input('enter a num :'))\n",
    "if a>0:\n",
    "    print('its +ve num.')\n",
    "else:\n",
    "    \n",
    "    print('its -ve num.')"
   ]
  },
  {
   "cell_type": "markdown",
   "id": "698f1a6b",
   "metadata": {},
   "source": [
    "### Odd or Even "
   ]
  },
  {
   "cell_type": "code",
   "execution_count": 4,
   "id": "e9ac0c6a",
   "metadata": {},
   "outputs": [
    {
     "name": "stdout",
     "output_type": "stream",
     "text": [
      "Enter a number::8\n",
      "8 is a even\n"
     ]
    }
   ],
   "source": [
    "a=int(input('Enter a number::'))\n",
    "if a%2==0:\n",
    "    print(f'{a} is a even')\n",
    "else:\n",
    "    print(f'{a} is a odd')"
   ]
  },
  {
   "cell_type": "code",
   "execution_count": 10,
   "id": "d492b6f0",
   "metadata": {},
   "outputs": [
    {
     "name": "stdout",
     "output_type": "stream",
     "text": [
      "Enter a number::986\n",
      "986 is a even\n"
     ]
    }
   ],
   "source": [
    "a=int(input('Enter a number::'))\n",
    "if a>100 and a<=200:\n",
    "    if a%2==0:\n",
    "        print(f'{a} is a even')\n",
    "    else:\n",
    "        print(f'{a} is a odd')\n",
    "elif a>500 and a<=1000:\n",
    "    if a%2==0 :\n",
    "        print(f'{a} is a even')\n",
    "    else:\n",
    "        print(f'{a} is a odd')"
   ]
  },
  {
   "cell_type": "code",
   "execution_count": 11,
   "id": "7bdc0e5c",
   "metadata": {},
   "outputs": [
    {
     "data": {
      "text/plain": [
       "True"
      ]
     },
     "execution_count": 11,
     "metadata": {},
     "output_type": "execute_result"
    }
   ],
   "source": [
    "200 > 100 and 20 <=200 "
   ]
  },
  {
   "cell_type": "code",
   "execution_count": 12,
   "id": "9a863756",
   "metadata": {},
   "outputs": [
    {
     "data": {
      "text/plain": [
       "False"
      ]
     },
     "execution_count": 12,
     "metadata": {},
     "output_type": "execute_result"
    }
   ],
   "source": [
    "True and False"
   ]
  },
  {
   "cell_type": "markdown",
   "id": "695cd2cd",
   "metadata": {},
   "source": [
    "## Python Loops: Python has two primitive loop commands:\n",
    "* while loops\n",
    "* for loops\n"
   ]
  },
  {
   "cell_type": "markdown",
   "id": "9b46dc26",
   "metadata": {},
   "source": [
    "### The while Loop:\n",
    "* With the while loop we can execute a set of statements as long as a condition is true."
   ]
  },
  {
   "cell_type": "code",
   "execution_count": 13,
   "id": "d9d42486",
   "metadata": {},
   "outputs": [
    {
     "name": "stdout",
     "output_type": "stream",
     "text": [
      "0\n",
      "1\n",
      "2\n",
      "3\n",
      "4\n",
      "5\n"
     ]
    }
   ],
   "source": [
    "# Print i as long as i is less than 6:\n",
    "i=0\n",
    "while i<6:\n",
    "    print(i)\n",
    "    i=i+1"
   ]
  },
  {
   "cell_type": "code",
   "execution_count": 38,
   "id": "56875018",
   "metadata": {},
   "outputs": [
    {
     "name": "stdout",
     "output_type": "stream",
     "text": [
      "1\n",
      "2\n",
      "3\n",
      "4\n",
      "5\n",
      "6\n",
      "7\n",
      "8\n",
      "9\n",
      "10\n"
     ]
    }
   ],
   "source": [
    "i=1\n",
    "while i<=10:\n",
    "    print(i)\n",
    "    i=i+1"
   ]
  },
  {
   "cell_type": "code",
   "execution_count": 39,
   "id": "c99b91fb",
   "metadata": {},
   "outputs": [
    {
     "name": "stdout",
     "output_type": "stream",
     "text": [
      "1 2 3 4 5 6 7 8 9 10 "
     ]
    }
   ],
   "source": [
    "i=1\n",
    "while i<=10:\n",
    "    print(i,end = \" \")\n",
    "    i=i+1"
   ]
  },
  {
   "cell_type": "code",
   "execution_count": 40,
   "id": "eb36fe15",
   "metadata": {},
   "outputs": [
    {
     "name": "stdout",
     "output_type": "stream",
     "text": [
      "10\n",
      "9\n",
      "8\n",
      "7\n",
      "6\n"
     ]
    }
   ],
   "source": [
    "i=10\n",
    "while i>=6:\n",
    "    print(i)\n",
    "    i=i-1"
   ]
  },
  {
   "cell_type": "code",
   "execution_count": 41,
   "id": "0740fbe5",
   "metadata": {},
   "outputs": [
    {
     "name": "stdout",
     "output_type": "stream",
     "text": [
      "10 9 8 7 6 "
     ]
    }
   ],
   "source": [
    "i=10\n",
    "while i>=6:\n",
    "    print(i,end=\" \")\n",
    "    i=i-1"
   ]
  },
  {
   "cell_type": "markdown",
   "id": "b4383dab",
   "metadata": {},
   "source": [
    "### The break Statement:\n",
    "* With the break statement we can stop the loop even if the while condition is true:"
   ]
  },
  {
   "cell_type": "code",
   "execution_count": 16,
   "id": "e0aaf981",
   "metadata": {},
   "outputs": [
    {
     "name": "stdout",
     "output_type": "stream",
     "text": [
      "0\n",
      "1\n",
      "2\n"
     ]
    }
   ],
   "source": [
    "# Exit the loop when i is 3:\n",
    "i=0\n",
    "while i<6:\n",
    "    print(i)\n",
    "    i=i+1\n",
    "    if i==3:\n",
    "        break;\n",
    "    "
   ]
  },
  {
   "cell_type": "code",
   "execution_count": 19,
   "id": "176f049d",
   "metadata": {},
   "outputs": [
    {
     "name": "stdout",
     "output_type": "stream",
     "text": [
      "0\n",
      "1\n",
      "2\n"
     ]
    }
   ],
   "source": [
    "# Exit the loop when i is 3:\n",
    "i=0\n",
    "while i<6:\n",
    "    print(i)\n",
    "    i=i+1\n",
    "    if i==3:\n",
    "        break;\n",
    "i=i+1"
   ]
  },
  {
   "cell_type": "markdown",
   "id": "8fc67d88",
   "metadata": {},
   "source": [
    "### The continue Statement::\n",
    "* With the continue statement we can stop the current iteration, and continue with the next:"
   ]
  },
  {
   "cell_type": "code",
   "execution_count": 34,
   "id": "9f531bce",
   "metadata": {},
   "outputs": [
    {
     "name": "stdout",
     "output_type": "stream",
     "text": [
      "1\n",
      "2\n",
      "4\n",
      "5\n",
      "6\n"
     ]
    }
   ],
   "source": [
    "i = 0\n",
    "while i < 6:\n",
    "  i += 1\n",
    "  if i == 3:\n",
    "    continue\n",
    "  print(i)"
   ]
  },
  {
   "cell_type": "markdown",
   "id": "c1f0ca0d",
   "metadata": {},
   "source": [
    "### The else Statement:\n",
    "\n",
    "* With the else statement we can run a block of code once when the condition no longer is true:"
   ]
  },
  {
   "cell_type": "code",
   "execution_count": 37,
   "id": "c48479e7",
   "metadata": {},
   "outputs": [
    {
     "name": "stdout",
     "output_type": "stream",
     "text": [
      "1\n",
      "2\n",
      "3\n",
      "4\n",
      "5\n",
      "6 is no longer less than 6\n"
     ]
    }
   ],
   "source": [
    "# Print a message once the condition is false:\n",
    "i = 1\n",
    "while i < 6:\n",
    "  print(i)\n",
    "  i += 1\n",
    "else:\n",
    "  print(f'{i} is no longer less than 6')"
   ]
  },
  {
   "cell_type": "markdown",
   "id": "5291f1b4",
   "metadata": {},
   "source": [
    "### For Loops:\n",
    "* A for loop is used for iterating over a sequence (that is either a list, a tuple, a dictionary, a set, or a string).\n",
    "\n",
    "* With the for loop we can execute a set of statements, once for each item in a list, tuple, set etc."
   ]
  },
  {
   "cell_type": "code",
   "execution_count": 42,
   "id": "69f99c53",
   "metadata": {},
   "outputs": [
    {
     "name": "stdout",
     "output_type": "stream",
     "text": [
      "1\n",
      "2\n",
      "3\n",
      "4\n",
      "5\n",
      "6\n",
      "7\n",
      "8\n",
      "9\n",
      "10\n",
      "11\n"
     ]
    }
   ],
   "source": [
    "for i in range(1,12):\n",
    "    print(i)"
   ]
  },
  {
   "cell_type": "code",
   "execution_count": 43,
   "id": "365a50ee",
   "metadata": {},
   "outputs": [
    {
     "name": "stdout",
     "output_type": "stream",
     "text": [
      "1 2 3 4 5 6 7 8 9 10 11 "
     ]
    }
   ],
   "source": [
    "for i in range(1,12,1):\n",
    "    print(i,end = \" \")"
   ]
  },
  {
   "cell_type": "code",
   "execution_count": 44,
   "id": "5ae77097",
   "metadata": {},
   "outputs": [
    {
     "name": "stdout",
     "output_type": "stream",
     "text": [
      "1 4 7 10 "
     ]
    }
   ],
   "source": [
    "for i in range(1,12,3):\n",
    "    print(i,end = \" \")"
   ]
  },
  {
   "cell_type": "code",
   "execution_count": 45,
   "id": "a4579950",
   "metadata": {},
   "outputs": [
    {
     "name": "stdout",
     "output_type": "stream",
     "text": [
      "10 9 8 7 6 5 4 3 2 "
     ]
    }
   ],
   "source": [
    "for i in range(10,1,-1):\n",
    "    print(i,end = \" \")"
   ]
  },
  {
   "cell_type": "code",
   "execution_count": 48,
   "id": "c0f1cb78",
   "metadata": {},
   "outputs": [
    {
     "name": "stdout",
     "output_type": "stream",
     "text": [
      "* \n",
      "* * \n",
      "* * * \n",
      "* * * * \n"
     ]
    }
   ],
   "source": [
    "for i in range(1,5):\n",
    "    for j in range(1,i+1):\n",
    "        print('*',end=' ')\n",
    "    print()"
   ]
  },
  {
   "cell_type": "code",
   "execution_count": 53,
   "id": "69be77f8",
   "metadata": {},
   "outputs": [
    {
     "name": "stdout",
     "output_type": "stream",
     "text": [
      "* * * * * \n",
      "* * * * \n",
      "* * * \n",
      "* * \n",
      "* \n"
     ]
    }
   ],
   "source": [
    "for i in range(5,0,-1):\n",
    "    for j in range(1,i+1):\n",
    "        print('*',end= ' ')\n",
    "    print()\n",
    "    "
   ]
  },
  {
   "cell_type": "code",
   "execution_count": 54,
   "id": "893d7dc5",
   "metadata": {},
   "outputs": [
    {
     "name": "stdout",
     "output_type": "stream",
     "text": [
      "1 \n",
      "2 2 \n",
      "3 3 3 \n",
      "4 4 4 4 \n"
     ]
    }
   ],
   "source": [
    "for i in range(1,5):\n",
    "    for j in range(1,i+1):\n",
    "        print(i,end=' ')\n",
    "    print()"
   ]
  },
  {
   "cell_type": "code",
   "execution_count": 55,
   "id": "41143d9f",
   "metadata": {},
   "outputs": [
    {
     "name": "stdout",
     "output_type": "stream",
     "text": [
      "5 5 5 5 5 \n",
      "4 4 4 4 \n",
      "3 3 3 \n",
      "2 2 \n",
      "1 \n"
     ]
    }
   ],
   "source": [
    "for i in range(5,0,-1):\n",
    "    for j in range(1,i+1):\n",
    "        print(i,end= ' ')\n",
    "    print()"
   ]
  },
  {
   "cell_type": "code",
   "execution_count": 56,
   "id": "2c7a3d62",
   "metadata": {},
   "outputs": [
    {
     "name": "stdout",
     "output_type": "stream",
     "text": [
      "1 \n",
      "1 2 \n",
      "1 2 3 \n",
      "1 2 3 4 \n"
     ]
    }
   ],
   "source": [
    "for i in range(1,5):\n",
    "    for j in range(1,i+1):\n",
    "        print(j,end=' ')\n",
    "    print()"
   ]
  },
  {
   "cell_type": "code",
   "execution_count": 57,
   "id": "ee62514c",
   "metadata": {},
   "outputs": [
    {
     "name": "stdout",
     "output_type": "stream",
     "text": [
      "1 2 3 4 5 \n",
      "1 2 3 4 \n",
      "1 2 3 \n",
      "1 2 \n",
      "1 \n"
     ]
    }
   ],
   "source": [
    "for i in range(5,0,-1):\n",
    "    for j in range(1,i+1):\n",
    "        print(j,end=' ')\n",
    "    print()"
   ]
  },
  {
   "cell_type": "code",
   "execution_count": 59,
   "id": "ff635e4e",
   "metadata": {},
   "outputs": [
    {
     "name": "stdout",
     "output_type": "stream",
     "text": [
      "1\n",
      "2\n",
      "3\n",
      "4\n"
     ]
    }
   ],
   "source": [
    "a = \"nitish\"\n",
    "for a in range(1,5):\n",
    "    print(a)"
   ]
  },
  {
   "cell_type": "code",
   "execution_count": 62,
   "id": "d2c74fb0",
   "metadata": {},
   "outputs": [
    {
     "name": "stdout",
     "output_type": "stream",
     "text": [
      "nitish\n",
      "nitish\n",
      "nitish\n",
      "nitish\n"
     ]
    }
   ],
   "source": [
    "a = \"nitish\"\n",
    "for i in range(1,5):\n",
    "    print(a)"
   ]
  },
  {
   "cell_type": "code",
   "execution_count": 64,
   "id": "dc726d67",
   "metadata": {},
   "outputs": [
    {
     "name": "stdout",
     "output_type": "stream",
     "text": [
      "********\n",
      "***\n"
     ]
    }
   ],
   "source": [
    "print(\"********\")\n",
    "print(\"***\")"
   ]
  },
  {
   "cell_type": "code",
   "execution_count": 65,
   "id": "d1fbaa14",
   "metadata": {},
   "outputs": [
    {
     "name": "stdout",
     "output_type": "stream",
     "text": [
      "apple\n",
      "banana\n",
      "cherry\n"
     ]
    }
   ],
   "source": [
    "fruits = [\"apple\", \"banana\", \"cherry\"]\n",
    "for x in fruits:\n",
    "  print(x)"
   ]
  },
  {
   "cell_type": "code",
   "execution_count": 66,
   "id": "967d9ef7",
   "metadata": {},
   "outputs": [
    {
     "name": "stdout",
     "output_type": "stream",
     "text": [
      "b\n",
      "a\n",
      "n\n",
      "a\n",
      "n\n",
      "a\n"
     ]
    }
   ],
   "source": [
    "# Looping Through a String\n",
    "a=\"banana\"\n",
    "for i in a:\n",
    "    print(i)"
   ]
  },
  {
   "cell_type": "code",
   "execution_count": 70,
   "id": "58bb68e5",
   "metadata": {},
   "outputs": [
    {
     "name": "stdout",
     "output_type": "stream",
     "text": [
      "apple\n",
      "banana\n"
     ]
    }
   ],
   "source": [
    "# Exit the loop when x is \"banana\":\n",
    "fruits = [\"apple\", \"banana\", \"cherry\"]\n",
    "for x in fruits:\n",
    "    print(x)\n",
    "    if x ==\"banana\":\n",
    "        break"
   ]
  },
  {
   "cell_type": "code",
   "execution_count": 71,
   "id": "950dc083",
   "metadata": {},
   "outputs": [
    {
     "name": "stdout",
     "output_type": "stream",
     "text": [
      "apple\n"
     ]
    }
   ],
   "source": [
    "#Exit the loop when x is \"banana\", but this time the break comes before the print:\n",
    "fruits = [\"apple\", \"banana\", \"cherry\"]\n",
    "for x in fruits:\n",
    "    if x ==\"banana\":\n",
    "        break\n",
    "    print(x)\n",
    "    "
   ]
  },
  {
   "cell_type": "code",
   "execution_count": 72,
   "id": "d8d22433",
   "metadata": {},
   "outputs": [
    {
     "name": "stdout",
     "output_type": "stream",
     "text": [
      "apple\n",
      "cherry\n"
     ]
    }
   ],
   "source": [
    "# With the continue statement we can stop the current iteration of the loop, and continue with the next:\n",
    "# Do not print banana:\n",
    "fruits = [\"apple\", \"banana\", \"cherry\"]\n",
    "for x in fruits:\n",
    "    if x==\"banana\":\n",
    "        continue\n",
    "    print(x)"
   ]
  },
  {
   "cell_type": "markdown",
   "id": "e89249b5",
   "metadata": {},
   "source": [
    "### range() Function:\n",
    "* The range() function returns a sequence of numbers, starting from 0 by default, and increments by 1 (by default), and ends at a specified number."
   ]
  },
  {
   "cell_type": "code",
   "execution_count": 73,
   "id": "24537f3d",
   "metadata": {},
   "outputs": [
    {
     "name": "stdout",
     "output_type": "stream",
     "text": [
      "0\n",
      "1\n",
      "2\n",
      "3\n",
      "4\n",
      "5\n"
     ]
    }
   ],
   "source": [
    "for x in range(6):\n",
    "  print(x)"
   ]
  },
  {
   "cell_type": "code",
   "execution_count": 74,
   "id": "71fbb5fa",
   "metadata": {},
   "outputs": [
    {
     "name": "stdout",
     "output_type": "stream",
     "text": [
      "2\n",
      "3\n",
      "4\n",
      "5\n"
     ]
    }
   ],
   "source": [
    "for x in range(2, 6):\n",
    "  print(x)"
   ]
  },
  {
   "cell_type": "code",
   "execution_count": 75,
   "id": "9c8a1d0b",
   "metadata": {},
   "outputs": [
    {
     "name": "stdout",
     "output_type": "stream",
     "text": [
      "2\n",
      "5\n",
      "8\n",
      "11\n",
      "14\n",
      "17\n",
      "20\n",
      "23\n",
      "26\n",
      "29\n"
     ]
    }
   ],
   "source": [
    "# Increment the sequence with 3 (default is 1):\n",
    "for x in range(2, 30, 3):\n",
    "  print(x)"
   ]
  },
  {
   "cell_type": "code",
   "execution_count": 76,
   "id": "a652865f",
   "metadata": {},
   "outputs": [
    {
     "name": "stdout",
     "output_type": "stream",
     "text": [
      "0\n",
      "1\n",
      "2\n",
      "3\n",
      "4\n",
      "5\n",
      "Finally finished!\n"
     ]
    }
   ],
   "source": [
    "#Print all numbers from 0 to 5, and print a message when the loop has ended:\n",
    "\n",
    "for x in range(6):\n",
    "  print(x)\n",
    "else:\n",
    "  print(\"Finally finished!\")"
   ]
  },
  {
   "cell_type": "code",
   "execution_count": 77,
   "id": "4e1876cb",
   "metadata": {},
   "outputs": [
    {
     "name": "stdout",
     "output_type": "stream",
     "text": [
      "0\n",
      "1\n",
      "2\n"
     ]
    }
   ],
   "source": [
    "# Break the loop when x is 3, and see what happens with the else block:\n",
    "for x in range(6):\n",
    "  if x == 3: break\n",
    "  print(x)\n",
    "else:\n",
    "  print(\"Finally finished!\")"
   ]
  },
  {
   "cell_type": "code",
   "execution_count": 84,
   "id": "dd4a130a",
   "metadata": {},
   "outputs": [
    {
     "name": "stdout",
     "output_type": "stream",
     "text": [
      "0\n",
      "1\n",
      "2\n"
     ]
    }
   ],
   "source": [
    "for x in range(6):\n",
    "  if x == 3: break\n",
    "  print(x)\n",
    "else:\n",
    "    print(\"Finally finished!\")"
   ]
  },
  {
   "cell_type": "markdown",
   "id": "23e390ad",
   "metadata": {},
   "source": [
    "### Nested Loops\n",
    "* A nested loop is a loop inside a loop.\n",
    "\n",
    "* The \"inner loop\" will be executed one time for each iteration of the \"outer loop\":"
   ]
  },
  {
   "cell_type": "code",
   "execution_count": 85,
   "id": "1350e2e0",
   "metadata": {},
   "outputs": [
    {
     "name": "stdout",
     "output_type": "stream",
     "text": [
      "red apple\n",
      "red banana\n",
      "red cherry\n",
      "big apple\n",
      "big banana\n",
      "big cherry\n",
      "tasty apple\n",
      "tasty banana\n",
      "tasty cherry\n"
     ]
    }
   ],
   "source": [
    "adj = [\"red\", \"big\", \"tasty\"]\n",
    "fruits = [\"apple\", \"banana\", \"cherry\"]\n",
    "\n",
    "for x in adj:\n",
    "  for y in fruits:\n",
    "    print(x, y)"
   ]
  },
  {
   "cell_type": "markdown",
   "id": "1b96b35f",
   "metadata": {},
   "source": [
    "### The pass Statement:\n",
    "* for loops cannot be empty, but if you for some reason have a for loop with no content, put in the pass statement to avoid getting an error."
   ]
  },
  {
   "cell_type": "code",
   "execution_count": 26,
   "id": "00339d4e",
   "metadata": {},
   "outputs": [],
   "source": [
    "for x in [0, 1, 2]:\n",
    "  pass"
   ]
  },
  {
   "cell_type": "code",
   "execution_count": null,
   "id": "f6e81e2b",
   "metadata": {},
   "outputs": [],
   "source": []
  }
 ],
 "metadata": {
  "kernelspec": {
   "display_name": "Python 3 (ipykernel)",
   "language": "python",
   "name": "python3"
  },
  "language_info": {
   "codemirror_mode": {
    "name": "ipython",
    "version": 3
   },
   "file_extension": ".py",
   "mimetype": "text/x-python",
   "name": "python",
   "nbconvert_exporter": "python",
   "pygments_lexer": "ipython3",
   "version": "3.9.7"
  }
 },
 "nbformat": 4,
 "nbformat_minor": 5
}
