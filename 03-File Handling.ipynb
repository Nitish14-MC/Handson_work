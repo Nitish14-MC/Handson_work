{
 "cells": [
  {
   "cell_type": "markdown",
   "id": "6010f640",
   "metadata": {},
   "source": [
    "# File Handling:\n",
    "\n",
    "* Working on files"
   ]
  },
  {
   "cell_type": "markdown",
   "id": "e472871c",
   "metadata": {},
   "source": [
    "## File Handling::\n",
    "\n",
    "* The key function for working with files in Python is the open() function.\n",
    "\n",
    "* The open() function takes two parameters; filename, and mode.\n",
    "\n"
   ]
  },
  {
   "cell_type": "markdown",
   "id": "0f642542",
   "metadata": {},
   "source": [
    "## Types of operations in files are known as access modes"
   ]
  },
  {
   "cell_type": "markdown",
   "id": "bdca2581",
   "metadata": {},
   "source": [
    "### Types of operations\n",
    "* Read only(r)\n",
    "\n",
    "* Write only(w)\n",
    "\n",
    "* Read and write(r+)\n",
    "\n",
    "* Write and read(w+)\n",
    "\n",
    "* Append only(a)\n",
    "\n",
    "* Append and read(a+)"
   ]
  },
  {
   "cell_type": "markdown",
   "id": "87a15762",
   "metadata": {},
   "source": [
    "### 01.Read Only(r)::\n",
    "\n",
    "* Opens the file for reading ,cursor is positiones at the beginning of the file. \n",
    "\n",
    "* If the file doesn't exist,raises FileNotFoundError"
   ]
  },
  {
   "cell_type": "code",
   "execution_count": 1,
   "id": "79be7584",
   "metadata": {},
   "outputs": [],
   "source": [
    "# syntax::: open('filename','r')"
   ]
  },
  {
   "cell_type": "markdown",
   "id": "4a1b4503",
   "metadata": {},
   "source": [
    "### 02. Write only(w)::\n",
    "\n",
    "* Opens the file for writing.For existing file the data is truncated overwritten.Cursor is placed at the beginning of the file\n",
    "\n",
    "* Creates the file if the file doesn't exist\n",
    "\n",
    "* Writing to file:: 01.Write(data)- Inserts the data in a single line ;; 02.Writelines()-Used to insert multiple strings at a time\n",
    "\n"
   ]
  },
  {
   "cell_type": "code",
   "execution_count": 2,
   "id": "c10a8e3c",
   "metadata": {},
   "outputs": [],
   "source": [
    "file=open('Nitish.txt','w')"
   ]
  },
  {
   "cell_type": "code",
   "execution_count": 3,
   "id": "f94598a6",
   "metadata": {},
   "outputs": [
    {
     "name": "stdout",
     "output_type": "stream",
     "text": [
      "<_io.TextIOWrapper name='Nitish.txt' mode='w' encoding='cp1252'>\n"
     ]
    }
   ],
   "source": [
    "print(file)"
   ]
  },
  {
   "cell_type": "code",
   "execution_count": 4,
   "id": "ff519cc8",
   "metadata": {},
   "outputs": [],
   "source": [
    "# Note : A file with the name (ie,Nitish.txt) will be created in the directory"
   ]
  },
  {
   "cell_type": "code",
   "execution_count": 6,
   "id": "ee4a57ad",
   "metadata": {},
   "outputs": [
    {
     "data": {
      "text/plain": [
       "13"
      ]
     },
     "execution_count": 6,
     "metadata": {},
     "output_type": "execute_result"
    }
   ],
   "source": [
    "file=open('Nitish.txt','w')\n",
    "file.write('Hello welcome')"
   ]
  },
  {
   "cell_type": "code",
   "execution_count": 10,
   "id": "303fcf03",
   "metadata": {},
   "outputs": [
    {
     "name": "stdout",
     "output_type": "stream",
     "text": [
      "Enter your name::Prakash\n"
     ]
    },
    {
     "data": {
      "text/plain": [
       "34"
      ]
     },
     "execution_count": 10,
     "metadata": {},
     "output_type": "execute_result"
    }
   ],
   "source": [
    "file=open('Nitish.txt','w')\n",
    "name=input('Enter your name::')\n",
    "file.write('Welcome {} to Machine learing'.format(name))"
   ]
  },
  {
   "cell_type": "code",
   "execution_count": 13,
   "id": "d1ad3122",
   "metadata": {},
   "outputs": [],
   "source": [
    "file=open('Nitish.txt','w')\n",
    "list=['Ram','Krishna','Prakash','Hari']\n",
    "file.writelines(list)"
   ]
  },
  {
   "cell_type": "code",
   "execution_count": 16,
   "id": "aa85268c",
   "metadata": {},
   "outputs": [
    {
     "name": "stdout",
     "output_type": "stream",
     "text": [
      "RamKrishnaPrakashHari\n"
     ]
    }
   ],
   "source": [
    "file=open('Nitish.txt','r')\n",
    "list=['Ram','Krishna','Prakash','Hari']\n",
    "print(file.read())"
   ]
  },
  {
   "cell_type": "code",
   "execution_count": null,
   "id": "d82f0ebe",
   "metadata": {},
   "outputs": [],
   "source": []
  }
 ],
 "metadata": {
  "kernelspec": {
   "display_name": "Python 3 (ipykernel)",
   "language": "python",
   "name": "python3"
  },
  "language_info": {
   "codemirror_mode": {
    "name": "ipython",
    "version": 3
   },
   "file_extension": ".py",
   "mimetype": "text/x-python",
   "name": "python",
   "nbconvert_exporter": "python",
   "pygments_lexer": "ipython3",
   "version": "3.9.7"
  }
 },
 "nbformat": 4,
 "nbformat_minor": 5
}
