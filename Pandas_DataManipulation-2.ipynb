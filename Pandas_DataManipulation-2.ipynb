{
 "cells": [
  {
   "cell_type": "code",
   "execution_count": 1,
   "id": "af5498b8",
   "metadata": {},
   "outputs": [
    {
     "ename": "KeyboardInterrupt",
     "evalue": "",
     "output_type": "error",
     "traceback": [
      "\u001b[1;31m---------------------------------------------------------------------------\u001b[0m",
      "\u001b[1;31mKeyboardInterrupt\u001b[0m                         Traceback (most recent call last)",
      "\u001b[1;32m~\\AppData\\Local\\Temp/ipykernel_9828/4080736814.py\u001b[0m in \u001b[0;36m<module>\u001b[1;34m\u001b[0m\n\u001b[1;32m----> 1\u001b[1;33m \u001b[1;32mimport\u001b[0m \u001b[0mpandas\u001b[0m \u001b[1;32mas\u001b[0m \u001b[0mpd\u001b[0m\u001b[1;33m\u001b[0m\u001b[1;33m\u001b[0m\u001b[0m\n\u001b[0m",
      "\u001b[1;32m~\\anaconda3\\lib\\site-packages\\pandas\\__init__.py\u001b[0m in \u001b[0;36m<module>\u001b[1;34m\u001b[0m\n\u001b[0;32m     48\u001b[0m \u001b[1;32mimport\u001b[0m \u001b[0mpandas\u001b[0m\u001b[1;33m.\u001b[0m\u001b[0mcore\u001b[0m\u001b[1;33m.\u001b[0m\u001b[0mconfig_init\u001b[0m\u001b[1;33m\u001b[0m\u001b[1;33m\u001b[0m\u001b[0m\n\u001b[0;32m     49\u001b[0m \u001b[1;33m\u001b[0m\u001b[0m\n\u001b[1;32m---> 50\u001b[1;33m from pandas.core.api import (\n\u001b[0m\u001b[0;32m     51\u001b[0m     \u001b[1;31m# dtype\u001b[0m\u001b[1;33m\u001b[0m\u001b[1;33m\u001b[0m\u001b[0m\n\u001b[0;32m     52\u001b[0m     \u001b[0mInt8Dtype\u001b[0m\u001b[1;33m,\u001b[0m\u001b[1;33m\u001b[0m\u001b[1;33m\u001b[0m\u001b[0m\n",
      "\u001b[1;32m~\\anaconda3\\lib\\site-packages\\pandas\\core\\api.py\u001b[0m in \u001b[0;36m<module>\u001b[1;34m\u001b[0m\n\u001b[0;32m     46\u001b[0m \u001b[1;32mfrom\u001b[0m \u001b[0mpandas\u001b[0m\u001b[1;33m.\u001b[0m\u001b[0mcore\u001b[0m\u001b[1;33m.\u001b[0m\u001b[0mconstruction\u001b[0m \u001b[1;32mimport\u001b[0m \u001b[0marray\u001b[0m\u001b[1;33m\u001b[0m\u001b[1;33m\u001b[0m\u001b[0m\n\u001b[0;32m     47\u001b[0m \u001b[1;32mfrom\u001b[0m \u001b[0mpandas\u001b[0m\u001b[1;33m.\u001b[0m\u001b[0mcore\u001b[0m\u001b[1;33m.\u001b[0m\u001b[0mflags\u001b[0m \u001b[1;32mimport\u001b[0m \u001b[0mFlags\u001b[0m\u001b[1;33m\u001b[0m\u001b[1;33m\u001b[0m\u001b[0m\n\u001b[1;32m---> 48\u001b[1;33m from pandas.core.groupby import (\n\u001b[0m\u001b[0;32m     49\u001b[0m     \u001b[0mGrouper\u001b[0m\u001b[1;33m,\u001b[0m\u001b[1;33m\u001b[0m\u001b[1;33m\u001b[0m\u001b[0m\n\u001b[0;32m     50\u001b[0m     \u001b[0mNamedAgg\u001b[0m\u001b[1;33m,\u001b[0m\u001b[1;33m\u001b[0m\u001b[1;33m\u001b[0m\u001b[0m\n",
      "\u001b[1;32m~\\anaconda3\\lib\\site-packages\\pandas\\core\\groupby\\__init__.py\u001b[0m in \u001b[0;36m<module>\u001b[1;34m\u001b[0m\n\u001b[1;32m----> 1\u001b[1;33m from pandas.core.groupby.generic import (\n\u001b[0m\u001b[0;32m      2\u001b[0m     \u001b[0mDataFrameGroupBy\u001b[0m\u001b[1;33m,\u001b[0m\u001b[1;33m\u001b[0m\u001b[1;33m\u001b[0m\u001b[0m\n\u001b[0;32m      3\u001b[0m     \u001b[0mNamedAgg\u001b[0m\u001b[1;33m,\u001b[0m\u001b[1;33m\u001b[0m\u001b[1;33m\u001b[0m\u001b[0m\n\u001b[0;32m      4\u001b[0m     \u001b[0mSeriesGroupBy\u001b[0m\u001b[1;33m,\u001b[0m\u001b[1;33m\u001b[0m\u001b[1;33m\u001b[0m\u001b[0m\n\u001b[0;32m      5\u001b[0m )\n",
      "\u001b[1;32m~\\anaconda3\\lib\\site-packages\\pandas\\core\\groupby\\generic.py\u001b[0m in \u001b[0;36m<module>\u001b[1;34m\u001b[0m\n\u001b[0;32m     62\u001b[0m     \u001b[0mnanops\u001b[0m\u001b[1;33m,\u001b[0m\u001b[1;33m\u001b[0m\u001b[1;33m\u001b[0m\u001b[0m\n\u001b[0;32m     63\u001b[0m )\n\u001b[1;32m---> 64\u001b[1;33m from pandas.core.aggregation import (\n\u001b[0m\u001b[0;32m     65\u001b[0m     \u001b[0mmaybe_mangle_lambdas\u001b[0m\u001b[1;33m,\u001b[0m\u001b[1;33m\u001b[0m\u001b[1;33m\u001b[0m\u001b[0m\n\u001b[0;32m     66\u001b[0m     \u001b[0mreconstruct_func\u001b[0m\u001b[1;33m,\u001b[0m\u001b[1;33m\u001b[0m\u001b[1;33m\u001b[0m\u001b[0m\n",
      "\u001b[1;32m~\\anaconda3\\lib\\site-packages\\pandas\\core\\aggregation.py\u001b[0m in \u001b[0;36m<module>\u001b[1;34m\u001b[0m\n\u001b[0;32m     31\u001b[0m \u001b[1;32mfrom\u001b[0m \u001b[0mpandas\u001b[0m\u001b[1;33m.\u001b[0m\u001b[0mcore\u001b[0m\u001b[1;33m.\u001b[0m\u001b[0mbase\u001b[0m \u001b[1;32mimport\u001b[0m \u001b[0mSpecificationError\u001b[0m\u001b[1;33m\u001b[0m\u001b[1;33m\u001b[0m\u001b[0m\n\u001b[0;32m     32\u001b[0m \u001b[1;32mimport\u001b[0m \u001b[0mpandas\u001b[0m\u001b[1;33m.\u001b[0m\u001b[0mcore\u001b[0m\u001b[1;33m.\u001b[0m\u001b[0mcommon\u001b[0m \u001b[1;32mas\u001b[0m \u001b[0mcom\u001b[0m\u001b[1;33m\u001b[0m\u001b[1;33m\u001b[0m\u001b[0m\n\u001b[1;32m---> 33\u001b[1;33m \u001b[1;32mfrom\u001b[0m \u001b[0mpandas\u001b[0m\u001b[1;33m.\u001b[0m\u001b[0mcore\u001b[0m\u001b[1;33m.\u001b[0m\u001b[0mindexes\u001b[0m\u001b[1;33m.\u001b[0m\u001b[0mapi\u001b[0m \u001b[1;32mimport\u001b[0m \u001b[0mIndex\u001b[0m\u001b[1;33m\u001b[0m\u001b[1;33m\u001b[0m\u001b[0m\n\u001b[0m\u001b[0;32m     34\u001b[0m \u001b[1;33m\u001b[0m\u001b[0m\n\u001b[0;32m     35\u001b[0m \u001b[1;32mif\u001b[0m \u001b[0mTYPE_CHECKING\u001b[0m\u001b[1;33m:\u001b[0m\u001b[1;33m\u001b[0m\u001b[1;33m\u001b[0m\u001b[0m\n",
      "\u001b[1;32m~\\anaconda3\\lib\\site-packages\\pandas\\core\\indexes\\api.py\u001b[0m in \u001b[0;36m<module>\u001b[1;34m\u001b[0m\n\u001b[0;32m     17\u001b[0m )\n\u001b[0;32m     18\u001b[0m \u001b[1;32mfrom\u001b[0m \u001b[0mpandas\u001b[0m\u001b[1;33m.\u001b[0m\u001b[0mcore\u001b[0m\u001b[1;33m.\u001b[0m\u001b[0mindexes\u001b[0m\u001b[1;33m.\u001b[0m\u001b[0mcategory\u001b[0m \u001b[1;32mimport\u001b[0m \u001b[0mCategoricalIndex\u001b[0m\u001b[1;33m\u001b[0m\u001b[1;33m\u001b[0m\u001b[0m\n\u001b[1;32m---> 19\u001b[1;33m \u001b[1;32mfrom\u001b[0m \u001b[0mpandas\u001b[0m\u001b[1;33m.\u001b[0m\u001b[0mcore\u001b[0m\u001b[1;33m.\u001b[0m\u001b[0mindexes\u001b[0m\u001b[1;33m.\u001b[0m\u001b[0mdatetimes\u001b[0m \u001b[1;32mimport\u001b[0m \u001b[0mDatetimeIndex\u001b[0m\u001b[1;33m\u001b[0m\u001b[1;33m\u001b[0m\u001b[0m\n\u001b[0m\u001b[0;32m     20\u001b[0m \u001b[1;32mfrom\u001b[0m \u001b[0mpandas\u001b[0m\u001b[1;33m.\u001b[0m\u001b[0mcore\u001b[0m\u001b[1;33m.\u001b[0m\u001b[0mindexes\u001b[0m\u001b[1;33m.\u001b[0m\u001b[0minterval\u001b[0m \u001b[1;32mimport\u001b[0m \u001b[0mIntervalIndex\u001b[0m\u001b[1;33m\u001b[0m\u001b[1;33m\u001b[0m\u001b[0m\n\u001b[0;32m     21\u001b[0m \u001b[1;32mfrom\u001b[0m \u001b[0mpandas\u001b[0m\u001b[1;33m.\u001b[0m\u001b[0mcore\u001b[0m\u001b[1;33m.\u001b[0m\u001b[0mindexes\u001b[0m\u001b[1;33m.\u001b[0m\u001b[0mmulti\u001b[0m \u001b[1;32mimport\u001b[0m \u001b[0mMultiIndex\u001b[0m\u001b[1;33m\u001b[0m\u001b[1;33m\u001b[0m\u001b[0m\n",
      "\u001b[1;32m~\\anaconda3\\lib\\site-packages\\pandas\\core\\indexes\\datetimes.py\u001b[0m in \u001b[0;36m<module>\u001b[1;34m\u001b[0m\n\u001b[0;32m     60\u001b[0m     \u001b[0mmaybe_extract_name\u001b[0m\u001b[1;33m,\u001b[0m\u001b[1;33m\u001b[0m\u001b[1;33m\u001b[0m\u001b[0m\n\u001b[0;32m     61\u001b[0m )\n\u001b[1;32m---> 62\u001b[1;33m \u001b[1;32mfrom\u001b[0m \u001b[0mpandas\u001b[0m\u001b[1;33m.\u001b[0m\u001b[0mcore\u001b[0m\u001b[1;33m.\u001b[0m\u001b[0mindexes\u001b[0m\u001b[1;33m.\u001b[0m\u001b[0mdatetimelike\u001b[0m \u001b[1;32mimport\u001b[0m \u001b[0mDatetimeTimedeltaMixin\u001b[0m\u001b[1;33m\u001b[0m\u001b[1;33m\u001b[0m\u001b[0m\n\u001b[0m\u001b[0;32m     63\u001b[0m \u001b[1;32mfrom\u001b[0m \u001b[0mpandas\u001b[0m\u001b[1;33m.\u001b[0m\u001b[0mcore\u001b[0m\u001b[1;33m.\u001b[0m\u001b[0mindexes\u001b[0m\u001b[1;33m.\u001b[0m\u001b[0mextension\u001b[0m \u001b[1;32mimport\u001b[0m \u001b[0minherit_names\u001b[0m\u001b[1;33m\u001b[0m\u001b[1;33m\u001b[0m\u001b[0m\n\u001b[0;32m     64\u001b[0m \u001b[1;32mfrom\u001b[0m \u001b[0mpandas\u001b[0m\u001b[1;33m.\u001b[0m\u001b[0mcore\u001b[0m\u001b[1;33m.\u001b[0m\u001b[0mtools\u001b[0m\u001b[1;33m.\u001b[0m\u001b[0mtimes\u001b[0m \u001b[1;32mimport\u001b[0m \u001b[0mto_time\u001b[0m\u001b[1;33m\u001b[0m\u001b[1;33m\u001b[0m\u001b[0m\n",
      "\u001b[1;32m~\\anaconda3\\lib\\site-packages\\pandas\\core\\indexes\\datetimelike.py\u001b[0m in \u001b[0;36m<module>\u001b[1;34m\u001b[0m\n\u001b[0;32m     65\u001b[0m )\n\u001b[0;32m     66\u001b[0m \u001b[1;32mfrom\u001b[0m \u001b[0mpandas\u001b[0m\u001b[1;33m.\u001b[0m\u001b[0mcore\u001b[0m\u001b[1;33m.\u001b[0m\u001b[0mindexes\u001b[0m\u001b[1;33m.\u001b[0m\u001b[0mnumeric\u001b[0m \u001b[1;32mimport\u001b[0m \u001b[0mInt64Index\u001b[0m\u001b[1;33m\u001b[0m\u001b[1;33m\u001b[0m\u001b[0m\n\u001b[1;32m---> 67\u001b[1;33m \u001b[1;32mfrom\u001b[0m \u001b[0mpandas\u001b[0m\u001b[1;33m.\u001b[0m\u001b[0mcore\u001b[0m\u001b[1;33m.\u001b[0m\u001b[0mtools\u001b[0m\u001b[1;33m.\u001b[0m\u001b[0mtimedeltas\u001b[0m \u001b[1;32mimport\u001b[0m \u001b[0mto_timedelta\u001b[0m\u001b[1;33m\u001b[0m\u001b[1;33m\u001b[0m\u001b[0m\n\u001b[0m\u001b[0;32m     68\u001b[0m \u001b[1;33m\u001b[0m\u001b[0m\n\u001b[0;32m     69\u001b[0m \u001b[1;32mif\u001b[0m \u001b[0mTYPE_CHECKING\u001b[0m\u001b[1;33m:\u001b[0m\u001b[1;33m\u001b[0m\u001b[1;33m\u001b[0m\u001b[0m\n",
      "\u001b[1;32m~\\anaconda3\\lib\\importlib\\_bootstrap.py\u001b[0m in \u001b[0;36m_find_and_load\u001b[1;34m(name, import_)\u001b[0m\n",
      "\u001b[1;32m~\\anaconda3\\lib\\importlib\\_bootstrap.py\u001b[0m in \u001b[0;36m_find_and_load_unlocked\u001b[1;34m(name, import_)\u001b[0m\n",
      "\u001b[1;32m~\\anaconda3\\lib\\importlib\\_bootstrap.py\u001b[0m in \u001b[0;36m_load_unlocked\u001b[1;34m(spec)\u001b[0m\n",
      "\u001b[1;32m~\\anaconda3\\lib\\importlib\\_bootstrap_external.py\u001b[0m in \u001b[0;36mexec_module\u001b[1;34m(self, module)\u001b[0m\n",
      "\u001b[1;32m~\\anaconda3\\lib\\importlib\\_bootstrap_external.py\u001b[0m in \u001b[0;36mget_code\u001b[1;34m(self, fullname)\u001b[0m\n",
      "\u001b[1;32m~\\anaconda3\\lib\\importlib\\_bootstrap_external.py\u001b[0m in \u001b[0;36mget_data\u001b[1;34m(self, path)\u001b[0m\n",
      "\u001b[1;31mKeyboardInterrupt\u001b[0m: "
     ]
    }
   ],
   "source": [
    "import pandas as pd"
   ]
  },
  {
   "cell_type": "code",
   "execution_count": null,
   "id": "8024de09",
   "metadata": {},
   "outputs": [],
   "source": [
    "df=pd.read_csv('https://raw.githubusercontent.com/datasciencedojo/datasets/master/titanic.csv')"
   ]
  },
  {
   "cell_type": "code",
   "execution_count": null,
   "id": "c3c82342",
   "metadata": {},
   "outputs": [],
   "source": [
    "df"
   ]
  },
  {
   "cell_type": "code",
   "execution_count": null,
   "id": "a4ce687f",
   "metadata": {},
   "outputs": [],
   "source": [
    "df.head()"
   ]
  },
  {
   "cell_type": "code",
   "execution_count": null,
   "id": "bd15d6b7",
   "metadata": {},
   "outputs": [],
   "source": [
    "df.columns"
   ]
  },
  {
   "cell_type": "code",
   "execution_count": null,
   "id": "7fd9a905",
   "metadata": {},
   "outputs": [],
   "source": [
    "df.dtypes"
   ]
  },
  {
   "cell_type": "code",
   "execution_count": null,
   "id": "976f70ae",
   "metadata": {},
   "outputs": [],
   "source": [
    "type(df.dtypes)"
   ]
  },
  {
   "cell_type": "markdown",
   "id": "3c111e3e",
   "metadata": {},
   "source": [
    "# Series is somewhat similiar to lists...We can person slicing and most of the operations"
   ]
  },
  {
   "cell_type": "code",
   "execution_count": null,
   "id": "f001592d",
   "metadata": {},
   "outputs": [],
   "source": [
    "df['Survived']"
   ]
  },
  {
   "cell_type": "code",
   "execution_count": null,
   "id": "51366eb9",
   "metadata": {},
   "outputs": [],
   "source": [
    "df['Survived'][::-1]"
   ]
  },
  {
   "cell_type": "code",
   "execution_count": null,
   "id": "b485d076",
   "metadata": {},
   "outputs": [],
   "source": [
    "df['Survived'][10]"
   ]
  },
  {
   "cell_type": "markdown",
   "id": "24cc6d31",
   "metadata": {},
   "source": [
    "# In series we cannot access values using NEGATIVE INDEXING"
   ]
  },
  {
   "cell_type": "code",
   "execution_count": null,
   "id": "0859819b",
   "metadata": {},
   "outputs": [],
   "source": [
    "\n",
    "df['Survived'][-5]"
   ]
  },
  {
   "cell_type": "code",
   "execution_count": null,
   "id": "68b6b824",
   "metadata": {},
   "outputs": [],
   "source": [
    "df.describe()"
   ]
  },
  {
   "cell_type": "code",
   "execution_count": null,
   "id": "c36325b4",
   "metadata": {},
   "outputs": [],
   "source": [
    "df.dtypes"
   ]
  },
  {
   "cell_type": "code",
   "execution_count": null,
   "id": "e5fe4291",
   "metadata": {},
   "outputs": [],
   "source": [
    "df.dtypes=='object'"
   ]
  },
  {
   "cell_type": "code",
   "execution_count": null,
   "id": "ac3bfda9",
   "metadata": {},
   "outputs": [],
   "source": [
    "df.dtypes[df.dtypes=='object']"
   ]
  },
  {
   "cell_type": "code",
   "execution_count": null,
   "id": "3aee5ce1",
   "metadata": {},
   "outputs": [],
   "source": [
    "df.dtypes[df.dtypes=='object'].index"
   ]
  },
  {
   "cell_type": "code",
   "execution_count": null,
   "id": "9d9407a6",
   "metadata": {},
   "outputs": [],
   "source": [
    "# Displays the columns and data values of a categorical type\n",
    "df[df.dtypes[df.dtypes=='object'].index]"
   ]
  },
  {
   "cell_type": "code",
   "execution_count": null,
   "id": "26d3b964",
   "metadata": {},
   "outputs": [],
   "source": [
    "Categorical=df[df.dtypes[df.dtypes=='object'].index]"
   ]
  },
  {
   "cell_type": "code",
   "execution_count": null,
   "id": "61d77744",
   "metadata": {},
   "outputs": [],
   "source": [
    "Categorical.describe()"
   ]
  },
  {
   "cell_type": "code",
   "execution_count": null,
   "id": "b13b1f16",
   "metadata": {},
   "outputs": [],
   "source": [
    "df"
   ]
  },
  {
   "cell_type": "code",
   "execution_count": null,
   "id": "a522c734",
   "metadata": {},
   "outputs": [],
   "source": [
    "df['Name']"
   ]
  },
  {
   "cell_type": "code",
   "execution_count": null,
   "id": "32624d10",
   "metadata": {},
   "outputs": [],
   "source": [
    "# Try to access more than one column\n",
    "df['Name','Fare']"
   ]
  },
  {
   "cell_type": "code",
   "execution_count": null,
   "id": "edb9db4e",
   "metadata": {},
   "outputs": [],
   "source": [
    "df[['Name','Fare']]"
   ]
  },
  {
   "cell_type": "code",
   "execution_count": null,
   "id": "e8bca24e",
   "metadata": {},
   "outputs": [],
   "source": [
    "type(df[['Name','Fare']])"
   ]
  },
  {
   "cell_type": "code",
   "execution_count": null,
   "id": "0f6800ef",
   "metadata": {},
   "outputs": [],
   "source": [
    "df['Age'].isnull()==True"
   ]
  },
  {
   "cell_type": "code",
   "execution_count": null,
   "id": "2909a163",
   "metadata": {},
   "outputs": [],
   "source": [
    "import numpy as np"
   ]
  },
  {
   "cell_type": "code",
   "execution_count": null,
   "id": "5f10882d",
   "metadata": {},
   "outputs": [],
   "source": [
    "np.where(df['Age'].isnull()==True)\n",
    "# This will fetch the list of indexes of null values"
   ]
  },
  {
   "cell_type": "code",
   "execution_count": null,
   "id": "1e97f8ab",
   "metadata": {},
   "outputs": [],
   "source": [
    "df[df['Age'].isnull()==True]"
   ]
  },
  {
   "cell_type": "markdown",
   "id": "645a8217",
   "metadata": {},
   "source": [
    "# Using iloc----> Integer location\n",
    "\n",
    "* Using iloc we can extract data row wise"
   ]
  },
  {
   "cell_type": "code",
   "execution_count": null,
   "id": "1c07049e",
   "metadata": {},
   "outputs": [],
   "source": [
    "df['Age'].isnull()"
   ]
  },
  {
   "cell_type": "code",
   "execution_count": null,
   "id": "5d87d69e",
   "metadata": {},
   "outputs": [],
   "source": [
    "df['Age'].isnull()==True"
   ]
  },
  {
   "cell_type": "code",
   "execution_count": null,
   "id": "5e5cd7fb",
   "metadata": {},
   "outputs": [],
   "source": [
    "import numpy as np\n",
    "np.where(df['Age']==True)"
   ]
  },
  {
   "cell_type": "code",
   "execution_count": null,
   "id": "a2b57b5f",
   "metadata": {},
   "outputs": [],
   "source": [
    "np.where(df['Age'].isnull()==True)"
   ]
  },
  {
   "cell_type": "code",
   "execution_count": null,
   "id": "c479e1ce",
   "metadata": {},
   "outputs": [],
   "source": [
    "df.iloc[np.where(df['Age'].isnull()==True)]"
   ]
  },
  {
   "cell_type": "code",
   "execution_count": null,
   "id": "5ec78fb6",
   "metadata": {},
   "outputs": [],
   "source": [
    "df.iloc[5]"
   ]
  },
  {
   "cell_type": "code",
   "execution_count": null,
   "id": "d76c444c",
   "metadata": {},
   "outputs": [],
   "source": [
    "df"
   ]
  },
  {
   "cell_type": "code",
   "execution_count": null,
   "id": "ce2367cd",
   "metadata": {},
   "outputs": [],
   "source": [
    "df.iloc[[1,2,3,4,5,6]]"
   ]
  },
  {
   "cell_type": "markdown",
   "id": "6d2d3ab0",
   "metadata": {},
   "source": [
    "# Get the name of person who has paid highest fare"
   ]
  },
  {
   "cell_type": "code",
   "execution_count": null,
   "id": "c76f9895",
   "metadata": {},
   "outputs": [],
   "source": [
    "df['Fare']"
   ]
  },
  {
   "cell_type": "code",
   "execution_count": null,
   "id": "15b77378",
   "metadata": {},
   "outputs": [],
   "source": [
    "max(df['Fare'])"
   ]
  },
  {
   "cell_type": "code",
   "execution_count": null,
   "id": "316cd967",
   "metadata": {},
   "outputs": [],
   "source": [
    "df['Fare']==max(df['Fare'])"
   ]
  },
  {
   "cell_type": "code",
   "execution_count": null,
   "id": "990a87a4",
   "metadata": {},
   "outputs": [],
   "source": [
    "df[df['Fare']==max(df['Fare'])]"
   ]
  },
  {
   "cell_type": "code",
   "execution_count": null,
   "id": "3950dd13",
   "metadata": {},
   "outputs": [],
   "source": [
    "df[df['Fare']==max(df['Fare'])].Name"
   ]
  },
  {
   "cell_type": "markdown",
   "id": "e6b587f3",
   "metadata": {},
   "source": [
    "# Another way of doing the same requirement"
   ]
  },
  {
   "cell_type": "code",
   "execution_count": null,
   "id": "dacb472a",
   "metadata": {},
   "outputs": [],
   "source": [
    "np.where(df['Fare']==max(df['Fare']))"
   ]
  },
  {
   "cell_type": "markdown",
   "id": "f3598792",
   "metadata": {},
   "source": [
    "# Another requirement:: Get the name of person whose age=35"
   ]
  },
  {
   "cell_type": "code",
   "execution_count": null,
   "id": "09938695",
   "metadata": {},
   "outputs": [],
   "source": [
    "df"
   ]
  },
  {
   "cell_type": "code",
   "execution_count": null,
   "id": "169e2400",
   "metadata": {},
   "outputs": [],
   "source": [
    "df=pd.read_csv('https://raw.githubusercontent.com/datasciencedojo/datasets/master/titanic.csv')"
   ]
  },
  {
   "cell_type": "code",
   "execution_count": null,
   "id": "f0ecac0d",
   "metadata": {},
   "outputs": [],
   "source": [
    "df"
   ]
  },
  {
   "cell_type": "code",
   "execution_count": null,
   "id": "c3178e15",
   "metadata": {},
   "outputs": [],
   "source": [
    "df['Age']==35.0"
   ]
  },
  {
   "cell_type": "code",
   "execution_count": null,
   "id": "f4bd5c80",
   "metadata": {},
   "outputs": [],
   "source": [
    "df[df['Age']==35.0]"
   ]
  },
  {
   "cell_type": "code",
   "execution_count": null,
   "id": "474208ac",
   "metadata": {},
   "outputs": [],
   "source": [
    "[df[df['Age']==35.0].Name]"
   ]
  },
  {
   "cell_type": "code",
   "execution_count": null,
   "id": "39a18f5a",
   "metadata": {},
   "outputs": [],
   "source": [
    "df[df['Age']==35.0].Name"
   ]
  },
  {
   "cell_type": "code",
   "execution_count": null,
   "id": "2d967a81",
   "metadata": {},
   "outputs": [],
   "source": [
    "df[df['Age']==35.0].index"
   ]
  },
  {
   "cell_type": "markdown",
   "id": "2c9c3d50",
   "metadata": {},
   "source": [
    "# Get the age of person whose cabin is \"Nan\""
   ]
  },
  {
   "cell_type": "code",
   "execution_count": null,
   "id": "4e5f4ef0",
   "metadata": {},
   "outputs": [],
   "source": [
    "df"
   ]
  },
  {
   "cell_type": "code",
   "execution_count": null,
   "id": "24be6b88",
   "metadata": {},
   "outputs": [],
   "source": [
    "df['Cabin']"
   ]
  },
  {
   "cell_type": "code",
   "execution_count": null,
   "id": "c3d38b70",
   "metadata": {},
   "outputs": [],
   "source": [
    "df['Cabin'].isnull()"
   ]
  },
  {
   "cell_type": "code",
   "execution_count": null,
   "id": "38c571d1",
   "metadata": {},
   "outputs": [],
   "source": [
    "df[df['Cabin'].isnull()]"
   ]
  },
  {
   "cell_type": "code",
   "execution_count": null,
   "id": "e0b3a29d",
   "metadata": {},
   "outputs": [],
   "source": [
    "df[df['Cabin'].isnull()].Age"
   ]
  },
  {
   "cell_type": "code",
   "execution_count": null,
   "id": "34263624",
   "metadata": {},
   "outputs": [],
   "source": [
    "df[['Age','Cabin']][df['Cabin'].isnull()]"
   ]
  },
  {
   "cell_type": "code",
   "execution_count": null,
   "id": "9461bbea",
   "metadata": {},
   "outputs": [],
   "source": [
    "df"
   ]
  },
  {
   "cell_type": "markdown",
   "id": "c7d71d50",
   "metadata": {},
   "source": [
    "# Requirement: How many male passengers survived"
   ]
  },
  {
   "cell_type": "code",
   "execution_count": null,
   "id": "80fdc2af",
   "metadata": {},
   "outputs": [],
   "source": [
    "df['Sex']"
   ]
  },
  {
   "cell_type": "code",
   "execution_count": null,
   "id": "fa2f9448",
   "metadata": {},
   "outputs": [],
   "source": [
    "df['Sex']=='male'"
   ]
  },
  {
   "cell_type": "code",
   "execution_count": null,
   "id": "d48d5c14",
   "metadata": {},
   "outputs": [],
   "source": [
    "df[df['Sex']=='male']"
   ]
  },
  {
   "cell_type": "code",
   "execution_count": null,
   "id": "188ca854",
   "metadata": {},
   "outputs": [],
   "source": [
    "male_survived=df[df['Sex']=='male'].Survived\n"
   ]
  },
  {
   "cell_type": "code",
   "execution_count": null,
   "id": "53150224",
   "metadata": {},
   "outputs": [],
   "source": [
    "male_survived"
   ]
  },
  {
   "cell_type": "code",
   "execution_count": null,
   "id": "0cc2a02a",
   "metadata": {},
   "outputs": [],
   "source": [
    "df[['Name']][df[male_survived]]"
   ]
  },
  {
   "cell_type": "code",
   "execution_count": null,
   "id": "dfabff77",
   "metadata": {},
   "outputs": [],
   "source": [
    "df.Name"
   ]
  },
  {
   "cell_type": "code",
   "execution_count": null,
   "id": "5f088c04",
   "metadata": {},
   "outputs": [],
   "source": [
    "df[\"Name\"]"
   ]
  },
  {
   "cell_type": "code",
   "execution_count": null,
   "id": "914fa586",
   "metadata": {},
   "outputs": [],
   "source": [
    "((df.Survived==1) & ( df.Sex=='Male'))"
   ]
  },
  {
   "cell_type": "code",
   "execution_count": null,
   "id": "d6e653ce",
   "metadata": {},
   "outputs": [],
   "source": [
    "df[\"Name\"][((df.Survived==1) & ( df.Sex=='male'))]"
   ]
  },
  {
   "cell_type": "code",
   "execution_count": null,
   "id": "cbe62346",
   "metadata": {},
   "outputs": [],
   "source": [
    "df"
   ]
  },
  {
   "cell_type": "code",
   "execution_count": null,
   "id": "8071a468",
   "metadata": {},
   "outputs": [],
   "source": [
    "df[\"Name\"]"
   ]
  },
  {
   "cell_type": "code",
   "execution_count": null,
   "id": "ca204268",
   "metadata": {},
   "outputs": [],
   "source": [
    "[((df.Survived==1) & ( df.Sex=='male'))]"
   ]
  },
  {
   "cell_type": "code",
   "execution_count": null,
   "id": "2d6d37ff",
   "metadata": {},
   "outputs": [],
   "source": [
    "df[\"Name\"][((df.Survived==1) & ( df.Sex=='male'))]"
   ]
  },
  {
   "cell_type": "markdown",
   "id": "ed244cf9",
   "metadata": {},
   "source": [
    "# How to generate a random numbers::"
   ]
  },
  {
   "cell_type": "code",
   "execution_count": null,
   "id": "170c24b5",
   "metadata": {},
   "outputs": [],
   "source": [
    "import numpy as np"
   ]
  },
  {
   "cell_type": "code",
   "execution_count": null,
   "id": "6c9397e6",
   "metadata": {},
   "outputs": [],
   "source": [
    "np.random.rand(4,3)"
   ]
  },
  {
   "cell_type": "code",
   "execution_count": null,
   "id": "698c3873",
   "metadata": {},
   "outputs": [],
   "source": [
    "Random_numbers_generation=np.random.rand(10,10)"
   ]
  },
  {
   "cell_type": "code",
   "execution_count": null,
   "id": "0eb5e8ff",
   "metadata": {},
   "outputs": [],
   "source": [
    "Random_numbers_generation"
   ]
  },
  {
   "cell_type": "markdown",
   "id": "bb431e4b",
   "metadata": {},
   "source": [
    "# Difference between iloc and loc::\n",
    "\n",
    "* Loc :: It is a label based data selecting method\n",
    "\n"
   ]
  },
  {
   "cell_type": "code",
   "execution_count": null,
   "id": "735f6598",
   "metadata": {},
   "outputs": [],
   "source": [
    "import pandas as pd"
   ]
  },
  {
   "cell_type": "code",
   "execution_count": null,
   "id": "4a686a9d",
   "metadata": {},
   "outputs": [],
   "source": [
    "df11=pd.read_csv('https://raw.githubusercontent.com/datasciencedojo/datasets/master/titanic.csv')"
   ]
  },
  {
   "cell_type": "code",
   "execution_count": null,
   "id": "365b83c5",
   "metadata": {},
   "outputs": [],
   "source": [
    "df11"
   ]
  },
  {
   "cell_type": "markdown",
   "id": "1ba69023",
   "metadata": {},
   "source": [
    "# LOC:: It is a label based selection"
   ]
  },
  {
   "cell_type": "code",
   "execution_count": null,
   "id": "b2b9817e",
   "metadata": {},
   "outputs": [],
   "source": [
    "df11.loc[3,'PassengerId']"
   ]
  },
  {
   "cell_type": "code",
   "execution_count": null,
   "id": "fd17bb0c",
   "metadata": {},
   "outputs": [],
   "source": [
    "df11.loc[3]"
   ]
  },
  {
   "cell_type": "code",
   "execution_count": null,
   "id": "c787a03a",
   "metadata": {},
   "outputs": [],
   "source": [
    "df11.loc[0:4,'Name']"
   ]
  },
  {
   "cell_type": "code",
   "execution_count": null,
   "id": "19c94dc8",
   "metadata": {},
   "outputs": [],
   "source": [
    "df11.loc[0:4,'Name','Fare']"
   ]
  },
  {
   "cell_type": "markdown",
   "id": "7a58b7e3",
   "metadata": {},
   "source": [
    "# USE LISTS TO GET RID OF ABOVE ERROR"
   ]
  },
  {
   "cell_type": "code",
   "execution_count": null,
   "id": "303f5fb5",
   "metadata": {},
   "outputs": [],
   "source": [
    "df11.loc[0:4,['Name','Fare']]"
   ]
  },
  {
   "cell_type": "markdown",
   "id": "1409c1ba",
   "metadata": {},
   "source": [
    "## Slicing using labels"
   ]
  },
  {
   "cell_type": "code",
   "execution_count": null,
   "id": "7696cc39",
   "metadata": {},
   "outputs": [],
   "source": [
    "df11.loc[0:4,'Name':'Fare']"
   ]
  },
  {
   "cell_type": "code",
   "execution_count": null,
   "id": "ce00cc2c",
   "metadata": {},
   "outputs": [],
   "source": [
    "df11"
   ]
  },
  {
   "cell_type": "code",
   "execution_count": null,
   "id": "e04629f2",
   "metadata": {},
   "outputs": [],
   "source": [
    "df11.loc[0:4,'PassengerId':'Embarked']"
   ]
  },
  {
   "cell_type": "markdown",
   "id": "0b14db74",
   "metadata": {},
   "source": [
    "# iloc::\n",
    "\n",
    "* It is completely an index based selection"
   ]
  },
  {
   "cell_type": "code",
   "execution_count": null,
   "id": "6460b0c0",
   "metadata": {},
   "outputs": [],
   "source": [
    "# Will ge error\n",
    "df11.iloc[0:4,'PassengerId':'Embarked']"
   ]
  },
  {
   "cell_type": "code",
   "execution_count": null,
   "id": "aaf18b41",
   "metadata": {},
   "outputs": [],
   "source": [
    "df11.iloc[0:4,0:]"
   ]
  },
  {
   "cell_type": "code",
   "execution_count": null,
   "id": "72fb287c",
   "metadata": {},
   "outputs": [],
   "source": [
    "df11.iloc[0:4,1:5]"
   ]
  },
  {
   "cell_type": "code",
   "execution_count": null,
   "id": "711e22a5",
   "metadata": {},
   "outputs": [],
   "source": [
    "df11.iloc[0:4]"
   ]
  },
  {
   "cell_type": "code",
   "execution_count": null,
   "id": "28976ce1",
   "metadata": {},
   "outputs": [],
   "source": [
    "df11.iloc[0:4,0:2:2]"
   ]
  },
  {
   "cell_type": "markdown",
   "id": "c252d960",
   "metadata": {},
   "source": [
    "# Another difference between loc and iloc\n",
    "\n",
    "* Here df.loc[0:4]=====> The last index (4) will be considered in loc\n",
    "\n",
    "* Here df.iloc[0:4]====> The last index (4) will not be considerded in iloc"
   ]
  },
  {
   "cell_type": "code",
   "execution_count": null,
   "id": "64214046",
   "metadata": {},
   "outputs": [],
   "source": [
    "df11.loc[0:4] \n",
    "# The last index 4 is considered"
   ]
  },
  {
   "cell_type": "code",
   "execution_count": null,
   "id": "cb983fe7",
   "metadata": {},
   "outputs": [],
   "source": [
    "df11.iloc[0:4]\n",
    "# The last index is not considered"
   ]
  },
  {
   "cell_type": "code",
   "execution_count": null,
   "id": "3880af47",
   "metadata": {},
   "outputs": [],
   "source": [
    "# I want only the PassengerId and Fare of all passengers\n",
    "df11.iloc[0:,[0,9]]"
   ]
  },
  {
   "cell_type": "code",
   "execution_count": null,
   "id": "2d278e59",
   "metadata": {},
   "outputs": [],
   "source": [
    "# I want only the PassengerId and Fare of first 5 passengers\n",
    "df11.iloc[0:5,[0,9]]"
   ]
  },
  {
   "cell_type": "code",
   "execution_count": null,
   "id": "1d623a42",
   "metadata": {},
   "outputs": [],
   "source": [
    "type(df11.iloc[0:5,[0,9]])"
   ]
  },
  {
   "cell_type": "markdown",
   "id": "6b1fe89c",
   "metadata": {},
   "source": [
    "# How to make a dataset using random numbers::"
   ]
  },
  {
   "cell_type": "code",
   "execution_count": null,
   "id": "96626e5d",
   "metadata": {},
   "outputs": [],
   "source": [
    "np.random.randint(3,6,(5,4))\n",
    "# Here 3,6---to get the values between 3 to 6\n",
    "# Here (5,4)--mean 5 rows and 4 columns"
   ]
  },
  {
   "cell_type": "code",
   "execution_count": null,
   "id": "e7b1fc00",
   "metadata": {},
   "outputs": [],
   "source": [
    "df123=pd.DataFrame(np.random.randint(3,6,(5,4)))"
   ]
  },
  {
   "cell_type": "code",
   "execution_count": null,
   "id": "5749a52f",
   "metadata": {},
   "outputs": [],
   "source": [
    "df123"
   ]
  },
  {
   "cell_type": "code",
   "execution_count": null,
   "id": "1e79b6cc",
   "metadata": {},
   "outputs": [],
   "source": [
    "pd.DataFrame(np.random.randint(0,50,(50,6)))"
   ]
  },
  {
   "cell_type": "markdown",
   "id": "96cb219a",
   "metadata": {},
   "source": [
    "# How to give my own row name and column name"
   ]
  },
  {
   "cell_type": "code",
   "execution_count": null,
   "id": "84249c2d",
   "metadata": {},
   "outputs": [],
   "source": [
    "pd.DataFrame(np.random.randint(0,50,(5,5)))"
   ]
  },
  {
   "cell_type": "code",
   "execution_count": null,
   "id": "d0f464f3",
   "metadata": {},
   "outputs": [],
   "source": [
    "df222=pd.DataFrame(np.random.randint(0,50,(5,5)),index=['A','B','C','D','E'],columns=['Roll','Id','Reg','Tag','Govt'])"
   ]
  },
  {
   "cell_type": "code",
   "execution_count": null,
   "id": "9ef22d5e",
   "metadata": {},
   "outputs": [],
   "source": [
    "df222"
   ]
  },
  {
   "cell_type": "code",
   "execution_count": null,
   "id": "3d27ce7a",
   "metadata": {},
   "outputs": [],
   "source": [
    "df222.describe()"
   ]
  },
  {
   "cell_type": "code",
   "execution_count": null,
   "id": "6a085c78",
   "metadata": {},
   "outputs": [],
   "source": [
    "df222"
   ]
  },
  {
   "cell_type": "code",
   "execution_count": null,
   "id": "48e6290a",
   "metadata": {},
   "outputs": [],
   "source": [
    "df222.loc[['D','E'],'Reg':'Tag']"
   ]
  },
  {
   "cell_type": "code",
   "execution_count": null,
   "id": "d2f0d640",
   "metadata": {},
   "outputs": [],
   "source": []
  },
  {
   "cell_type": "code",
   "execution_count": null,
   "id": "24a54537",
   "metadata": {},
   "outputs": [],
   "source": []
  },
  {
   "cell_type": "code",
   "execution_count": null,
   "id": "a2b4ff75",
   "metadata": {},
   "outputs": [],
   "source": []
  },
  {
   "cell_type": "code",
   "execution_count": null,
   "id": "b9aeae5e",
   "metadata": {},
   "outputs": [],
   "source": []
  },
  {
   "cell_type": "code",
   "execution_count": null,
   "id": "70ef848e",
   "metadata": {},
   "outputs": [],
   "source": []
  },
  {
   "cell_type": "code",
   "execution_count": null,
   "id": "efb29eea",
   "metadata": {},
   "outputs": [],
   "source": []
  },
  {
   "cell_type": "code",
   "execution_count": null,
   "id": "b46d4b06",
   "metadata": {},
   "outputs": [],
   "source": []
  },
  {
   "cell_type": "code",
   "execution_count": null,
   "id": "6a1abe34",
   "metadata": {},
   "outputs": [],
   "source": [
    "df222.loc[['D','E']][['Reg','Tag']]"
   ]
  },
  {
   "cell_type": "code",
   "execution_count": null,
   "id": "35dabc1f",
   "metadata": {},
   "outputs": [],
   "source": [
    "df2=pd.DataFrame(np.random.randint(0,50,(5,5)),columns=['Roll','Id','Reg','Tag','Govt'])"
   ]
  },
  {
   "cell_type": "code",
   "execution_count": null,
   "id": "fbebdf76",
   "metadata": {},
   "outputs": [],
   "source": [
    "df2"
   ]
  },
  {
   "cell_type": "code",
   "execution_count": null,
   "id": "ddbd1f95",
   "metadata": {},
   "outputs": [],
   "source": [
    "df2.iloc[1:3]"
   ]
  },
  {
   "cell_type": "code",
   "execution_count": null,
   "id": "0b4e4e6b",
   "metadata": {},
   "outputs": [],
   "source": [
    "#df11.iloc[0:5,[0,9]]\n",
    "df2.iloc[1:3,[2,3,4]]"
   ]
  },
  {
   "cell_type": "code",
   "execution_count": null,
   "id": "bc9817b5",
   "metadata": {},
   "outputs": [],
   "source": [
    "df222=pd.DataFrame(np.random.randint(0,50,(5,5)),index=['A','B','C','D','E'],columns=['Roll','Id','Reg','Tag','Govt'])"
   ]
  },
  {
   "cell_type": "code",
   "execution_count": null,
   "id": "8f9ac5e2",
   "metadata": {},
   "outputs": [],
   "source": [
    "df222"
   ]
  },
  {
   "cell_type": "code",
   "execution_count": null,
   "id": "d1a38b3b",
   "metadata": {},
   "outputs": [],
   "source": [
    "df222.loc['C':'E']"
   ]
  },
  {
   "cell_type": "code",
   "execution_count": null,
   "id": "3d32c2c8",
   "metadata": {},
   "outputs": [],
   "source": [
    "df222.loc['C':'E'][['Reg','Tag','Govt']]"
   ]
  },
  {
   "cell_type": "code",
   "execution_count": null,
   "id": "ae5f1446",
   "metadata": {},
   "outputs": [],
   "source": [
    "df222.loc[['C','D'],['Roll','Id']]"
   ]
  },
  {
   "cell_type": "markdown",
   "id": "95982787",
   "metadata": {},
   "source": [
    "# Creating a dataframe using DICTIONARY"
   ]
  },
  {
   "cell_type": "code",
   "execution_count": null,
   "id": "9d557a05",
   "metadata": {},
   "outputs": [],
   "source": []
  }
 ],
 "metadata": {
  "kernelspec": {
   "display_name": "Python 3 (ipykernel)",
   "language": "python",
   "name": "python3"
  },
  "language_info": {
   "codemirror_mode": {
    "name": "ipython",
    "version": 3
   },
   "file_extension": ".py",
   "mimetype": "text/x-python",
   "name": "python",
   "nbconvert_exporter": "python",
   "pygments_lexer": "ipython3",
   "version": "3.9.7"
  }
 },
 "nbformat": 4,
 "nbformat_minor": 5
}
