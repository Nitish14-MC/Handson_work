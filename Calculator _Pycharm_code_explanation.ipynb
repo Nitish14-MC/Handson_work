{
 "cells": [
  {
   "cell_type": "code",
   "execution_count": 1,
   "id": "75c931d6",
   "metadata": {},
   "outputs": [],
   "source": [
    "def math_operation(operation,num1,num2):\n",
    "        if(operation=='add'):\n",
    "            r=num1+num2\n",
    "            result= 'the sum of '+str(num1)+' and '+str(num2) +' is '+str(r)\n",
    "        if (operation == 'subtract'):\n",
    "            r = num1 - num2\n",
    "            result = 'the difference of ' + str(num1) + ' and ' + str(num2) + ' is ' + str(r)\n",
    "        if (operation == 'multiply'):\n",
    "            r = num1 * num2\n",
    "            result = 'the product of ' + str(num1) + ' and ' + str(num2) + ' is ' + str(r)\n",
    "        if (operation == 'divide'):\n",
    "            r = num1 / num2\n",
    "            result = 'the quotient when ' + str(num1) + ' is divided by ' + str(num2) + ' is ' + str(r)\n",
    "        return result"
   ]
  },
  {
   "cell_type": "code",
   "execution_count": 3,
   "id": "1f1f04b0",
   "metadata": {},
   "outputs": [
    {
     "data": {
      "text/plain": [
       "'the sum of 25 and 2 is 27'"
      ]
     },
     "execution_count": 3,
     "metadata": {},
     "output_type": "execute_result"
    }
   ],
   "source": [
    "math_operation('add',25,2)"
   ]
  },
  {
   "cell_type": "code",
   "execution_count": 4,
   "id": "f8def613",
   "metadata": {},
   "outputs": [
    {
     "data": {
      "text/plain": [
       "'the difference of 25 and 2 is 23'"
      ]
     },
     "execution_count": 4,
     "metadata": {},
     "output_type": "execute_result"
    }
   ],
   "source": [
    "math_operation('subtract',25,2)"
   ]
  },
  {
   "cell_type": "code",
   "execution_count": 5,
   "id": "4d7b08fb",
   "metadata": {},
   "outputs": [
    {
     "data": {
      "text/plain": [
       "'the product of 25 and 2 is 50'"
      ]
     },
     "execution_count": 5,
     "metadata": {},
     "output_type": "execute_result"
    }
   ],
   "source": [
    "math_operation('multiply',25,2)"
   ]
  },
  {
   "cell_type": "code",
   "execution_count": 6,
   "id": "d425f4a7",
   "metadata": {},
   "outputs": [
    {
     "data": {
      "text/plain": [
       "'the quotient when 25 is divided by 2 is 12.5'"
      ]
     },
     "execution_count": 6,
     "metadata": {},
     "output_type": "execute_result"
    }
   ],
   "source": [
    "math_operation('divide',25,2)"
   ]
  },
  {
   "cell_type": "code",
   "execution_count": null,
   "id": "546acf84",
   "metadata": {},
   "outputs": [],
   "source": []
  },
  {
   "cell_type": "markdown",
   "id": "ded5cc38",
   "metadata": {},
   "source": [
    "# What if ,I can execute the above code using POSTMAN"
   ]
  },
  {
   "cell_type": "markdown",
   "id": "5af8e99d",
   "metadata": {},
   "source": [
    "## which mean calling from outside the code"
   ]
  },
  {
   "cell_type": "code",
   "execution_count": null,
   "id": "cc265a20",
   "metadata": {},
   "outputs": [],
   "source": []
  },
  {
   "cell_type": "markdown",
   "id": "e8136816",
   "metadata": {},
   "source": [
    "# We will execute this using postman call.....Which mean to access the code from outside"
   ]
  },
  {
   "cell_type": "code",
   "execution_count": null,
   "id": "d05fa627",
   "metadata": {},
   "outputs": [],
   "source": []
  },
  {
   "cell_type": "markdown",
   "id": "ba5e6a7b",
   "metadata": {},
   "source": [
    "# Postman is used to test the API's"
   ]
  },
  {
   "cell_type": "code",
   "execution_count": null,
   "id": "4c23ee6e",
   "metadata": {},
   "outputs": [],
   "source": []
  },
  {
   "cell_type": "code",
   "execution_count": null,
   "id": "4c9adc86",
   "metadata": {},
   "outputs": [],
   "source": []
  },
  {
   "cell_type": "code",
   "execution_count": 7,
   "id": "0af35096",
   "metadata": {},
   "outputs": [],
   "source": [
    "# This is the url which we give in the postman:::    http://127.0.0.1:5000/via_postman\n",
    "\n",
    "# http://127.0.0.1:5000 --> using this will help to reach the particular port where ,python program is present\n",
    "\n",
    "# /via_postman ---> using this function route ,will help to reach to the particular function"
   ]
  },
  {
   "cell_type": "code",
   "execution_count": null,
   "id": "84255725",
   "metadata": {},
   "outputs": [],
   "source": []
  }
 ],
 "metadata": {
  "kernelspec": {
   "display_name": "Python 3 (ipykernel)",
   "language": "python",
   "name": "python3"
  },
  "language_info": {
   "codemirror_mode": {
    "name": "ipython",
    "version": 3
   },
   "file_extension": ".py",
   "mimetype": "text/x-python",
   "name": "python",
   "nbconvert_exporter": "python",
   "pygments_lexer": "ipython3",
   "version": "3.9.12"
  }
 },
 "nbformat": 4,
 "nbformat_minor": 5
}
